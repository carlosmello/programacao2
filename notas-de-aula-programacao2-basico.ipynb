{
 "cells": [
  {
   "cell_type": "markdown",
   "metadata": {},
   "source": [
    "## Notas de aula - Básico\n",
    "\n",
    "### Disciplina de Programação 2 \n",
    "\n",
    "Disciplina oferecida para o Bacharelado em Engenharia de Produção da UNIRIO.\n",
    "\n",
    "Prof. **Carlos Eduardo** R. de Mello\n",
    "\n",
    "Colaboração: Mariana Oliveira | Daniel Ielpo\n",
    "\n",
    "<small>Última atualização: 23 de setembro de 2021.</small>"
   ]
  },
  {
   "cell_type": "markdown",
   "metadata": {},
   "source": [
    "## Estrutura dos tópicos\n",
    "1. Variáveis, Tipos e Estuturas de Dados\n",
    "    - Números e operações matemáticas\n",
    "    - Booleano e operações booleanas\n",
    "    - Strings\n",
    "    - Listas\n",
    "    - Tuplas\n",
    "    - Dicionários\n",
    "2. Estruturas de controle de fluxo\n",
    "    - Condicionais (If/Else/Elif)\n",
    "    - Laços de repetição\n",
    "        - For/While\n",
    "        - Range\n",
    "        - Break/Continue\n",
    "3. Funções\n",
    "    - Declaração & Chamada\n",
    "    - Passagem de parâmetros\n",
    "    - Escopo\n",
    "    - Recursão\n",
    "    - Funções lambda\n",
    "4. Módulos\n",
    "    - Declaração\n",
    "    - Importação\n",
    "    - Módulos Built-in\n",
    "        "
   ]
  },
  {
   "cell_type": "markdown",
   "metadata": {},
   "source": [
    "## Parte I"
   ]
  },
  {
   "cell_type": "markdown",
   "metadata": {},
   "source": [
    "## Conceitos básicos\n",
    "### Variáveis\n",
    "Refere-se como **variáveis** espaços em memória cujos conteúdos variam durante a execução de um programa/algoritmo. Estes funcionam como \"caixas\" que armazenam valores. Um comando de *atribuição* (ou *declaração*) cria uma nova variável, atribuindo um valor, que podem ser dos tipos numéricos, alfanuméricos ou lógicos.\n",
    "\n",
    "Um comando de atribuição tem a seguinte sintaxe:  \n",
    "```variável = expressão```\n",
    "\n",
    "Neste, o valor da expressão é calculado, a variável é criada e a variável passa a fazer referência e a guardar o valor."
   ]
  },
  {
   "cell_type": "markdown",
   "metadata": {},
   "source": [
    "### Sumário\n",
    "\n",
    "1. [Números e operações matemáticas](#head1)\n",
    "    1. [Imprimindo o conteúdo de uma variável](#head1a)\n",
    "    2. [Recebendo dados do teclado](#head1b)\n",
    "    4. [Operações aritméticas](#head1c)\n",
    "    5. [Precedência dos operadores aritméticos](#head1d)\n",
    "6. [Booleano e operações booleanas](#head2)\n",
    "    1. [Precedência dos operadores lógicos](#head2a)\n",
    "8. [Strings](#head3)\n",
    "    1. [Funções de string](#head3a)\n",
    "    2. [Soma de strings](#head3b)\n",
    "11. [Coerção (casting)](#head4)"
   ]
  },
  {
   "cell_type": "markdown",
   "metadata": {},
   "source": [
    "### 1. Números e operações matemáticas <a class=\"anchor\" id=\"head1\"></a>  "
   ]
  },
  {
   "cell_type": "code",
   "execution_count": 4,
   "metadata": {},
   "outputs": [],
   "source": [
    "x = 10 # variavel inteira\n",
    "y = 3.14 # variavel real\n",
    "w = 2e-3 # variavel notacao cientifica"
   ]
  },
  {
   "cell_type": "markdown",
   "metadata": {},
   "source": [
    "### 1. A. Imprimindo o conteúdo de uma variável <a class=\"anchor\" id=\"head1a\"></a>\n",
    "A função `print()` é utilizada para o programa exibir mensagens. Ao passar uma variável, exibe seu conteúdo."
   ]
  },
  {
   "cell_type": "code",
   "execution_count": 5,
   "metadata": {},
   "outputs": [
    {
     "name": "stdout",
     "output_type": "stream",
     "text": [
      "10\n",
      "3.14\n",
      "0.002\n"
     ]
    }
   ],
   "source": [
    "print(x)\n",
    "print(y)\n",
    "print(w)"
   ]
  },
  {
   "cell_type": "code",
   "execution_count": 6,
   "metadata": {},
   "outputs": [
    {
     "name": "stdout",
     "output_type": "stream",
     "text": [
      "10 3.14 0.002\n"
     ]
    }
   ],
   "source": [
    "# No Python 3 ou superior, é possível passar vários conteúdos para a função print separado por vírgula\n",
    "print(x, y, w)"
   ]
  },
  {
   "cell_type": "code",
   "execution_count": 7,
   "metadata": {},
   "outputs": [
    {
     "name": "stdout",
     "output_type": "stream",
     "text": [
      "10|3.14*"
     ]
    }
   ],
   "source": [
    "# O conteúdo do parâmetro \"end\" é adicionado ao final\n",
    "print(x, end='|')\n",
    "print(y, end='*')"
   ]
  },
  {
   "cell_type": "code",
   "execution_count": 8,
   "metadata": {},
   "outputs": [
    {
     "name": "stdout",
     "output_type": "stream",
     "text": [
      "Carlos é portugues.\n",
      "Há muitos \"mitos\". \n"
     ]
    }
   ],
   "source": [
    "# Também pode ser passado texto para a função print\n",
    "print('Carlos é portugues.')\n",
    "\n",
    "# Para usar aspas duplas, tendo escrito o texto com aspas duplas, é preciso usar a barra invertida\n",
    "# para o código entender que não é o final do texto.\n",
    "print(\"Há muitos \\\"mitos\\\". \")"
   ]
  },
  {
   "cell_type": "code",
   "execution_count": 9,
   "metadata": {},
   "outputs": [
    {
     "name": "stdout",
     "output_type": "stream",
     "text": [
      "Irene nasceu em Fornos de Algodres há 10 anos.\n"
     ]
    }
   ],
   "source": [
    "print('Irene nasceu em Fornos de Algodres há', x, 'anos.')"
   ]
  },
  {
   "cell_type": "markdown",
   "metadata": {},
   "source": [
    "### 1. B. Recebendo dados do teclado <a class=\"anchor\" id=\"head1b\"></a>\n",
    "Um programa pode utilizar a função `input()` para receber os dados ou valores que um usuário fornece através do teclado. O valor que a função `input()` captura é sempre um texto (string)."
   ]
  },
  {
   "cell_type": "code",
   "execution_count": 10,
   "metadata": {},
   "outputs": [
    {
     "name": "stdout",
     "output_type": "stream",
     "text": [
      "23\n"
     ]
    }
   ],
   "source": [
    "# Execute essa célula para ver a caixa de texto que surge para digitar!\n",
    "idade = input()"
   ]
  },
  {
   "cell_type": "code",
   "execution_count": 11,
   "metadata": {},
   "outputs": [
    {
     "data": {
      "text/plain": [
       "str"
      ]
     },
     "execution_count": 11,
     "metadata": {},
     "output_type": "execute_result"
    }
   ],
   "source": [
    "# A função type exibe qual o tipo da variável, str=string (texto)\n",
    "type(idade)"
   ]
  },
  {
   "cell_type": "code",
   "execution_count": 12,
   "metadata": {},
   "outputs": [
    {
     "name": "stdout",
     "output_type": "stream",
     "text": [
      "Carlos nasceu em Fornos de Algodres há 23 anos.\n"
     ]
    }
   ],
   "source": [
    "print('Carlos nasceu em Fornos de Algodres há', idade, 'anos.')"
   ]
  },
  {
   "cell_type": "code",
   "execution_count": 13,
   "metadata": {},
   "outputs": [
    {
     "name": "stdout",
     "output_type": "stream",
     "text": [
      "Digite sua idade 34\n"
     ]
    }
   ],
   "source": [
    "idade = input(\"Digite sua idade \")"
   ]
  },
  {
   "cell_type": "markdown",
   "metadata": {},
   "source": [
    "### 1. C. Operações aritméticas <a class=\"anchor\" id=\"head1c\"></a>\n",
    "\n",
    "* Soma: `+`\n",
    "* Subtração: `-`\n",
    "* Produto: `*` \n",
    "* Divisão real: `/`\n",
    "* Divisão inteira: `//`\n",
    "* Resto inteiro da divisão: `%`\n",
    "* Exponenciação: `**`"
   ]
  },
  {
   "cell_type": "code",
   "execution_count": 11,
   "metadata": {},
   "outputs": [
    {
     "data": {
      "text/plain": [
       "7"
      ]
     },
     "execution_count": 11,
     "metadata": {},
     "output_type": "execute_result"
    }
   ],
   "source": [
    "2 + 5"
   ]
  },
  {
   "cell_type": "code",
   "execution_count": 12,
   "metadata": {},
   "outputs": [
    {
     "data": {
      "text/plain": [
       "-3"
      ]
     },
     "execution_count": 12,
     "metadata": {},
     "output_type": "execute_result"
    }
   ],
   "source": [
    "2 - 5"
   ]
  },
  {
   "cell_type": "code",
   "execution_count": 13,
   "metadata": {},
   "outputs": [
    {
     "data": {
      "text/plain": [
       "10"
      ]
     },
     "execution_count": 13,
     "metadata": {},
     "output_type": "execute_result"
    }
   ],
   "source": [
    "2 * 5"
   ]
  },
  {
   "cell_type": "code",
   "execution_count": 14,
   "metadata": {},
   "outputs": [
    {
     "data": {
      "text/plain": [
       "0.4"
      ]
     },
     "execution_count": 14,
     "metadata": {},
     "output_type": "execute_result"
    }
   ],
   "source": [
    "2 / 5 # o quociente da divisão de 2 por 5 em reais"
   ]
  },
  {
   "cell_type": "code",
   "execution_count": 15,
   "metadata": {},
   "outputs": [
    {
     "data": {
      "text/plain": [
       "0"
      ]
     },
     "execution_count": 15,
     "metadata": {},
     "output_type": "execute_result"
    }
   ],
   "source": [
    "2 // 5 # o quociente da divisão de 2 por 5 em natural"
   ]
  },
  {
   "cell_type": "code",
   "execution_count": 16,
   "metadata": {},
   "outputs": [
    {
     "data": {
      "text/plain": [
       "0"
      ]
     },
     "execution_count": 16,
     "metadata": {},
     "output_type": "execute_result"
    }
   ],
   "source": [
    "2 // 5 # o quociente da divisão de 2 por 5 em natural"
   ]
  },
  {
   "cell_type": "code",
   "execution_count": 17,
   "metadata": {},
   "outputs": [
    {
     "data": {
      "text/plain": [
       "2"
      ]
     },
     "execution_count": 17,
     "metadata": {},
     "output_type": "execute_result"
    }
   ],
   "source": [
    "2 % 5 # resto inteiro da divisão de 2 por 5"
   ]
  },
  {
   "cell_type": "code",
   "execution_count": 18,
   "metadata": {},
   "outputs": [
    {
     "data": {
      "text/plain": [
       "32"
      ]
     },
     "execution_count": 18,
     "metadata": {},
     "output_type": "execute_result"
    }
   ],
   "source": [
    "2 ** 5"
   ]
  },
  {
   "cell_type": "code",
   "execution_count": 19,
   "metadata": {},
   "outputs": [
    {
     "data": {
      "text/plain": [
       "2.0"
      ]
     },
     "execution_count": 19,
     "metadata": {},
     "output_type": "execute_result"
    }
   ],
   "source": [
    "4 ** 1/2"
   ]
  },
  {
   "cell_type": "code",
   "execution_count": 20,
   "metadata": {},
   "outputs": [
    {
     "data": {
      "text/plain": [
       "750.0"
      ]
     },
     "execution_count": 20,
     "metadata": {},
     "output_type": "execute_result"
    }
   ],
   "source": [
    "3e3 / 4"
   ]
  },
  {
   "cell_type": "code",
   "execution_count": 21,
   "metadata": {},
   "outputs": [
    {
     "data": {
      "text/plain": [
       "8"
      ]
     },
     "execution_count": 21,
     "metadata": {},
     "output_type": "execute_result"
    }
   ],
   "source": [
    "x = 6\n",
    "y = 4\n",
    "\n",
    "z = x % y\n",
    "\n",
    "z**3"
   ]
  },
  {
   "cell_type": "markdown",
   "metadata": {},
   "source": [
    "### 1. D. Precedência dos operadores aritméticos <a class=\"anchor\" id=\"head1d\"></a>\n",
    "\n",
    "A ordem de precedência é a mesma da aritmética clássica:\n",
    "\n",
    "* Parênteses tem a mais alta precedência e podem ser usados para forçar que uma expressão seja calculada na ordem que você deseja.     \n",
    "* Exponenciação tem a segunda precedência mais alta.      \n",
    "* Multiplicação e ambas as divisões têm a mesma precedência, que são mais altas que adição e subtração, que também têm a mesma precedência.     \n",
    "* Operadores com a mesma precedência são executados da esquerda para a direita."
   ]
  },
  {
   "cell_type": "code",
   "execution_count": 22,
   "metadata": {},
   "outputs": [
    {
     "data": {
      "text/plain": [
       "531441"
      ]
     },
     "execution_count": 22,
     "metadata": {},
     "output_type": "execute_result"
    }
   ],
   "source": [
    "((4 * 4 + 3) + 2 * 4)**(3 + 1)"
   ]
  },
  {
   "cell_type": "markdown",
   "metadata": {},
   "source": [
    "### 2. Booleano e operações booleanas <a class=\"anchor\" id=\"head2\"></a>\n",
    "As variáveis lógicas podem guardar apenas dois valores: Verdadeiro (`True`) ou Falso (`False`)."
   ]
  },
  {
   "cell_type": "code",
   "execution_count": 23,
   "metadata": {},
   "outputs": [],
   "source": [
    "z = True # variavel lógica verdadeira\n",
    "h = False # variavel lógica falsa"
   ]
  },
  {
   "cell_type": "code",
   "execution_count": 24,
   "metadata": {},
   "outputs": [
    {
     "data": {
      "text/plain": [
       "False"
      ]
     },
     "execution_count": 24,
     "metadata": {},
     "output_type": "execute_result"
    }
   ],
   "source": [
    "not z"
   ]
  },
  {
   "cell_type": "code",
   "execution_count": 25,
   "metadata": {},
   "outputs": [
    {
     "data": {
      "text/plain": [
       "False"
      ]
     },
     "execution_count": 25,
     "metadata": {},
     "output_type": "execute_result"
    }
   ],
   "source": [
    "z and h"
   ]
  },
  {
   "cell_type": "code",
   "execution_count": 26,
   "metadata": {},
   "outputs": [
    {
     "data": {
      "text/plain": [
       "True"
      ]
     },
     "execution_count": 26,
     "metadata": {},
     "output_type": "execute_result"
    }
   ],
   "source": [
    "z or h"
   ]
  },
  {
   "cell_type": "markdown",
   "metadata": {},
   "source": [
    "### 2. A. Precedência dos operadores lógicos <a class=\"anchor\" id=\"head2a\"></a>\n",
    "\n",
    "* Parênteses tem a mais alta precedência\n",
    "* A segunda precedência mais alta é do `not`, seguido do `and` e, finalmente, do `or`."
   ]
  },
  {
   "cell_type": "code",
   "execution_count": 27,
   "metadata": {},
   "outputs": [
    {
     "data": {
      "text/plain": [
       "False"
      ]
     },
     "execution_count": 27,
     "metadata": {},
     "output_type": "execute_result"
    }
   ],
   "source": [
    "not True and True"
   ]
  },
  {
   "cell_type": "code",
   "execution_count": 28,
   "metadata": {},
   "outputs": [
    {
     "data": {
      "text/plain": [
       "True"
      ]
     },
     "execution_count": 28,
     "metadata": {},
     "output_type": "execute_result"
    }
   ],
   "source": [
    "not True or True"
   ]
  },
  {
   "cell_type": "code",
   "execution_count": 29,
   "metadata": {},
   "outputs": [
    {
     "data": {
      "text/plain": [
       "True"
      ]
     },
     "execution_count": 29,
     "metadata": {},
     "output_type": "execute_result"
    }
   ],
   "source": [
    "True or True and False"
   ]
  },
  {
   "cell_type": "code",
   "execution_count": 30,
   "metadata": {},
   "outputs": [
    {
     "data": {
      "text/plain": [
       "False"
      ]
     },
     "execution_count": 30,
     "metadata": {},
     "output_type": "execute_result"
    }
   ],
   "source": [
    "(True or True) and False"
   ]
  },
  {
   "cell_type": "code",
   "execution_count": 31,
   "metadata": {},
   "outputs": [
    {
     "name": "stdout",
     "output_type": "stream",
     "text": [
      "True\n",
      "False\n"
     ]
    }
   ],
   "source": [
    "print(z)\n",
    "print(h)"
   ]
  },
  {
   "cell_type": "markdown",
   "metadata": {},
   "source": [
    "### 3. Strings <a class=\"anchor\" id=\"head3\"></a>\n",
    "\n",
    "Uma string é texto, que pode estar entre aspas duplas (\") ou simples (')."
   ]
  },
  {
   "cell_type": "code",
   "execution_count": 32,
   "metadata": {},
   "outputs": [],
   "source": [
    "nome = \"Carlos\""
   ]
  },
  {
   "cell_type": "code",
   "execution_count": 33,
   "metadata": {},
   "outputs": [
    {
     "data": {
      "text/plain": [
       "'r'"
      ]
     },
     "execution_count": 33,
     "metadata": {},
     "output_type": "execute_result"
    }
   ],
   "source": [
    "# Para o Python, a string pode ser tratada como uma lista\n",
    "# Então, é possível acessar um elemento diretamente pelo seu índice\n",
    "nome[2]"
   ]
  },
  {
   "cell_type": "code",
   "execution_count": 34,
   "metadata": {},
   "outputs": [
    {
     "data": {
      "text/plain": [
       "'rlo'"
      ]
     },
     "execution_count": 34,
     "metadata": {},
     "output_type": "execute_result"
    }
   ],
   "source": [
    "nome[2:5] # pode trabalhar com um indice vetorial"
   ]
  },
  {
   "cell_type": "code",
   "execution_count": 35,
   "metadata": {},
   "outputs": [
    {
     "data": {
      "text/plain": [
       "'Carlo'"
      ]
     },
     "execution_count": 35,
     "metadata": {},
     "output_type": "execute_result"
    }
   ],
   "source": [
    "nome[:5] # :5 é o mesmo que 0:5"
   ]
  },
  {
   "cell_type": "code",
   "execution_count": 36,
   "metadata": {},
   "outputs": [
    {
     "data": {
      "text/plain": [
       "'Cro'"
      ]
     },
     "execution_count": 36,
     "metadata": {},
     "output_type": "execute_result"
    }
   ],
   "source": [
    "nome[0:5:2] # [inicio : (final-1) :tamanho do passo]"
   ]
  },
  {
   "cell_type": "code",
   "execution_count": 37,
   "metadata": {},
   "outputs": [],
   "source": [
    "frase = 'Minha terra tem palmeira onde canta o sabiá.'"
   ]
  },
  {
   "cell_type": "code",
   "execution_count": 38,
   "metadata": {},
   "outputs": [
    {
     "data": {
      "text/plain": [
       "' terra tem palmeira onde canta o sabiá.'"
      ]
     },
     "execution_count": 38,
     "metadata": {},
     "output_type": "execute_result"
    }
   ],
   "source": [
    "frase[5:] # 5: é o mesmo que 5:<último índice>"
   ]
  },
  {
   "cell_type": "code",
   "execution_count": 39,
   "metadata": {},
   "outputs": [
    {
     "data": {
      "text/plain": [
       "' terra'"
      ]
     },
     "execution_count": 39,
     "metadata": {},
     "output_type": "execute_result"
    }
   ],
   "source": [
    "frase[5:11]"
   ]
  },
  {
   "cell_type": "code",
   "execution_count": 40,
   "metadata": {},
   "outputs": [
    {
     "data": {
      "text/plain": [
       "' er'"
      ]
     },
     "execution_count": 40,
     "metadata": {},
     "output_type": "execute_result"
    }
   ],
   "source": [
    "frase[5:11:2]"
   ]
  },
  {
   "cell_type": "code",
   "execution_count": 41,
   "metadata": {},
   "outputs": [
    {
     "data": {
      "text/plain": [
       "'trt li dct'"
      ]
     },
     "execution_count": 41,
     "metadata": {},
     "output_type": "execute_result"
    }
   ],
   "source": [
    "frase[6:35:3]"
   ]
  },
  {
   "cell_type": "code",
   "execution_count": 42,
   "metadata": {},
   "outputs": [
    {
     "data": {
      "text/plain": [
       "'.áibas o atnac edno ariemlap met arret ahniM'"
      ]
     },
     "execution_count": 42,
     "metadata": {},
     "output_type": "execute_result"
    }
   ],
   "source": [
    "frase[::-1]"
   ]
  },
  {
   "cell_type": "code",
   "execution_count": 43,
   "metadata": {},
   "outputs": [
    {
     "data": {
      "text/plain": [
       "'arret '"
      ]
     },
     "execution_count": 43,
     "metadata": {},
     "output_type": "execute_result"
    }
   ],
   "source": [
    "frase[10:4:-1]"
   ]
  },
  {
   "cell_type": "code",
   "execution_count": 44,
   "metadata": {},
   "outputs": [
    {
     "data": {
      "text/plain": [
       "'.'"
      ]
     },
     "execution_count": 44,
     "metadata": {},
     "output_type": "execute_result"
    }
   ],
   "source": [
    "frase[-1]  # último elemento da lista. Nesse caso, será o último caracter da string."
   ]
  },
  {
   "cell_type": "code",
   "execution_count": 45,
   "metadata": {},
   "outputs": [],
   "source": [
    "s_num = str(7.8)"
   ]
  },
  {
   "cell_type": "code",
   "execution_count": 46,
   "metadata": {},
   "outputs": [
    {
     "data": {
      "text/plain": [
       "'8'"
      ]
     },
     "execution_count": 46,
     "metadata": {},
     "output_type": "execute_result"
    }
   ],
   "source": [
    "s_num[-1]"
   ]
  },
  {
   "cell_type": "markdown",
   "metadata": {},
   "source": [
    "### 3. A. Funções de string <a class=\"anchor\" id=\"head3a\"></a>\n",
    "\n",
    "Mais funções podem ser encontradas em [W3Schools](https://www.w3schools.com/python/python_strings_methods.asp).\n",
    "\n",
    "* `find()`: Encontra a primeira ocorrência de um valor específico.\n",
    "* `upper()`: Transforma toda a string em maiúsculo. \n",
    "* `lower()`: Transforma toda a string em minúsculo. \n",
    "* `capitalize()`: Transforma a primeira letra da primeira palavra da string em maiúsculo e todas as demais em minúsculo.\n",
    "* `strip()`: Remove quaisquer caracteres iniciais e finais da string. Por padrão, é espaço.\n",
    "* `replace()`: Substitui uma string específica por outra também especificada.\n",
    "* `split()`: Divide uma string em pedaços menores usando um caractere especificado (o espaço é o padrão) como corte. O resultado desse método é uma lista.\n",
    "* `center()`: Centralizar a string, usando um caractere especificado (o espaço é o padrão) como preenchimento.\n",
    "* `count()`: Conta o número de vezes que um valor especificado aparece na string.\n",
    "* `index()`: Encontra a primeira ocorrência do valor especificado.\n",
    "* `format()`: Dormata o(s) valor(es) especificado(s) e os insere no marcador de posição da string (definido usando chaves: `{}`)."
   ]
  },
  {
   "cell_type": "code",
   "execution_count": 47,
   "metadata": {},
   "outputs": [
    {
     "data": {
      "text/plain": [
       "30"
      ]
     },
     "execution_count": 47,
     "metadata": {},
     "output_type": "execute_result"
    }
   ],
   "source": [
    "frase.find('canta')"
   ]
  },
  {
   "cell_type": "code",
   "execution_count": 48,
   "metadata": {},
   "outputs": [
    {
     "data": {
      "text/plain": [
       "-1"
      ]
     },
     "execution_count": 48,
     "metadata": {},
     "output_type": "execute_result"
    }
   ],
   "source": [
    "frase.find('carlos')"
   ]
  },
  {
   "cell_type": "code",
   "execution_count": 49,
   "metadata": {},
   "outputs": [
    {
     "data": {
      "text/plain": [
       "44"
      ]
     },
     "execution_count": 49,
     "metadata": {},
     "output_type": "execute_result"
    }
   ],
   "source": [
    "# A função len() retorna o tamanho da string\n",
    "len(frase)"
   ]
  },
  {
   "cell_type": "code",
   "execution_count": 50,
   "metadata": {},
   "outputs": [
    {
     "data": {
      "text/plain": [
       "True"
      ]
     },
     "execution_count": 50,
     "metadata": {},
     "output_type": "execute_result"
    }
   ],
   "source": [
    "# Ao usar \"in\", verifica se \"canta\" está presente na variável frase.\n",
    "'canta' in frase"
   ]
  },
  {
   "cell_type": "code",
   "execution_count": 51,
   "metadata": {},
   "outputs": [
    {
     "data": {
      "text/plain": [
       "True"
      ]
     },
     "execution_count": 51,
     "metadata": {},
     "output_type": "execute_result"
    }
   ],
   "source": [
    "# \"Not in\" é a negação de \"in\"\n",
    "'Carlos' not in frase"
   ]
  },
  {
   "cell_type": "code",
   "execution_count": 52,
   "metadata": {},
   "outputs": [
    {
     "data": {
      "text/plain": [
       "'MINHA TERRA TEM PALMEIRA ONDE CANTA O SABIÁ.'"
      ]
     },
     "execution_count": 52,
     "metadata": {},
     "output_type": "execute_result"
    }
   ],
   "source": [
    "frase.upper()"
   ]
  },
  {
   "cell_type": "code",
   "execution_count": 53,
   "metadata": {},
   "outputs": [
    {
     "data": {
      "text/plain": [
       "'minha terra tem palmeira onde canta o sabiá.'"
      ]
     },
     "execution_count": 53,
     "metadata": {},
     "output_type": "execute_result"
    }
   ],
   "source": [
    "frase.lower()"
   ]
  },
  {
   "cell_type": "code",
   "execution_count": 54,
   "metadata": {},
   "outputs": [
    {
     "data": {
      "text/plain": [
       "'Minha terra tem palmeira onde canta o sabiá'"
      ]
     },
     "execution_count": 54,
     "metadata": {},
     "output_type": "execute_result"
    }
   ],
   "source": [
    "'minha Terra tem Palmeira onde canta o sabiá'.capitalize()"
   ]
  },
  {
   "cell_type": "code",
   "execution_count": 55,
   "metadata": {},
   "outputs": [
    {
     "data": {
      "text/plain": [
       "'Minha terra tem coqueiro onde canta o sabiá.'"
      ]
     },
     "execution_count": 55,
     "metadata": {},
     "output_type": "execute_result"
    }
   ],
   "source": [
    "# O método procura por todas as ocorrências \"palmeira\" e substitui por \"coqueiro\"\n",
    "frase.replace('palmeira', 'coqueiro')"
   ]
  },
  {
   "cell_type": "code",
   "execution_count": 56,
   "metadata": {},
   "outputs": [
    {
     "data": {
      "text/plain": [
       "['Minha', 'terra', 'tem', 'palmeira', 'onde', 'canta', 'o', 'sabiá.']"
      ]
     },
     "execution_count": 56,
     "metadata": {},
     "output_type": "execute_result"
    }
   ],
   "source": [
    "# Por padrão, irá separar a string com espaço simples (\" \")\n",
    "frase.split()"
   ]
  },
  {
   "cell_type": "code",
   "execution_count": 57,
   "metadata": {},
   "outputs": [
    {
     "data": {
      "text/plain": [
       "['Minh', ' terr', ' tem p', 'lmeir', ' onde c', 'nt', ' o s', 'biá.']"
      ]
     },
     "execution_count": 57,
     "metadata": {},
     "output_type": "execute_result"
    }
   ],
   "source": [
    "frase.split('a')"
   ]
  },
  {
   "cell_type": "code",
   "execution_count": 58,
   "metadata": {},
   "outputs": [
    {
     "data": {
      "text/plain": [
       "'   Minha terra tem palmeira onde canta o sabiá.   '"
      ]
     },
     "execution_count": 58,
     "metadata": {},
     "output_type": "execute_result"
    }
   ],
   "source": [
    "frase.center(50)"
   ]
  },
  {
   "cell_type": "code",
   "execution_count": 59,
   "metadata": {},
   "outputs": [
    {
     "data": {
      "text/plain": [
       "1"
      ]
     },
     "execution_count": 59,
     "metadata": {},
     "output_type": "execute_result"
    }
   ],
   "source": [
    "frase.count('ta')"
   ]
  },
  {
   "cell_type": "code",
   "execution_count": 60,
   "metadata": {},
   "outputs": [
    {
     "data": {
      "text/plain": [
       "4"
      ]
     },
     "execution_count": 60,
     "metadata": {},
     "output_type": "execute_result"
    }
   ],
   "source": [
    "frase.index('a')"
   ]
  },
  {
   "cell_type": "code",
   "execution_count": 61,
   "metadata": {},
   "outputs": [
    {
     "data": {
      "text/plain": [
       "'Minha terra tem palmeira X onde canta o sabiá..l'"
      ]
     },
     "execution_count": 61,
     "metadata": {},
     "output_type": "execute_result"
    }
   ],
   "source": [
    "# Remove os caracteres \"X\" e \".\" que estejam no inicio e fim da frase\n",
    "'X.X...Minha terra tem palmeira X onde canta o sabiá..l...'.strip('.X') "
   ]
  },
  {
   "cell_type": "code",
   "execution_count": 62,
   "metadata": {},
   "outputs": [
    {
     "name": "stdout",
     "output_type": "stream",
     "text": [
      "Tenho 37 anos e 1.8 metros de altura.\n",
      "Tenho 1.8 anos e 37 metros de altura.\n"
     ]
    }
   ],
   "source": [
    "idade = 37\n",
    "altura = 1.8\n",
    "str_msg = \"Tenho {} anos e {} metros de altura.\"  # marcador de posição {} do elemento a ser inserido \n",
    "print(str_msg.format(idade,altura))\n",
    "\n",
    "# O número dentro do marcador {1} indica o indice do elemento a ser usado (nesse caso, o segundo elemento fornecido)\n",
    "str_msg = \"Tenho {1} anos e {0} metros de altura.\" \n",
    "print(str_msg.format(idade,altura))"
   ]
  },
  {
   "cell_type": "markdown",
   "metadata": {},
   "source": [
    "### 3. B. Soma de strings <a class=\"anchor\" id=\"head3b\"></a>\n",
    "Utilizando o mesmo símbolo do operador de soma, strings podem ser concatenadas (\"somadas\"). Dessa forma, uma nova string é criado com o conteúdo de ambas."
   ]
  },
  {
   "cell_type": "code",
   "execution_count": 63,
   "metadata": {},
   "outputs": [
    {
     "data": {
      "text/plain": [
       "'Carlos Eduardo'"
      ]
     },
     "execution_count": 63,
     "metadata": {},
     "output_type": "execute_result"
    }
   ],
   "source": [
    "'Carlos'+ ' ' +'Eduardo'"
   ]
  },
  {
   "cell_type": "code",
   "execution_count": 64,
   "metadata": {},
   "outputs": [
    {
     "data": {
      "text/plain": [
       "'Carlos tem 37'"
      ]
     },
     "execution_count": 64,
     "metadata": {},
     "output_type": "execute_result"
    }
   ],
   "source": [
    "x = 37\n",
    "'Carlos tem ' + str(x)"
   ]
  },
  {
   "cell_type": "markdown",
   "metadata": {},
   "source": [
    "### 4. Coerção (casting) <a class=\"anchor\" id=\"head4\"></a>\n",
    "É o ato de transformar uma variável de um tipo em outro. A função a ser usada depende de qual tipo se pretende obter. Por exemplo,\n",
    "\n",
    "* Geralmente, para converter uma variável para inteiro, se usa a função `int()`\n",
    "* Geralmente, para converter uma variável para real, se usa a função `float()`\n",
    "* Geralmente, para converter uma variável para texto (string), se usa a função `str()`\n",
    "* Geralmente, para converter uma variável para binária (lógica), se usa a função `bool()`"
   ]
  },
  {
   "cell_type": "code",
   "execution_count": 65,
   "metadata": {},
   "outputs": [
    {
     "data": {
      "text/plain": [
       "int"
      ]
     },
     "execution_count": 65,
     "metadata": {},
     "output_type": "execute_result"
    }
   ],
   "source": [
    "type(idade)"
   ]
  },
  {
   "cell_type": "code",
   "execution_count": 66,
   "metadata": {},
   "outputs": [
    {
     "data": {
      "text/plain": [
       "int"
      ]
     },
     "execution_count": 66,
     "metadata": {},
     "output_type": "execute_result"
    }
   ],
   "source": [
    "type(x)"
   ]
  },
  {
   "cell_type": "code",
   "execution_count": 67,
   "metadata": {},
   "outputs": [
    {
     "data": {
      "text/plain": [
       "float"
      ]
     },
     "execution_count": 67,
     "metadata": {},
     "output_type": "execute_result"
    }
   ],
   "source": [
    "y = 3.14\n",
    "type(y)"
   ]
  },
  {
   "cell_type": "code",
   "execution_count": 68,
   "metadata": {},
   "outputs": [
    {
     "data": {
      "text/plain": [
       "bool"
      ]
     },
     "execution_count": 68,
     "metadata": {},
     "output_type": "execute_result"
    }
   ],
   "source": [
    "type(z)"
   ]
  },
  {
   "cell_type": "code",
   "execution_count": 69,
   "metadata": {},
   "outputs": [],
   "source": [
    "idade = int(idade)"
   ]
  },
  {
   "cell_type": "code",
   "execution_count": 70,
   "metadata": {},
   "outputs": [
    {
     "data": {
      "text/plain": [
       "int"
      ]
     },
     "execution_count": 70,
     "metadata": {},
     "output_type": "execute_result"
    }
   ],
   "source": [
    "type(idade)"
   ]
  },
  {
   "cell_type": "code",
   "execution_count": 71,
   "metadata": {},
   "outputs": [
    {
     "data": {
      "text/plain": [
       "38"
      ]
     },
     "execution_count": 71,
     "metadata": {},
     "output_type": "execute_result"
    }
   ],
   "source": [
    "idade + 1"
   ]
  },
  {
   "cell_type": "code",
   "execution_count": 72,
   "metadata": {},
   "outputs": [
    {
     "name": "stdout",
     "output_type": "stream",
     "text": [
      "Digite sua idade 22\n"
     ]
    }
   ],
   "source": [
    "idade = int(input(\"Digite sua idade \"))"
   ]
  },
  {
   "cell_type": "code",
   "execution_count": 73,
   "metadata": {},
   "outputs": [
    {
     "data": {
      "text/plain": [
       "int"
      ]
     },
     "execution_count": 73,
     "metadata": {},
     "output_type": "execute_result"
    }
   ],
   "source": [
    "type(idade)"
   ]
  },
  {
   "cell_type": "code",
   "execution_count": 74,
   "metadata": {},
   "outputs": [
    {
     "data": {
      "text/plain": [
       "44"
      ]
     },
     "execution_count": 74,
     "metadata": {},
     "output_type": "execute_result"
    }
   ],
   "source": [
    "idade*2"
   ]
  },
  {
   "cell_type": "markdown",
   "metadata": {},
   "source": [
    "## <span style=\"color:red\">ATENÇÃO:</span>\n",
    "Nem sempre é possível fazer a conversão de tipo de variáveis."
   ]
  },
  {
   "cell_type": "code",
   "execution_count": 75,
   "metadata": {},
   "outputs": [
    {
     "data": {
      "text/plain": [
       "0"
      ]
     },
     "execution_count": 75,
     "metadata": {},
     "output_type": "execute_result"
    }
   ],
   "source": [
    "int(False)"
   ]
  },
  {
   "cell_type": "code",
   "execution_count": 76,
   "metadata": {},
   "outputs": [
    {
     "data": {
      "text/plain": [
       "1"
      ]
     },
     "execution_count": 76,
     "metadata": {},
     "output_type": "execute_result"
    }
   ],
   "source": [
    "int(True)"
   ]
  },
  {
   "cell_type": "code",
   "execution_count": 77,
   "metadata": {},
   "outputs": [
    {
     "data": {
      "text/plain": [
       "'False'"
      ]
     },
     "execution_count": 77,
     "metadata": {},
     "output_type": "execute_result"
    }
   ],
   "source": [
    "str(False)"
   ]
  },
  {
   "cell_type": "code",
   "execution_count": 78,
   "metadata": {},
   "outputs": [
    {
     "ename": "ValueError",
     "evalue": "invalid literal for int() with base 10: 'Dez'",
     "output_type": "error",
     "traceback": [
      "\u001b[0;31m---------------------------------------------------------------------------\u001b[0m",
      "\u001b[0;31mValueError\u001b[0m                                Traceback (most recent call last)",
      "\u001b[0;32m<ipython-input-78-f7357e0cf1ba>\u001b[0m in \u001b[0;36m<module>\u001b[0;34m\u001b[0m\n\u001b[0;32m----> 1\u001b[0;31m \u001b[0mint\u001b[0m\u001b[0;34m(\u001b[0m\u001b[0;34m'Dez'\u001b[0m\u001b[0;34m)\u001b[0m \u001b[0;31m# não funciona, veja mensagem de erro abaixo.\u001b[0m\u001b[0;34m\u001b[0m\u001b[0;34m\u001b[0m\u001b[0m\n\u001b[0m",
      "\u001b[0;31mValueError\u001b[0m: invalid literal for int() with base 10: 'Dez'"
     ]
    }
   ],
   "source": [
    "int('Dez') # não funciona, veja mensagem de erro abaixo."
   ]
  },
  {
   "cell_type": "code",
   "execution_count": 79,
   "metadata": {},
   "outputs": [
    {
     "data": {
      "text/plain": [
       "False"
      ]
     },
     "execution_count": 79,
     "metadata": {},
     "output_type": "execute_result"
    }
   ],
   "source": [
    "# Um inteiro ou real retorna Falso\n",
    "bool(0)"
   ]
  },
  {
   "cell_type": "code",
   "execution_count": 80,
   "metadata": {},
   "outputs": [
    {
     "data": {
      "text/plain": [
       "True"
      ]
     },
     "execution_count": 80,
     "metadata": {},
     "output_type": "execute_result"
    }
   ],
   "source": [
    "# Um número inteiro ou real definido como qualquer outro número, positivo ou negativo, retorna Verdadeiro\n",
    "bool(1)"
   ]
  },
  {
   "cell_type": "code",
   "execution_count": 81,
   "metadata": {},
   "outputs": [
    {
     "data": {
      "text/plain": [
       "True"
      ]
     },
     "execution_count": 81,
     "metadata": {},
     "output_type": "execute_result"
    }
   ],
   "source": [
    "# Um número inteiro ou real definido como qualquer outro número, positivo ou negativo, retorna Verdadeiro\n",
    "bool(9)"
   ]
  },
  {
   "cell_type": "code",
   "execution_count": 82,
   "metadata": {},
   "outputs": [
    {
     "data": {
      "text/plain": [
       "True"
      ]
     },
     "execution_count": 82,
     "metadata": {},
     "output_type": "execute_result"
    }
   ],
   "source": [
    "# Qualquer texto retorna Verdadeiro\n",
    "bool('0')"
   ]
  },
  {
   "cell_type": "code",
   "execution_count": 83,
   "metadata": {
    "scrolled": true
   },
   "outputs": [
    {
     "data": {
      "text/plain": [
       "44"
      ]
     },
     "execution_count": 83,
     "metadata": {},
     "output_type": "execute_result"
    }
   ],
   "source": [
    "idade*2"
   ]
  },
  {
   "cell_type": "markdown",
   "metadata": {},
   "source": [
    "## Parte II"
   ]
  },
  {
   "cell_type": "markdown",
   "metadata": {},
   "source": [
    "### Sumário\n",
    "\n",
    "1. Strings\n",
    "    1. [Mais Funções de string](#heada3a)\n",
    "2. [Listas](#heada3b)\n",
    "    1. [Indexação](#heada3c)\n",
    "    2. [Modificar elementos da lista ](#heada3d)\n",
    "    3. [Adicionar novos elementos na lista](#heada3e)\n",
    "    4. [Remover elementos da lista](#heada3f)\n",
    "    5. [Métodos da lista](#heada3g)\n",
    "    5. [Copiando listas](#heada3h)\n",
    "3. [Estruturas condicionais](#heada3i)\n",
    "    "
   ]
  },
  {
   "cell_type": "markdown",
   "metadata": {},
   "source": [
    "### 1. Mais Funções de string <a class=\"anchor\" id=\"heada3a\"></a> (continuação)\n",
    "\n",
    "Mais funções podem ser encontradas em [W3Schools](https://www.w3schools.com/python/python_strings_methods.asp).\n",
    "\n",
    "As funções abaixo retornam um valor booleano:\n",
    "\n",
    "* `endswith()`: Verifica se a string termina com a string passada no parâmetro da função.\n",
    "* `startswith()`: Verifica se a string se inicia com a string passada no parâmetro da função.\n",
    "* `isnumeric()`: Verifica se todos os caracteres da string possuem somente valores numéricos (0-9). \n",
    "* `isdigit()`: Verifica se todos os caracteres da string possuem somente valores numéricos (0-9) inclusive caracteres como ².\n",
    "* `isalnum()`: Verifica se todos os caracteres da string são alfanuméricos, somente letras (a-z) ou números (0-9). Não são caracteres alfanuméricos (espaço)#%&?.\n",
    "* `islower()`: Verifica se os caracteres da string estão somente em caixa baixa.\n",
    "* `isupper()`: Verifica se os caracteres da string estão somente em caixa alta.\n",
    "* `isspace()`: Verifica se os caracteres da string são somente espaços."
   ]
  },
  {
   "cell_type": "code",
   "execution_count": 190,
   "metadata": {},
   "outputs": [
    {
     "data": {
      "text/plain": [
       "True"
      ]
     },
     "execution_count": 190,
     "metadata": {},
     "output_type": "execute_result"
    }
   ],
   "source": [
    "'Olá pessoal!'.endswith('!')"
   ]
  },
  {
   "cell_type": "code",
   "execution_count": 42,
   "metadata": {},
   "outputs": [
    {
     "data": {
      "text/plain": [
       "False"
      ]
     },
     "execution_count": 42,
     "metadata": {},
     "output_type": "execute_result"
    }
   ],
   "source": [
    "'Olá pessoal!'.startswith('!')"
   ]
  },
  {
   "cell_type": "code",
   "execution_count": 24,
   "metadata": {},
   "outputs": [
    {
     "data": {
      "text/plain": [
       "False"
      ]
     },
     "execution_count": 24,
     "metadata": {},
     "output_type": "execute_result"
    }
   ],
   "source": [
    "'Olá 37 pessoas'.isnumeric()"
   ]
  },
  {
   "cell_type": "code",
   "execution_count": 209,
   "metadata": {},
   "outputs": [
    {
     "data": {
      "text/plain": [
       "True"
      ]
     },
     "execution_count": 209,
     "metadata": {},
     "output_type": "execute_result"
    }
   ],
   "source": [
    "'37'.isnumeric()"
   ]
  },
  {
   "cell_type": "code",
   "execution_count": 213,
   "metadata": {},
   "outputs": [
    {
     "data": {
      "text/plain": [
       "True"
      ]
     },
     "execution_count": 213,
     "metadata": {},
     "output_type": "execute_result"
    }
   ],
   "source": [
    "'37'.isdigit()"
   ]
  },
  {
   "cell_type": "code",
   "execution_count": 217,
   "metadata": {},
   "outputs": [
    {
     "data": {
      "text/plain": [
       "False"
      ]
     },
     "execution_count": 217,
     "metadata": {},
     "output_type": "execute_result"
    }
   ],
   "source": [
    "'37a?'.isalnum() # se eh letra e numero"
   ]
  },
  {
   "cell_type": "code",
   "execution_count": 218,
   "metadata": {},
   "outputs": [
    {
     "data": {
      "text/plain": [
       "True"
      ]
     },
     "execution_count": 218,
     "metadata": {},
     "output_type": "execute_result"
    }
   ],
   "source": [
    "'ola pessoal'.islower()"
   ]
  },
  {
   "cell_type": "code",
   "execution_count": 220,
   "metadata": {},
   "outputs": [
    {
     "data": {
      "text/plain": [
       "True"
      ]
     },
     "execution_count": 220,
     "metadata": {},
     "output_type": "execute_result"
    }
   ],
   "source": [
    "'OLA PESSOAL!!!'.isupper()"
   ]
  },
  {
   "cell_type": "code",
   "execution_count": 223,
   "metadata": {},
   "outputs": [
    {
     "data": {
      "text/plain": [
       "True"
      ]
     },
     "execution_count": 223,
     "metadata": {},
     "output_type": "execute_result"
    }
   ],
   "source": [
    "'      '.isspace()"
   ]
  },
  {
   "cell_type": "markdown",
   "metadata": {},
   "source": [
    "### 2. Listas <a class=\"anchor\" id=\"heada3b\"></a>\n",
    "\n",
    "List (lista) é uma das quatro estruturas de dados disponíveis no Python que você pode utilizar para armazenar múltiplos itens. As demais são: tuple (tupla), dictionary (dicionário) e set (conjunto).\n",
    "\n",
    "Quando dizemos \"disponíveis\" quer dizer que não precisamos importar nenhuma biblioteca para utilizá-las, pois essas estruturas de dados fazem parte da linguagem.\n",
    "\n",
    "Listas são similares aos *arrays*, os itens armazenados são ordenados sequencialmente em *slots*. Diferente de arrays de outras linguagens a lista do Python é **dinâmica**, ela pode crescer (e diminuir), não é necessário declarar o tamanho da lista antes de armazenar os itens.\n",
    "\n",
    "As listas são sempre colocadas entre colchetes, e os itens contidos dentro da lista são sempre separados por uma vírgula.\n"
   ]
  },
  {
   "cell_type": "code",
   "execution_count": 224,
   "metadata": {},
   "outputs": [
    {
     "name": "stdout",
     "output_type": "stream",
     "text": [
      "['banana', 'maçã', 'pêra']\n"
     ]
    }
   ],
   "source": [
    "minhalista = ['banana', 'maçã', 'pêra']\n",
    "\n",
    "print(minhalista)"
   ]
  },
  {
   "cell_type": "code",
   "execution_count": 225,
   "metadata": {},
   "outputs": [
    {
     "name": "stdout",
     "output_type": "stream",
     "text": [
      "['banana', 'maçã', 'pêra', 'maçã']\n"
     ]
    }
   ],
   "source": [
    "minhalista = ['banana', 'maçã', 'pêra','maçã']\n",
    "\n",
    "print(minhalista)"
   ]
  },
  {
   "cell_type": "markdown",
   "metadata": {},
   "source": [
    "A lista no Python também é heterogênea, não é necessário declarar o tipo de itens que serão armazenados, e ela pode armazenar itens de diferentes tipos em uma única lista, e também valores iguais."
   ]
  },
  {
   "cell_type": "code",
   "execution_count": 227,
   "metadata": {},
   "outputs": [
    {
     "name": "stdout",
     "output_type": "stream",
     "text": [
      "[True, 'maçã', 'pêra', 3, 3.14]\n"
     ]
    }
   ],
   "source": [
    "minhalista = [True, 'maçã', 'pêra', 3, 3.14]\n",
    "print(minhalista)"
   ]
  },
  {
   "cell_type": "code",
   "execution_count": 228,
   "metadata": {},
   "outputs": [
    {
     "name": "stdout",
     "output_type": "stream",
     "text": [
      "[True, 'maçã', 'pêra', 3, 'goiaba', 'uva']\n"
     ]
    }
   ],
   "source": [
    "minhalista = list((True, \"maçã\", \"pêra\", 3,\"goiaba\",'uva'))\n",
    "print(minhalista)"
   ]
  },
  {
   "cell_type": "code",
   "execution_count": 229,
   "metadata": {},
   "outputs": [
    {
     "name": "stdout",
     "output_type": "stream",
     "text": [
      "[True, 'maçã', 'pêra', 3, 3.14]\n"
     ]
    },
    {
     "data": {
      "text/plain": [
       "5"
      ]
     },
     "execution_count": 229,
     "metadata": {},
     "output_type": "execute_result"
    }
   ],
   "source": [
    "minhalista = [True, 'maçã', 'pêra', 3, 3.14]\n",
    "print(minhalista)\n",
    "\n",
    "len(minhalista)"
   ]
  },
  {
   "cell_type": "code",
   "execution_count": 83,
   "metadata": {},
   "outputs": [
    {
     "data": {
      "text/plain": [
       "list"
      ]
     },
     "execution_count": 83,
     "metadata": {},
     "output_type": "execute_result"
    }
   ],
   "source": [
    "type(minhalista)"
   ]
  },
  {
   "cell_type": "markdown",
   "metadata": {},
   "source": [
    "#### 2 - A - Indexação <a class=\"anchor\" id=\"heada3c\"></a>\n",
    "\n",
    "Os elementos que pertencem a uma lista são indexados e você pode acessar os elementos através dos seus números do índice, o primeiro elemento da lista possui como índice o número 0 (zero)."
   ]
  },
  {
   "cell_type": "code",
   "execution_count": 5,
   "metadata": {},
   "outputs": [
    {
     "name": "stdout",
     "output_type": "stream",
     "text": [
      "['banana', 'maçã', 'pêra', 'maçã']\n",
      "banana\n",
      "maçã\n"
     ]
    }
   ],
   "source": [
    "minhalista = ['banana', 'maçã', 'pêra','maçã']\n",
    "\n",
    "print(minhalista)\n",
    "\n",
    "print(minhalista[0])\n",
    "\n",
    "print(minhalista[3])"
   ]
  },
  {
   "cell_type": "markdown",
   "metadata": {},
   "source": [
    "Os elementos da lista podem ser acessados através do índice negativo se iniciando do -1 que corresponde ao último elemento da lista. O índice -2 corresponde ao penúltimo elemento da lista e assim por diante."
   ]
  },
  {
   "cell_type": "code",
   "execution_count": 3,
   "metadata": {},
   "outputs": [
    {
     "name": "stdout",
     "output_type": "stream",
     "text": [
      "['banana', 'maçã', 'pêra', 'maçã']\n"
     ]
    },
    {
     "data": {
      "text/plain": [
       "'maçã'"
      ]
     },
     "execution_count": 3,
     "metadata": {},
     "output_type": "execute_result"
    }
   ],
   "source": [
    "minhalista = ['banana', 'maçã', 'pêra','maçã']\n",
    "\n",
    "print(minhalista)\n",
    "\n",
    "minhalista[-1]"
   ]
  },
  {
   "cell_type": "markdown",
   "metadata": {},
   "source": [
    "Os elementos podem ser selecionados através de uma faixa de índices (range).\n",
    "\n",
    "Onde se especifica o índice inicial, colocamos dois pontos e especificamos o índice que finaliza a faixa. \n",
    "\n",
    "Quando se especifica uma faixa de índice, o valor retornado é uma lista com os elementos selecionados.\n",
    "\n",
    "Note que o elemento do índice final não é incluído na lista retornada."
   ]
  },
  {
   "cell_type": "code",
   "execution_count": 4,
   "metadata": {},
   "outputs": [
    {
     "name": "stdout",
     "output_type": "stream",
     "text": [
      "['banana', 'maçã', 'pêra', 'maçã']\n"
     ]
    },
    {
     "data": {
      "text/plain": [
       "['maçã', 'pêra']"
      ]
     },
     "execution_count": 4,
     "metadata": {},
     "output_type": "execute_result"
    }
   ],
   "source": [
    "minhalista = ['banana', 'maçã', 'pêra','maçã']\n",
    "\n",
    "print(minhalista)\n",
    "\n",
    "minhalista[1:3]"
   ]
  },
  {
   "cell_type": "markdown",
   "metadata": {},
   "source": [
    "Podemos utilizar faixas indicando somente o índice inicial, dessa forma irá retornar uma lista  com os elementos a partir do índice indicado. \n",
    "\n",
    "Também pode-se especificar somente o índice final, onde irá retornar a lista com todos os elementos da lista até o índice indicado."
   ]
  },
  {
   "cell_type": "code",
   "execution_count": 235,
   "metadata": {},
   "outputs": [
    {
     "name": "stdout",
     "output_type": "stream",
     "text": [
      "['banana', 'maçã', 'pêra', 'maçã']\n"
     ]
    },
    {
     "data": {
      "text/plain": [
       "['maçã', 'pêra', 'maçã']"
      ]
     },
     "execution_count": 235,
     "metadata": {},
     "output_type": "execute_result"
    }
   ],
   "source": [
    "minhalista = ['banana', 'maçã', 'pêra','maçã']\n",
    "\n",
    "print(minhalista)\n",
    "minhalista[1:]"
   ]
  },
  {
   "cell_type": "code",
   "execution_count": 8,
   "metadata": {},
   "outputs": [
    {
     "name": "stdout",
     "output_type": "stream",
     "text": [
      "['banana', 'maçã', 'pêra', 'caqui', 'kiwi']\n"
     ]
    }
   ],
   "source": [
    "minhalista = ['banana', 'maçã', 'pêra','caqui', 'kiwi', 'abacate', 'acerola']\n",
    "\n",
    "print(minhalista[:5])"
   ]
  },
  {
   "cell_type": "markdown",
   "metadata": {},
   "source": [
    "Podemos adicionar mais um elemento na nossa faixa que irá indicar em quantos passos iremos adicionar em cada índice da nossa faixa.\n",
    "\n",
    "Para isso adicionamos mais um dois pontos e indicamos qual o tamanho do passo."
   ]
  },
  {
   "cell_type": "code",
   "execution_count": 11,
   "metadata": {},
   "outputs": [
    {
     "name": "stdout",
     "output_type": "stream",
     "text": [
      "['banana', 'maçã', 'pêra', 'maçã']\n"
     ]
    },
    {
     "data": {
      "text/plain": [
       "['banana', 'pêra']"
      ]
     },
     "execution_count": 11,
     "metadata": {},
     "output_type": "execute_result"
    }
   ],
   "source": [
    "minhalista = ['banana', 'maçã', 'pêra','maçã']\n",
    "\n",
    "print(minhalista)\n",
    "\n",
    "minhalista[0:3:2]"
   ]
  },
  {
   "cell_type": "markdown",
   "metadata": {},
   "source": [
    "Se não indicarmos o índice inicial e o índice final da faixa todos os elementos da lista serão considerados.\n",
    "\n",
    "O valor do passo também pode ser negativo, dessa forma podemos percorrer a lista do final para o início da faixa especificados."
   ]
  },
  {
   "cell_type": "code",
   "execution_count": 236,
   "metadata": {},
   "outputs": [
    {
     "name": "stdout",
     "output_type": "stream",
     "text": [
      "['banana', 'maçã', 'pêra', 'maçã']\n"
     ]
    },
    {
     "data": {
      "text/plain": [
       "['maçã', 'pêra', 'maçã', 'banana']"
      ]
     },
     "execution_count": 236,
     "metadata": {},
     "output_type": "execute_result"
    }
   ],
   "source": [
    "minhalista = ['banana', 'maçã', 'pêra','maçã']\n",
    "\n",
    "print(minhalista)\n",
    "minhalista[::-1]"
   ]
  },
  {
   "cell_type": "code",
   "execution_count": 12,
   "metadata": {},
   "outputs": [
    {
     "name": "stdout",
     "output_type": "stream",
     "text": [
      "['banana', 'maçã', 'pêra', 'maçã']\n",
      "['maçã', 'pêra', 'maçã']\n",
      "['maçã', 'pêra', 'maçã', 'banana']\n"
     ]
    }
   ],
   "source": [
    "minhalista = ['banana', 'maçã', 'pêra','maçã']\n",
    "\n",
    "print(minhalista)\n",
    "print(minhalista[3:0:-1])\n",
    "print(minhalista[3::-1])"
   ]
  },
  {
   "cell_type": "markdown",
   "metadata": {},
   "source": [
    "Podemos verificar se a nossa lista possui um elemento especificado utilizando o operador \"in\", ou se não possui o elemento usando a sua negação \"not in\".\n",
    "\n",
    "O valor retornado pelo operador é um booleano."
   ]
  },
  {
   "cell_type": "code",
   "execution_count": 244,
   "metadata": {},
   "outputs": [
    {
     "name": "stdout",
     "output_type": "stream",
     "text": [
      "['banana', 'maçã', 'pêra', 'maçã']\n"
     ]
    },
    {
     "data": {
      "text/plain": [
       "True"
      ]
     },
     "execution_count": 244,
     "metadata": {},
     "output_type": "execute_result"
    }
   ],
   "source": [
    "minhalista = ['banana', 'maçã', 'pêra','maçã']\n",
    "\n",
    "print(minhalista)\n",
    "\n",
    "'pêra' in minhalista"
   ]
  },
  {
   "cell_type": "code",
   "execution_count": 245,
   "metadata": {},
   "outputs": [
    {
     "name": "stdout",
     "output_type": "stream",
     "text": [
      "['banana', 'maçã', 'pêra', 'maçã']\n"
     ]
    },
    {
     "data": {
      "text/plain": [
       "False"
      ]
     },
     "execution_count": 245,
     "metadata": {},
     "output_type": "execute_result"
    }
   ],
   "source": [
    "minhalista = ['banana', 'maçã', 'pêra','maçã']\n",
    "\n",
    "print(minhalista)\n",
    "\n",
    "'pêra' not in minhalista"
   ]
  },
  {
   "cell_type": "markdown",
   "metadata": {},
   "source": [
    "#### 2 - B - Modificar elementos da lista <a class=\"anchor\" id=\"heada3d\"></a>\n",
    "\n",
    "Podemos modificar os valores de elementos de uma lista, para isso basta atribuir um valor utilizando o índice que quer ser atualizado."
   ]
  },
  {
   "cell_type": "code",
   "execution_count": 1,
   "metadata": {},
   "outputs": [
    {
     "name": "stdout",
     "output_type": "stream",
     "text": [
      "['alface', 'maçã', 'pêra', 'rabanete', 'goiaba', 'uva']\n",
      "['banana', 'maçã', 'pêra', 'rabanete', 'goiaba', 'uva']\n"
     ]
    }
   ],
   "source": [
    "minhalista = [\"alface\", \"maçã\", \"pêra\", 'rabanete',\"goiaba\",'uva']\n",
    "print(minhalista)\n",
    "\n",
    "minhalista[0] = 'banana'\n",
    "print(minhalista)"
   ]
  },
  {
   "cell_type": "markdown",
   "metadata": {},
   "source": [
    "Também é possível modificar mais de um item em um único comando utilizando a faixa de índices. Para isso basta indicar qual a faixa do índice e atribuir os valores a serem substituídos. \n",
    "\n",
    "Caso você atribua menos valores do que a quantidade de elementos do índice os itens serão movidos para frente."
   ]
  },
  {
   "cell_type": "code",
   "execution_count": 2,
   "metadata": {},
   "outputs": [
    {
     "name": "stdout",
     "output_type": "stream",
     "text": [
      "['banana', 'laranja', 'tangerina', 'rabanete', 'goiaba', 'uva']\n",
      "['banana', 'melancia', 'rabanete', 'goiaba', 'uva']\n"
     ]
    }
   ],
   "source": [
    "minhalista[1:3] = ['laranja','tangerina']\n",
    "print(minhalista)\n",
    "\n",
    "minhalista[1:3] = ['melancia']\n",
    "print(minhalista)"
   ]
  },
  {
   "cell_type": "markdown",
   "metadata": {},
   "source": [
    "#### 2 - C - Inserir elementos da lista <a class=\"anchor\" id=\"heada3e\"></a>\n",
    "\n",
    "Para inserir um novo elemento na lista pode-se utilizar o método *insert()*. Esse método recebe dois parâmetros, o primeiro parâmetro é o índice o qual você quer inserir o novo valor, e o segundo parâmetro é o valor a ser inserido."
   ]
  },
  {
   "cell_type": "code",
   "execution_count": 247,
   "metadata": {},
   "outputs": [
    {
     "name": "stdout",
     "output_type": "stream",
     "text": [
      "['alface', 'maçã', 'pêra', 'rabanete', 'goiaba', 'uva']\n",
      "['alface', 'maçã', 'melancia', 'pêra', 'rabanete', 'goiaba', 'uva']\n"
     ]
    }
   ],
   "source": [
    "minhalista = [\"alface\", \"maçã\", \"pêra\", 'rabanete',\"goiaba\",'uva']\n",
    "print(minhalista)\n",
    "\n",
    "minhalista.insert(2,'melancia')\n",
    "print(minhalista)"
   ]
  },
  {
   "cell_type": "markdown",
   "metadata": {},
   "source": [
    "Pode-se inserir um novo elemento ao final da lista com o método *append()*. Esse método recebe somente um parâmetro que é o valor a ser inserido ao final da lista."
   ]
  },
  {
   "cell_type": "code",
   "execution_count": 248,
   "metadata": {},
   "outputs": [
    {
     "name": "stdout",
     "output_type": "stream",
     "text": [
      "['maçã', 'pêra', 'goiaba', 'uva']\n",
      "['maçã', 'pêra', 'goiaba', 'uva', 'laranja']\n",
      "['maçã', 'pêra', 'goiaba', 'uva', 'laranja', ['caqui', 'limão']]\n"
     ]
    }
   ],
   "source": [
    "minhalista = [\"maçã\", \"pêra\",\"goiaba\",\"uva\"]\n",
    "print(minhalista)\n",
    "\n",
    "minhalista.append('laranja')\n",
    "print(minhalista)\n",
    "\n",
    "minhalista.append(['caqui','limão'])\n",
    "print(minhalista)\n"
   ]
  },
  {
   "cell_type": "markdown",
   "metadata": {},
   "source": [
    "Podemos acrescentar ao final de uma lista uma outra lista, para isso usamos o método *extend()*. Este método recebe somente um parâmetro uma lista."
   ]
  },
  {
   "cell_type": "code",
   "execution_count": 3,
   "metadata": {},
   "outputs": [
    {
     "name": "stdout",
     "output_type": "stream",
     "text": [
      "['maçã', 'pêra', 'goiaba', 'uva']\n",
      "['maçã', 'pêra', 'goiaba', 'uva', 'caqui', 'limão']\n",
      "['maçã', 'pêra', 'goiaba', 'uva', 'caqui', 'limão', 'laranja']\n"
     ]
    }
   ],
   "source": [
    "minhalista = [\"maçã\", \"pêra\",\"goiaba\",\"uva\"]\n",
    "print(minhalista)\n",
    "\n",
    "minhalista.extend(['caqui','limão'])\n",
    "print(minhalista)\n",
    "\n",
    "minhalista.extend(['laranja'])\n",
    "print(minhalista)\n"
   ]
  },
  {
   "cell_type": "markdown",
   "metadata": {},
   "source": [
    "Também é possível realizar a junção de duas listas utilizando o operador +."
   ]
  },
  {
   "cell_type": "code",
   "execution_count": 13,
   "metadata": {},
   "outputs": [
    {
     "name": "stdout",
     "output_type": "stream",
     "text": [
      "['maçã', 'pêra', 'goiaba', 'uva']\n",
      "['melancia', 'mamão', 'bana']\n",
      "['maçã', 'pêra', 'goiaba', 'uva', 'melancia', 'mamão', 'bana']\n",
      "['melancia', 'mamão', 'bana', 'maçã', 'pêra', 'goiaba', 'uva']\n"
     ]
    }
   ],
   "source": [
    "minhalista = [\"maçã\", \"pêra\",\"goiaba\",\"uva\"]\n",
    "\n",
    "nossalista = [\"melancia\", \"mamão\",\"bana\"]\n",
    "\n",
    "print(minhalista)\n",
    "print(nossalista)\n",
    "\n",
    "\n",
    "todalista = minhalista + nossalista\n",
    "\n",
    "\n",
    "print(todalista)\n",
    "\n",
    "todalista = nossalista + minhalista\n",
    "\n",
    "print(todalista)\n",
    "\n"
   ]
  },
  {
   "cell_type": "markdown",
   "metadata": {},
   "source": [
    "#### 2 - D - Remover elementos da lista <a class=\"anchor\" id=\"heada3f\"></a>\n",
    "\n",
    "Para remover um novo elemento da lista pode-se utilizar o método *remove()*. Esse método recebe um parâmetros, o elemento o qual você quer remover."
   ]
  },
  {
   "cell_type": "code",
   "execution_count": 4,
   "metadata": {},
   "outputs": [
    {
     "name": "stdout",
     "output_type": "stream",
     "text": [
      "['maçã', 'pêra', 'goiaba', 'uva']\n",
      "['pêra', 'goiaba', 'uva']\n"
     ]
    }
   ],
   "source": [
    "minhalista = [\"maçã\", \"pêra\",\"goiaba\",\"uva\"]\n",
    "print(minhalista)\n",
    "\n",
    "minhalista.remove('maçã')\n",
    "print(minhalista)"
   ]
  },
  {
   "cell_type": "markdown",
   "metadata": {},
   "source": [
    "Pode-se remover um elemento localizado em um índice utilizando o método *pop()*. Este método recebe como parâmetro o índice do elemento a ser removido."
   ]
  },
  {
   "cell_type": "code",
   "execution_count": 259,
   "metadata": {},
   "outputs": [
    {
     "name": "stdout",
     "output_type": "stream",
     "text": [
      "['maçã', 'pêra', 'goiaba', 'uva']\n",
      "['maçã', 'goiaba', 'uva']\n"
     ]
    }
   ],
   "source": [
    "minhalista = [\"maçã\", \"pêra\",\"goiaba\",\"uva\"]\n",
    "print(minhalista)\n",
    "\n",
    "minhalista.pop(1)\n",
    "print(minhalista)"
   ]
  },
  {
   "cell_type": "markdown",
   "metadata": {},
   "source": [
    "Outra forma de remover um elemento de uma lista é através do comando *del* do Python. Para isso utilizamos o comando e em seguida colocamos a lista com o índice a ser removido."
   ]
  },
  {
   "cell_type": "code",
   "execution_count": 260,
   "metadata": {},
   "outputs": [
    {
     "name": "stdout",
     "output_type": "stream",
     "text": [
      "['maçã', 'pêra', 'goiaba', 'uva']\n",
      "['maçã', 'uva']\n"
     ]
    }
   ],
   "source": [
    "minhalista = [\"maçã\", \"pêra\",\"goiaba\",\"uva\"]\n",
    "print(minhalista)\n",
    "\n",
    "del minhalista[1:3]\n",
    "print(minhalista)"
   ]
  },
  {
   "cell_type": "markdown",
   "metadata": {},
   "source": [
    "Caso seja colocado somente a lista sem indicar os índices, a lista será totalmente removida, e não poderá mais ser acessada."
   ]
  },
  {
   "cell_type": "code",
   "execution_count": 5,
   "metadata": {},
   "outputs": [
    {
     "name": "stdout",
     "output_type": "stream",
     "text": [
      "['maçã', 'pêra', 'goiaba', 'uva']\n"
     ]
    },
    {
     "ename": "NameError",
     "evalue": "name 'minhalista' is not defined",
     "output_type": "error",
     "traceback": [
      "\u001b[0;31m---------------------------------------------------------------------------\u001b[0m",
      "\u001b[0;31mNameError\u001b[0m                                 Traceback (most recent call last)",
      "\u001b[0;32m<ipython-input-5-0ed540fb343f>\u001b[0m in \u001b[0;36m<module>\u001b[0;34m\u001b[0m\n\u001b[1;32m      3\u001b[0m \u001b[0;34m\u001b[0m\u001b[0m\n\u001b[1;32m      4\u001b[0m \u001b[0;32mdel\u001b[0m \u001b[0mminhalista\u001b[0m\u001b[0;34m\u001b[0m\u001b[0;34m\u001b[0m\u001b[0m\n\u001b[0;32m----> 5\u001b[0;31m \u001b[0mprint\u001b[0m\u001b[0;34m(\u001b[0m\u001b[0mminhalista\u001b[0m\u001b[0;34m)\u001b[0m\u001b[0;34m\u001b[0m\u001b[0;34m\u001b[0m\u001b[0m\n\u001b[0m",
      "\u001b[0;31mNameError\u001b[0m: name 'minhalista' is not defined"
     ]
    }
   ],
   "source": [
    "minhalista = [\"maçã\", \"pêra\",\"goiaba\",\"uva\"]\n",
    "print(minhalista)\n",
    "\n",
    "del minhalista\n",
    "print(minhalista)"
   ]
  },
  {
   "cell_type": "markdown",
   "metadata": {},
   "source": [
    "Pode-se remover todos os elementos de uma lista utilizando o método *clear()*."
   ]
  },
  {
   "cell_type": "code",
   "execution_count": 261,
   "metadata": {},
   "outputs": [
    {
     "name": "stdout",
     "output_type": "stream",
     "text": [
      "['maçã', 'pêra', 'goiaba', 'uva']\n",
      "[]\n"
     ]
    }
   ],
   "source": [
    "minhalista = [\"maçã\", \"pêra\",\"goiaba\",\"uva\"]\n",
    "print(minhalista)\n",
    "\n",
    "minhalista.clear()\n",
    "print(minhalista)"
   ]
  },
  {
   "cell_type": "markdown",
   "metadata": {},
   "source": [
    "#### 2 - E - Métodos da lista <a class=\"anchor\" id=\"heada3g\"></a>\n",
    "\n",
    "Além dos métodos de inserção e remoção de elementos as listas possuem outros métodos úteis para a sua utilização.\n",
    "\n",
    "O método *sort()* ordena os elementos da lista (de forma crescente). Ela pode receber como parâmetro *reverse* onde se atribui um booleano caso você queria ordernar de forma descrescente."
   ]
  },
  {
   "cell_type": "code",
   "execution_count": 129,
   "metadata": {},
   "outputs": [
    {
     "name": "stdout",
     "output_type": "stream",
     "text": [
      "['maçã', 'pêra', 'goiaba', 'uva']\n",
      "['goiaba', 'maçã', 'pêra', 'uva']\n",
      "['uva', 'pêra', 'maçã', 'goiaba']\n"
     ]
    }
   ],
   "source": [
    "minhalista = [\"maçã\", \"pêra\",\"goiaba\",\"uva\"]\n",
    "print(minhalista)\n",
    "\n",
    "minhalista.sort()\n",
    "print(minhalista)\n",
    "\n",
    "minhalista.sort(reverse=True)\n",
    "print(minhalista)"
   ]
  },
  {
   "cell_type": "markdown",
   "metadata": {},
   "source": [
    "O método *sort()* diferencia as letras maiúsculas e minúsculas, onde as maiúsculas são ordenadass antes das minúsculas. Para que o método não diferencie maiúsculas e minúsculas pode-se utilizar o parametro *key* e atribuir o valor *str.lower*."
   ]
  },
  {
   "cell_type": "code",
   "execution_count": 262,
   "metadata": {},
   "outputs": [
    {
     "name": "stdout",
     "output_type": "stream",
     "text": [
      "['aA', 'Ab', 'B', 'b']\n",
      "['Ab', 'B', 'aA', 'b']\n",
      "['aA', 'Ab', 'B', 'b']\n"
     ]
    }
   ],
   "source": [
    "minhalista = [\"aA\", \"Ab\",\"B\",\"b\"]\n",
    "print(minhalista)\n",
    "\n",
    "minhalista.sort()\n",
    "print(minhalista)\n",
    "\n",
    "minhalista.sort(key=str.lower)\n",
    "print(minhalista)"
   ]
  },
  {
   "cell_type": "markdown",
   "metadata": {},
   "source": [
    "Para inverter os elementos da lista pode-se utilizar o método *reverse()*. Este método irá inverter a posição dos elementos da forma que eles estão ordernado atualmente. "
   ]
  },
  {
   "cell_type": "code",
   "execution_count": 265,
   "metadata": {},
   "outputs": [
    {
     "name": "stdout",
     "output_type": "stream",
     "text": [
      "['maçã', 'pêra', 'goiaba', 'uva']\n",
      "['uva', 'goiaba', 'pêra', 'maçã']\n",
      "['maçã', 'pêra', 'goiaba', 'uva']\n",
      "['uva', 'goiaba', 'pêra', 'maçã']\n"
     ]
    }
   ],
   "source": [
    "minhalista = [\"maçã\", \"pêra\",\"goiaba\",\"uva\"]\n",
    "print(minhalista)\n",
    "\n",
    "minhalista.reverse()\n",
    "print(minhalista)\n",
    "\n",
    "print(minhalista[::-1])\n",
    "\n",
    "print(minhalista)\n"
   ]
  },
  {
   "cell_type": "markdown",
   "metadata": {},
   "source": [
    "Para verificar quantos elementos a lista possui podemos utilizar o método *count()*."
   ]
  },
  {
   "cell_type": "code",
   "execution_count": 7,
   "metadata": {},
   "outputs": [
    {
     "name": "stdout",
     "output_type": "stream",
     "text": [
      "2\n"
     ]
    }
   ],
   "source": [
    "minhalista = [\"maçã\", \"pêra\",\"goiaba\",\"uva\",\"maçã\", \"goiaba\"]\n",
    "\n",
    "print(minhalista.count(\"goiaba\"))"
   ]
  },
  {
   "cell_type": "markdown",
   "metadata": {},
   "source": [
    "Para retornar o índice de um elemento da lista podemos utilizar o método *index()* passando como parâmetro o elemento a ser encontrado."
   ]
  },
  {
   "cell_type": "code",
   "execution_count": 6,
   "metadata": {},
   "outputs": [
    {
     "name": "stdout",
     "output_type": "stream",
     "text": [
      "3\n"
     ]
    }
   ],
   "source": [
    "minhalista = [\"maçã\", \"pêra\",\"goiaba\",\"uva\",\"maçã\", \"goiaba\"]\n",
    "\n",
    "print(minhalista.index(\"uva\"))"
   ]
  },
  {
   "cell_type": "markdown",
   "metadata": {},
   "source": [
    "#### 2 - F - Copiando listas <a class=\"anchor\" id=\"heada3h\"></a>\n",
    "\n",
    "No Python para copiar os valores de uma lista para outra não podemos realizar uma simples atribuição como *Lista1=Lista2*. Pois esta operação cria uma referência da *Lista1* para *Lista2*, dessa forma qualquer alteração na *Lista2* será realizada na *Lista1*."
   ]
  },
  {
   "cell_type": "code",
   "execution_count": 266,
   "metadata": {},
   "outputs": [
    {
     "name": "stdout",
     "output_type": "stream",
     "text": [
      "['maçã', 'pêra', 'goiaba', 'uva']\n",
      "['caqui', 'pêra', 'goiaba', 'uva']\n",
      "['caqui', 'pêra', 'goiaba', 'uva']\n"
     ]
    }
   ],
   "source": [
    "minhalista = [\"maçã\", \"pêra\",\"goiaba\",\"uva\"]\n",
    "print(minhalista)\n",
    "\n",
    "nossalista = minhalista\n",
    "\n",
    "nossalista[0] = \"caqui\"\n",
    "\n",
    "print(minhalista)\n",
    "\n",
    "print(nossalista)\n"
   ]
  },
  {
   "cell_type": "markdown",
   "metadata": {},
   "source": [
    "Para copiar uma lista pode-ser utilizar o método *copy()* na lista que está sendo copiada."
   ]
  },
  {
   "cell_type": "code",
   "execution_count": 267,
   "metadata": {},
   "outputs": [
    {
     "name": "stdout",
     "output_type": "stream",
     "text": [
      "['maçã', 'pêra', 'goiaba', 'uva']\n",
      "['maçã', 'pêra', 'goiaba', 'uva']\n",
      "['caqui', 'pêra', 'goiaba', 'uva']\n"
     ]
    }
   ],
   "source": [
    "minhalista = [\"maçã\", \"pêra\",\"goiaba\",\"uva\"]\n",
    "print(minhalista)\n",
    "\n",
    "nossalista = minhalista.copy()\n",
    "\n",
    "nossalista[0] = \"caqui\"\n",
    "\n",
    "print(minhalista)\n",
    "print(nossalista)"
   ]
  },
  {
   "cell_type": "markdown",
   "metadata": {},
   "source": [
    "Também é possível copiar uma lista utilizando o comando *list* passando como parâmetro a lista que se deseja copiar."
   ]
  },
  {
   "cell_type": "code",
   "execution_count": 268,
   "metadata": {},
   "outputs": [
    {
     "name": "stdout",
     "output_type": "stream",
     "text": [
      "['maçã', 'pêra', 'goiaba', 'uva']\n",
      "['maçã', 'pêra', 'goiaba', 'uva']\n",
      "['caqui', 'pêra', 'goiaba', 'uva']\n"
     ]
    }
   ],
   "source": [
    "minhalista = [\"maçã\", \"pêra\",\"goiaba\",\"uva\"]\n",
    "print(minhalista)\n",
    "\n",
    "nossalista = list(minhalista)\n",
    "\n",
    "nossalista[0] = \"caqui\"\n",
    "\n",
    "print(minhalista)\n",
    "print(nossalista)"
   ]
  },
  {
   "cell_type": "markdown",
   "metadata": {},
   "source": [
    "Se a lista conter outras listas para copiar as listas internas utilizar o método *deepcopy*."
   ]
  },
  {
   "cell_type": "markdown",
   "metadata": {},
   "source": [
    "### 3. Estruturas condicionais <a class=\"anchor\" id=\"heada3i\"></a>"
   ]
  },
  {
   "cell_type": "markdown",
   "metadata": {},
   "source": [
    "Estruturas condicionais servem para fazer desvios no fluxo do código ou do programa. Esses desvios são realizados avaliando algum conjunto de condições para decidir que ação será realizada. \n",
    "\n",
    "A instrução *if* (se) verifica uma condição booleana (True ou False).\n",
    "\n",
    "A sintaxe mais comum é:\n",
    "\n",
    "if <condição> :\n",
    "<br>&nbsp;&nbsp;&nbsp;&nbsp;código\n",
    "\n",
    "Onde se a condição for verdadeira (True) o código indentado será executado."
   ]
  },
  {
   "cell_type": "code",
   "execution_count": 8,
   "metadata": {},
   "outputs": [
    {
     "name": "stdout",
     "output_type": "stream",
     "text": [
      "b é maior do que a\n",
      "b é maior ou igual do que a\n",
      "b é diferente de a\n"
     ]
    }
   ],
   "source": [
    "a = 33\n",
    "b = 200\n",
    "\n",
    "if b > a:\n",
    "    print(\"b é maior do que a\")\n",
    "    \n",
    "if b < a:\n",
    "    print(\"b é menor do que a\")\n",
    "\n",
    "if b >= a:\n",
    "    print(\"b é maior ou igual do que a\")\n",
    "    \n",
    "if b <= a:\n",
    "    print(\"b é menor ou igual do que a\")\n",
    "\n",
    "if b == a:\n",
    "    print(\"b é igua a a\")\n",
    "    \n",
    "if b != a:\n",
    "    print(\"b é diferente de a\")"
   ]
  },
  {
   "cell_type": "markdown",
   "metadata": {},
   "source": [
    "**ATENÇÃO**: a estrutura condicional deve ser indentada no bloco de comandos a ser executados caso a condição seja satisfeita."
   ]
  },
  {
   "cell_type": "code",
   "execution_count": 9,
   "metadata": {},
   "outputs": [
    {
     "name": "stdout",
     "output_type": "stream",
     "text": [
      "b é maior do que a\n"
     ]
    }
   ],
   "source": [
    "a = 33\n",
    "b = 200\n",
    "\n",
    "if b > a:\n",
    "    print(\"b é maior do que a\")"
   ]
  },
  {
   "cell_type": "markdown",
   "metadata": {},
   "source": [
    "Se uma instrução if está dentro da indentação de outro if nós dizemos que eles estão aninhados. "
   ]
  },
  {
   "cell_type": "code",
   "execution_count": 318,
   "metadata": {},
   "outputs": [
    {
     "name": "stdout",
     "output_type": "stream",
     "text": [
      "b é maior do que a\n",
      "b é maior do que 100\n"
     ]
    }
   ],
   "source": [
    "a = 30\n",
    "b = 191\n",
    "\n",
    "if (b > a):\n",
    "    print(\"b é maior do que a\")\n",
    "    if (b > 100):\n",
    "        print(\"b é maior do que 100\")"
   ]
  },
  {
   "cell_type": "markdown",
   "metadata": {},
   "source": [
    "Muitas vezes um programa irá testar uma condição e caso ela não seja verdadeira alguma ação precisa ser realizada. Para isso podemos utilizar após uma instrução  *if* a instrução *else* que irá executar outro código caso o teste da condição falhar.\n",
    "\n",
    "A sintaxe if-else mais comum é a seguinte:\n",
    "\n",
    "if <condição> :\n",
    "<br>&nbsp;&nbsp;&nbsp;&nbsp;código\n",
    "<br>else: \n",
    "<br>&nbsp;&nbsp;&nbsp;&nbsp;outro código\n",
    "\n",
    "Desta forma um dos dois códigos serão executados pelo programa."
   ]
  },
  {
   "cell_type": "code",
   "execution_count": 292,
   "metadata": {},
   "outputs": [
    {
     "name": "stdout",
     "output_type": "stream",
     "text": [
      "b é menor ou igual de a\n"
     ]
    }
   ],
   "source": [
    "a = 33\n",
    "b = 33\n",
    "\n",
    "if b > a:\n",
    "    print(\"b é maior do que a\")\n",
    "else:\n",
    "    print(\"b é menor ou igual de a\")"
   ]
  },
  {
   "cell_type": "markdown",
   "metadata": {},
   "source": [
    "Outra sintaxe do if-else é a seguinte:\n",
    "\n",
    "código *if* <condição> *else* outro código"
   ]
  },
  {
   "cell_type": "code",
   "execution_count": 305,
   "metadata": {},
   "outputs": [
    {
     "name": "stdout",
     "output_type": "stream",
     "text": [
      "34\n"
     ]
    }
   ],
   "source": [
    "a = 33\n",
    "b = 34\n",
    "\n",
    "print(a) if a > b else None\n",
    "\n",
    "print(a) if a > b else print(b)"
   ]
  },
  {
   "cell_type": "markdown",
   "metadata": {},
   "source": [
    "Frequentemente um programa precisará avaliar diversas situações para decidir qual fluxo será executado. Podemos utilizar a instrução *elif* para realizar outra avaliação.\n",
    "\n",
    "A sintaxe if-elif-else é a seguinte:\n",
    "\n",
    "if <condição 1> :\n",
    "<br>&nbsp;&nbsp;&nbsp;&nbsp;código 1\n",
    "<br>elif <condição 2> :\n",
    "<br>&nbsp;&nbsp;&nbsp;&nbsp;código 2\n",
    "<br>else: \n",
    "<br>&nbsp;&nbsp;&nbsp;&nbsp;outro código\n",
    "\n",
    "Obs: A instrução *else* pode ser omitida caso não seja necessário realizar algum comando fora das condições do fluxo.\n"
   ]
  },
  {
   "cell_type": "code",
   "execution_count": 287,
   "metadata": {},
   "outputs": [
    {
     "name": "stdout",
     "output_type": "stream",
     "text": [
      "b é maior do que a\n"
     ]
    }
   ],
   "source": [
    "a = 33\n",
    "b = 200\n",
    "\n",
    "if b > a:\n",
    "    print(\"b é maior do que a\")\n",
    "elif b < a:\n",
    "    print(\"b é menor do que a\")\n",
    "elif b >= a:\n",
    "    print(\"b é maior ou igual do que a\")\n",
    "elif b <= a:\n",
    "    print(\"b é menor ou igual do que a\")\n",
    "elif b == a:\n",
    "    print(\"b é igua a a\")\n",
    "elif b != a:\n",
    "    print(\"b é diferente de a\")"
   ]
  },
  {
   "cell_type": "code",
   "execution_count": 293,
   "metadata": {},
   "outputs": [
    {
     "name": "stdout",
     "output_type": "stream",
     "text": [
      "b é igual de a\n"
     ]
    }
   ],
   "source": [
    "a = 33\n",
    "b = 33\n",
    "\n",
    "if b > a:\n",
    "    print(\"b é maior do que a\")\n",
    "elif b < a:\n",
    "    print(\"b é maior do que a\")\n",
    "else:\n",
    "    print(\"b é igual de a\")"
   ]
  },
  {
   "cell_type": "markdown",
   "metadata": {},
   "source": [
    "As condições podem ser combinadas utilizando operadores lógicos *and* (e), *or* (ou) e *not* (negação). "
   ]
  },
  {
   "cell_type": "code",
   "execution_count": 308,
   "metadata": {},
   "outputs": [
    {
     "name": "stdout",
     "output_type": "stream",
     "text": [
      "b é menor do que 100 ou menor ou igual de a\n"
     ]
    }
   ],
   "source": [
    "a = 33\n",
    "b = 100\n",
    "\n",
    "if (b > a) and (b > 100):\n",
    "    print(\"b é maior do que a e maior do que 100\")\n",
    "else:\n",
    "    print(\"b é menor do que 100 ou menor ou igual de a\")"
   ]
  },
  {
   "cell_type": "code",
   "execution_count": 313,
   "metadata": {},
   "outputs": [
    {
     "name": "stdout",
     "output_type": "stream",
     "text": [
      "b é maior do que a ou maior do que 100\n"
     ]
    }
   ],
   "source": [
    "a = 330\n",
    "b = 101\n",
    "\n",
    "if (b > a) or (b > 100):\n",
    "    print(\"b é maior do que a ou maior do que 100\")"
   ]
  },
  {
   "cell_type": "markdown",
   "metadata": {},
   "source": [
    "## Parte III"
   ]
  },
  {
   "cell_type": "markdown",
   "metadata": {},
   "source": [
    "### Sumário\n",
    "\n",
    "1. [Laços de repetição](#headloop1)\n",
    "    1. [While](#headloop1a)\n",
    "    2. [For](#headloop1b)\n",
    "        1. [Range](#headloop1b1)\n",
    "        2. [Laços aninhados](#headloop1b2)\n",
    "    3. [List comprehension](#headloop1c)"
   ]
  },
  {
   "cell_type": "markdown",
   "metadata": {},
   "source": [
    "### 1. Laços de repetição <a class=\"anchor\" id=\"headloop1\"></a>  \n",
    "\n",
    "As estruturas de repetição, também conhecidas como laços (do inglês *loops*) são estruturas que permitem executar várias vezes o mesmo comando, ou conjunto de comandos, de acordo com uma condição de parada ou com um contador. São utilizadas, por exemplo, para repetir ações semelhantes que são executadas para todos os elementos de uma lista de dados, ou simplesmente para repetir um mesmo processamento até que a condição seja satisfeita."
   ]
  },
  {
   "cell_type": "code",
   "execution_count": 14,
   "metadata": {},
   "outputs": [
    {
     "data": {
      "text/plain": [
       "[3, 6, 9, 12, 15]"
      ]
     },
     "execution_count": 14,
     "metadata": {},
     "output_type": "execute_result"
    }
   ],
   "source": [
    "[3*1,3*2,3*3,3*4,3*5]"
   ]
  },
  {
   "cell_type": "code",
   "execution_count": 15,
   "metadata": {},
   "outputs": [
    {
     "name": "stdout",
     "output_type": "stream",
     "text": [
      "[3, 6, 9, 12, 15]\n"
     ]
    }
   ],
   "source": [
    "minhalista = []\n",
    "\n",
    "minhalista.append(3*1)\n",
    "minhalista.append(3*2)\n",
    "minhalista.append(3*3)\n",
    "minhalista.append(3*4)\n",
    "minhalista.append(3*5)\n",
    "\n",
    "print(minhalista)"
   ]
  },
  {
   "cell_type": "markdown",
   "metadata": {},
   "source": [
    "### 1. A. While <a class=\"anchor\" id=\"headloop1a\"></a>  \n",
    "\n",
    "O comando de repetição `while` tem duas partes: a condição de teste e o corpo da repetição. O formato é:\n",
    "\n",
    "```python\n",
    "while expr:\n",
    "    bloco_comandos\n",
    "```\n",
    "\n",
    "Sendo `expr` uma condição e `bloco_comandos` qualquer comando ou conjunto de comandos. Abaixo um diagrama do funcionamento dessa estrutura, sendo `A==True` a condição e `B` um conjunto qualquer de comandos:\n",
    "\n",
    "<img src=\"img/While-loop-diagram.svg.png\" alt=\"While diagrama\" width=\"300\">"
   ]
  },
  {
   "cell_type": "markdown",
   "metadata": {},
   "source": [
    "#### Exemplo de criação de lista de múltiplos de 3 usando o *while*"
   ]
  },
  {
   "cell_type": "code",
   "execution_count": 20,
   "metadata": {},
   "outputs": [
    {
     "name": "stdout",
     "output_type": "stream",
     "text": [
      "[3, 6, 9, 12, 15, 18, 21, 24, 27, 30, 33, 36, 39, 42, 45, 48, 51, 54, 57, 60, 63, 66, 69, 72, 75, 78, 81, 84, 87, 90, 93, 96, 99, 102, 105, 108, 111, 114, 117, 120, 123, 126, 129, 132, 135, 138, 141, 144, 147, 150]\n"
     ]
    }
   ],
   "source": [
    "minhalista = []\n",
    "\n",
    "i = 1\n",
    "while i <= 50:\n",
    "    minhalista.append(3*i)\n",
    "    i += 1 # eh equivalente a i = i + 1\n",
    "\n",
    "print(minhalista)"
   ]
  },
  {
   "cell_type": "markdown",
   "metadata": {},
   "source": [
    "#### Exemplo de criação de lista contendo os múltiplos de 3 até 21 usando o *while*"
   ]
  },
  {
   "cell_type": "code",
   "execution_count": 25,
   "metadata": {},
   "outputs": [
    {
     "name": "stdout",
     "output_type": "stream",
     "text": [
      "[3, 6, 9, 12, 15, 18, 21]\n"
     ]
    }
   ],
   "source": [
    "minhalista = []\n",
    "\n",
    "i = 1\n",
    "while ((i <= 50) and (3*i <= 21)):\n",
    "    minhalista.append(3*i)\n",
    "    i += 1 # eh equivalente a i = i + 1\n",
    "\n",
    "print(minhalista)"
   ]
  },
  {
   "cell_type": "markdown",
   "metadata": {},
   "source": [
    "#### Exemplo de criação de lista contendo os múltiplos de 3 que não são pares usando o *while*"
   ]
  },
  {
   "cell_type": "code",
   "execution_count": 27,
   "metadata": {},
   "outputs": [
    {
     "name": "stdout",
     "output_type": "stream",
     "text": [
      "[3, 9, 15, 21, 27, 33, 39, 45, 51, 57, 63, 69, 75, 81, 87, 93, 99, 105, 111, 117, 123, 129, 135, 141, 147]\n"
     ]
    }
   ],
   "source": [
    "minhalista = []\n",
    "\n",
    "i = 1\n",
    "while (i <= 50):\n",
    "    \n",
    "    if 3*i % 2 != 0:\n",
    "        minhalista.append(3*i)\n",
    "    \n",
    "    i += 1 # eh equivalente a i = i + 1\n",
    "\n",
    "print(minhalista)"
   ]
  },
  {
   "cell_type": "markdown",
   "metadata": {},
   "source": [
    "#### Exemplo de criação de lista contendo os múltiplos de 3 até que a soma dos seus algorismos seja maior do que 10 usando o *while*"
   ]
  },
  {
   "cell_type": "code",
   "execution_count": 49,
   "metadata": {},
   "outputs": [
    {
     "name": "stdout",
     "output_type": "stream",
     "text": [
      "[3, 6, 9, 12, 15, 18, 21, 24, 27, 30, 33, 36]\n"
     ]
    }
   ],
   "source": [
    "minhalista = []\n",
    "\n",
    "i = 1\n",
    "while (i <= 100):\n",
    "    \n",
    "    multiplo = 3*i\n",
    "    \n",
    "    # calcula a soma dos algarismos do multiplo\n",
    "    str_multiplo = str(multiplo)\n",
    "    soma_alg = 0\n",
    "    j = 0\n",
    "    while j < len(str_multiplo):\n",
    "        soma_alg += int(str_multiplo[j])\n",
    "        j += 1\n",
    "    \n",
    "    if soma_alg > 10:\n",
    "        break\n",
    "        \n",
    "    minhalista.append(multiplo)\n",
    "    \n",
    "    i += 1 # eh equivalente a i = i + 1\n",
    "\n",
    "print(minhalista)"
   ]
  },
  {
   "cell_type": "markdown",
   "metadata": {},
   "source": [
    "#### Exemplo de criação de lista contendo os múltiplos de 3 até 150 usando o *while*"
   ]
  },
  {
   "cell_type": "code",
   "execution_count": 53,
   "metadata": {},
   "outputs": [
    {
     "name": "stdout",
     "output_type": "stream",
     "text": [
      "[3, 6, 9, 12, 15, 18, 21, 24, 27, 30, 33, 36, 39, 42, 45, 48, 51, 54, 57, 60, 63, 66, 69, 72, 75, 78, 81, 84, 87, 90, 93, 96, 99, 102, 105, 108, 111, 114, 117, 120, 123, 126, 129, 132, 135, 138, 141, 144, 147, 150]\n"
     ]
    }
   ],
   "source": [
    "minhalista = []\n",
    "\n",
    "i = 1\n",
    "while (True):\n",
    "    \n",
    "    multiplo = 3*i\n",
    "    \n",
    "    if multiplo > 150:\n",
    "        break\n",
    "    \n",
    "    minhalista.append(multiplo)\n",
    "    \n",
    "    i += 1 # eh equivalente a i = i + 1\n",
    "    \n",
    "\n",
    "print(minhalista)"
   ]
  },
  {
   "cell_type": "markdown",
   "metadata": {},
   "source": [
    "#### Exemplo de criação de lista contendo os múltiplos de 3 até 150, exceto os pares usando o *while*"
   ]
  },
  {
   "cell_type": "code",
   "execution_count": 63,
   "metadata": {},
   "outputs": [
    {
     "name": "stdout",
     "output_type": "stream",
     "text": [
      "[3, 9, 15, 21, 27, 33, 39, 45, 51, 57, 63, 69, 75, 81, 87, 93, 99, 105, 111, 117, 123, 129, 135, 141, 147]\n"
     ]
    }
   ],
   "source": [
    "minhalista = []\n",
    "\n",
    "i = 1\n",
    "\n",
    "multiplo = 3*i\n",
    "\n",
    "\n",
    "while (multiplo < 150):\n",
    "    \n",
    "    multiplo = 3*i\n",
    "    \n",
    "    i += 1\n",
    "    \n",
    "    if multiplo % 2 == 0:\n",
    "        continue\n",
    "    \n",
    "    minhalista.append(multiplo)\n",
    "\n",
    "\n",
    "print(minhalista)"
   ]
  },
  {
   "cell_type": "markdown",
   "metadata": {},
   "source": [
    "#### O *while* permite a diretiva `else` após sua declaração.\n",
    "Nesse caso, quando a condição de parada não for satisfeita, será executado um comando ou um conjunto de comandos."
   ]
  },
  {
   "cell_type": "code",
   "execution_count": 64,
   "metadata": {},
   "outputs": [
    {
     "name": "stdout",
     "output_type": "stream",
     "text": [
      "Fim da lista\n",
      "[3, 9, 15, 21, 27, 33, 39, 45, 51, 57, 63, 69, 75, 81, 87, 93, 99, 105, 111, 117, 123, 129, 135, 141, 147]\n"
     ]
    }
   ],
   "source": [
    "minhalista = []\n",
    "\n",
    "i = 1\n",
    "\n",
    "multiplo = 3*i\n",
    "\n",
    "\n",
    "while (multiplo < 150):\n",
    "    \n",
    "    multiplo = 3*i\n",
    "    \n",
    "    i += 1\n",
    "    \n",
    "    if multiplo % 2 == 0:\n",
    "        continue\n",
    "    \n",
    "    minhalista.append(multiplo)\n",
    "else:\n",
    "    print('Fim da lista')\n",
    "    print(minhalista)\n",
    "\n"
   ]
  },
  {
   "cell_type": "markdown",
   "metadata": {},
   "source": [
    "### 1. B. For <a class=\"anchor\" id=\"headloop1b\"></a>  \n",
    "\n",
    "O comando de repetição `for` é estruturado da seguinte forma:\n",
    "\n",
    "```python\n",
    "for elemento in lista_valores:\n",
    "    bloco_comandos\n",
    "```\n",
    "\n",
    "Sendo `elemento` o nome dado a variável que irá guardar o valor de cada elemento da lista e `lista_valores` uma lista qualquer."
   ]
  },
  {
   "cell_type": "code",
   "execution_count": 65,
   "metadata": {},
   "outputs": [
    {
     "name": "stdout",
     "output_type": "stream",
     "text": [
      "banana\n",
      "alface\n",
      "rucula\n",
      "maça\n",
      "pera\n",
      "abacate\n"
     ]
    }
   ],
   "source": [
    "minhalista = ['banana', 'alface', 'rucula','maça','pera','abacate']\n",
    "\n",
    "for fruta in minhalista:\n",
    "    print(fruta)"
   ]
  },
  {
   "cell_type": "code",
   "execution_count": 69,
   "metadata": {},
   "outputs": [
    {
     "name": "stdout",
     "output_type": "stream",
     "text": [
      "11\n"
     ]
    }
   ],
   "source": [
    "num = 2045\n",
    "soma_alg = 0\n",
    "\n",
    "for alg in str(num):\n",
    "    soma_alg += int(alg)\n",
    "    \n",
    "print(soma_alg)"
   ]
  },
  {
   "cell_type": "markdown",
   "metadata": {},
   "source": [
    "### 1. B. a. Range <a class=\"anchor\" id=\"headloop1b1\"></a>  \n",
    "A função `range()` cria uma lista de valores inteiros ao especificarmos o início da sequência, o passo (de quanto em quanto aumenta/diminui), e o valor final. "
   ]
  },
  {
   "cell_type": "code",
   "execution_count": 79,
   "metadata": {},
   "outputs": [
    {
     "name": "stdout",
     "output_type": "stream",
     "text": [
      "0 1 2 3 4 "
     ]
    }
   ],
   "source": [
    "# Por padrão, o python inicia as sequências em 0 e o passo é 1\n",
    "# Ou seja, nesse caso a sequência começa em 0, aumenta de 1 em 1 e vai até o valor final 5.\n",
    "for x in range(5):\n",
    "    print(x, end=' ')"
   ]
  },
  {
   "cell_type": "code",
   "execution_count": 80,
   "metadata": {},
   "outputs": [
    {
     "name": "stdout",
     "output_type": "stream",
     "text": [
      "0 1 2 3 4 "
     ]
    }
   ],
   "source": [
    "for x in range(0, 5):\n",
    "    print(x, end=' ')"
   ]
  },
  {
   "cell_type": "code",
   "execution_count": 81,
   "metadata": {},
   "outputs": [
    {
     "name": "stdout",
     "output_type": "stream",
     "text": [
      "1 2 3 4 "
     ]
    }
   ],
   "source": [
    "# Sequência inicia em 1\n",
    "for x in range(1, 5):\n",
    "    print(x, end=' ')"
   ]
  },
  {
   "cell_type": "code",
   "execution_count": 77,
   "metadata": {},
   "outputs": [
    {
     "name": "stdout",
     "output_type": "stream",
     "text": [
      "3 5 7 9 11 13 15 17 19 "
     ]
    }
   ],
   "source": [
    "# Sequência inicia em 3, vai até 21 e anda passo de 2 em 2\n",
    "for x in range(3, 21, 2):\n",
    "    print(x, end=' ')"
   ]
  },
  {
   "cell_type": "markdown",
   "metadata": {},
   "source": [
    "#### Exemplo de criação de lista contendo os múltiplos de 3 até 150 usando o *range*"
   ]
  },
  {
   "cell_type": "code",
   "execution_count": 78,
   "metadata": {},
   "outputs": [
    {
     "name": "stdout",
     "output_type": "stream",
     "text": [
      "3 6 9 12 15 18 21 24 27 30 33 36 39 42 45 48 51 54 57 60 63 66 69 72 75 78 81 84 87 90 93 96 99 102 105 108 111 114 117 120 123 126 129 132 135 138 141 144 147 "
     ]
    }
   ],
   "source": [
    "for x in range(3, 150, 3):\n",
    "    print(x, end=' ')"
   ]
  },
  {
   "cell_type": "markdown",
   "metadata": {},
   "source": [
    "### 1. B. b. Laços aninhados <a class=\"anchor\" id=\"headloop1b2\"></a>  \n",
    "É possível colocar um laço de repetição dentro de outro (laço aninhado)."
   ]
  },
  {
   "cell_type": "code",
   "execution_count": 82,
   "metadata": {},
   "outputs": [
    {
     "name": "stdout",
     "output_type": "stream",
     "text": [
      "banana salmão\n",
      "banana namorado\n",
      "banana tilapia\n",
      "banana atum\n",
      "banana sardinha\n",
      "banana bacalhau\n",
      "maça salmão\n",
      "maça namorado\n",
      "maça tilapia\n",
      "maça atum\n",
      "maça sardinha\n",
      "maça bacalhau\n",
      "pera salmão\n",
      "pera namorado\n",
      "pera tilapia\n",
      "pera atum\n",
      "pera sardinha\n",
      "pera bacalhau\n",
      "alface salmão\n",
      "alface namorado\n",
      "alface tilapia\n",
      "alface atum\n",
      "alface sardinha\n",
      "alface bacalhau\n",
      "uva salmão\n",
      "uva namorado\n",
      "uva tilapia\n",
      "uva atum\n",
      "uva sardinha\n",
      "uva bacalhau\n",
      "berinjela salmão\n",
      "berinjela namorado\n",
      "berinjela tilapia\n",
      "berinjela atum\n",
      "berinjela sardinha\n",
      "berinjela bacalhau\n"
     ]
    }
   ],
   "source": [
    "# Nesse exemplo, para cada item do hortifruti, imprime o seu valor e o valor de cada item de peixes.\n",
    "\n",
    "lista_hortifruti = ['banana','maça','pera','alface','uva','berinjela']\n",
    "lista_peixes = ['salmão','namorado','tilapia','atum','sardinha','bacalhau']\n",
    "\n",
    "for hortifruti in lista_hortifruti:\n",
    "    for peixe in lista_peixes:\n",
    "        print(hortifruti,peixe)"
   ]
  },
  {
   "cell_type": "markdown",
   "metadata": {},
   "source": [
    "#### Em uma lista, é possível acessar cada elemento pelo seu índice\n",
    "<span style=\"color:red\">ATENÇÃO:</span> No python, o índice da lista **começa em 0** (ou seja, para acessar o primeiro elemento usa-se `lista[0]`)."
   ]
  },
  {
   "cell_type": "code",
   "execution_count": 85,
   "metadata": {},
   "outputs": [
    {
     "name": "stdout",
     "output_type": "stream",
     "text": [
      "banana\n",
      "alface\n",
      "rucula\n",
      "maça\n",
      "pera\n",
      "abacate\n"
     ]
    }
   ],
   "source": [
    "# Nesse exemplo é criado, com a função range(), uma sequência que vai de 0 até o tamanho da lista passo 1.\n",
    "# É feito um loop nessa sequência acessando cada elemento da minhalista pelo índice.\n",
    "\n",
    "minhalista = ['banana', 'alface', 'rucula','maça','pera','abacate']\n",
    "\n",
    "for i in range(len(minhalista)):\n",
    "    print(minhalista[i])"
   ]
  },
  {
   "cell_type": "markdown",
   "metadata": {},
   "source": [
    "#### Exemplo imprimir elementos da lista que estão nos indices pares"
   ]
  },
  {
   "cell_type": "code",
   "execution_count": 88,
   "metadata": {},
   "outputs": [
    {
     "name": "stdout",
     "output_type": "stream",
     "text": [
      "banana\n",
      "rucula\n",
      "pera\n",
      "abobrinha\n",
      "couve\n"
     ]
    }
   ],
   "source": [
    "minhalista = ['banana', 'alface', 'rucula','maça','pera','abacate','abobrinha', 'chuchu', 'couve']\n",
    "    \n",
    "for i in range(0,len(minhalista),2):\n",
    "    print(minhalista[i])"
   ]
  },
  {
   "cell_type": "markdown",
   "metadata": {},
   "source": [
    "### 1. C. List comprehension <a class=\"anchor\" id=\"headloop1c\"></a>  \n",
    "\n",
    "Desde a versão 2.0, o Python oferece uma construção chamada *list comprehensions*, que é capaz de gerar listas de valores de forma reduzida e de mais fácil leitura. Sua sintaxe básica é:\n",
    "\n",
    "```python\n",
    "nova_lista = [expr for item in lista]\n",
    "```\n",
    "Em outras palavras: aplique a expressão `expr` em cada `item` da `lista` e adicione na `nova_lista`. O esquema abaixo ilustra o funcionamento do *list comprehension*: O código na parte superior é equivalente ao código usando o *list comprehension* na última linha.\n",
    "\n",
    "<img src=\"img/list-comprehension-diagram.png\" alt=\"While diagrama\" width=\"500\">\n",
    "\n",
    "Também aceita condições, como:\n",
    "\n",
    "```python\n",
    "nova_lista = [expr for item in lista if condition == True]\n",
    "```"
   ]
  },
  {
   "cell_type": "code",
   "execution_count": 96,
   "metadata": {},
   "outputs": [
    {
     "name": "stdout",
     "output_type": "stream",
     "text": [
      "[3, 6, 9, 12, 15, 18, 21, 24, 27, 30, 33, 36, 39, 42, 45, 48, 51, 54, 57, 60, 63, 66, 69, 72, 75, 78, 81, 84, 87, 90, 93, 96, 99, 102, 105, 108, 111, 114, 117, 120, 123, 126, 129, 132, 135, 138, 141, 144, 147]\n"
     ]
    }
   ],
   "source": [
    "minhalista = [i for i in range(3,150,3)]\n",
    "\n",
    "print(minhalista)"
   ]
  },
  {
   "cell_type": "code",
   "execution_count": 93,
   "metadata": {},
   "outputs": [
    {
     "data": {
      "text/plain": [
       "['banana', 'alface', 'rucula', 'maça', 'pera', 'abacate', 'abobrinha']"
      ]
     },
     "execution_count": 93,
     "metadata": {},
     "output_type": "execute_result"
    }
   ],
   "source": [
    "minhalista = ['banana', 'alface', 'rucula','maça','pera','abacate','abobrinha', 'chuchu', 'couve']\n",
    "\n",
    "[fruta for fruta in minhalista if \"a\" in fruta]"
   ]
  },
  {
   "cell_type": "code",
   "execution_count": 97,
   "metadata": {},
   "outputs": [
    {
     "data": {
      "text/plain": [
       "['BANANA', 'ALFACE', 'RUCULA', 'MAÇA', 'PERA', 'ABACATE', 'ABOBRINHA']"
      ]
     },
     "execution_count": 97,
     "metadata": {},
     "output_type": "execute_result"
    }
   ],
   "source": [
    "minhalista = ['banana', 'alface', 'rucula','maça','pera','abacate','abobrinha', 'chuchu', 'couve']\n",
    "\n",
    "[fruta.upper() for fruta in minhalista if \"a\" in fruta]"
   ]
  },
  {
   "cell_type": "code",
   "execution_count": 98,
   "metadata": {},
   "outputs": [
    {
     "data": {
      "text/plain": [
       "['Olá', 'Olá', 'Olá', 'Olá', 'Olá', 'Olá', 'Olá']"
      ]
     },
     "execution_count": 98,
     "metadata": {},
     "output_type": "execute_result"
    }
   ],
   "source": [
    "minhalista = ['banana', 'alface', 'rucula','maça','pera','abacate','abobrinha', 'chuchu', 'couve']\n",
    "\n",
    "['Olá' for fruta in minhalista if \"a\" in fruta]"
   ]
  },
  {
   "cell_type": "code",
   "execution_count": 104,
   "metadata": {},
   "outputs": [
    {
     "data": {
      "text/plain": [
       "['banana',\n",
       " 'alface',\n",
       " 'rucula',\n",
       " 'maça',\n",
       " 'pera',\n",
       " 'abacate',\n",
       " 'abobrinha',\n",
       " 'NAO EH FRUTA',\n",
       " 'NAO EH FRUTA']"
      ]
     },
     "execution_count": 104,
     "metadata": {},
     "output_type": "execute_result"
    }
   ],
   "source": [
    "minhalista = ['banana', 'alface', 'rucula','maça','pera','abacate','abobrinha', 'chuchu', 'couve']\n",
    "\n",
    "[fruta if 'a' in fruta else 'NAO EH FRUTA' for fruta in minhalista]"
   ]
  },
  {
   "cell_type": "code",
   "execution_count": 105,
   "metadata": {},
   "outputs": [
    {
     "data": {
      "text/plain": [
       "['banana', 'alface', 'rucula', 'maça', 'pera', 'abacate', 'abobrinha']"
      ]
     },
     "execution_count": 105,
     "metadata": {},
     "output_type": "execute_result"
    }
   ],
   "source": [
    "minhalista = ['banana', 'alface', 'rucula','maça','pera','abacate','abobrinha', 'chuchu', 'couve']\n",
    "\n",
    "[fruta for fruta in minhalista if 'a' in fruta]"
   ]
  },
  {
   "cell_type": "markdown",
   "metadata": {},
   "source": [
    "## Parte IV"
   ]
  },
  {
   "cell_type": "markdown",
   "metadata": {},
   "source": [
    "### Sumário\n",
    "\n",
    "1. [Tuplas](#heada5a)\n",
    "2. [Conjuntos](#heada5b)\n",
    "3. [Dicionários](#heada5c)"
   ]
  },
  {
   "cell_type": "markdown",
   "metadata": {},
   "source": [
    "### 1. Tuplas <a class=\"anchor\" id=\"heada3b\"></a>\n",
    "\n",
    "Tuples (tupla) como mencionado na aula 3 é uma das quatro estruturas de dados disponíveis no Python que você pode utilizar para armazenar múltiplos itens. As demais são: list (lista), dictionary (dicionário) e set (conjunto).\n",
    "\n",
    "Assim como a lista não é necessário importar nenhuma biblioteca para utilizar as tuplas.\n",
    "\n",
    "Tuplas são similares às *listas*,  a sua maior diferença é que ela é imutável, após a criação da tupla ela não pode ser alterada. Ou seja, após a sua criação não é possível alterar, adicionar e remover seus elementos.\n",
    "\n",
    "As tuplas são úteis para quando se precisa de uma sequência ordenada de valores que nunca se modificam. Por não serem modificáveis o Python tem uma execução mais otimizada para as tuplas do que para listas.\n",
    "\n",
    "As tuplas são sempre colocadas entre parênteses, e os itens contidos dentro da tupla são sempre separados por uma vírgula.\n"
   ]
  },
  {
   "cell_type": "code",
   "execution_count": 41,
   "metadata": {},
   "outputs": [
    {
     "name": "stdout",
     "output_type": "stream",
     "text": [
      "('banana', 'maça', 'pera', 'maça')\n"
     ]
    }
   ],
   "source": [
    "minhatupla = ('banana', 'maça', 'pera','maça')\n",
    "print(minhatupla)"
   ]
  },
  {
   "cell_type": "markdown",
   "metadata": {},
   "source": [
    "Para verificar a quantidade número de elementos na tupla podemos usar o comando *len* e passar a tupla como parâmetro."
   ]
  },
  {
   "cell_type": "code",
   "execution_count": 42,
   "metadata": {},
   "outputs": [
    {
     "data": {
      "text/plain": [
       "4"
      ]
     },
     "execution_count": 42,
     "metadata": {},
     "output_type": "execute_result"
    }
   ],
   "source": [
    "len(minhatupla)"
   ]
  },
  {
   "cell_type": "markdown",
   "metadata": {},
   "source": [
    "Assim como nas listas seus elementos pode ser de qualquer tipos."
   ]
  },
  {
   "cell_type": "code",
   "execution_count": 43,
   "metadata": {},
   "outputs": [
    {
     "name": "stdout",
     "output_type": "stream",
     "text": [
      "(True, 'maça', 10)\n"
     ]
    }
   ],
   "source": [
    "outra_tupla = (True,'maça',10)\n",
    "print(outra_tupla)"
   ]
  },
  {
   "cell_type": "markdown",
   "metadata": {},
   "source": [
    "Se tivermos dúvida do tipo a variável podemos verificar o tipo usando o comando *type*."
   ]
  },
  {
   "cell_type": "code",
   "execution_count": 44,
   "metadata": {},
   "outputs": [
    {
     "data": {
      "text/plain": [
       "tuple"
      ]
     },
     "execution_count": 44,
     "metadata": {},
     "output_type": "execute_result"
    }
   ],
   "source": [
    "type(outra_tupla)"
   ]
  },
  {
   "cell_type": "markdown",
   "metadata": {},
   "source": [
    "Tenha cuidado com a criação das tuplas com um único elemento."
   ]
  },
  {
   "cell_type": "code",
   "execution_count": 2,
   "metadata": {},
   "outputs": [
    {
     "data": {
      "text/plain": [
       "str"
      ]
     },
     "execution_count": 2,
     "metadata": {},
     "output_type": "execute_result"
    }
   ],
   "source": [
    "t = ('banana')\n",
    "type(t)"
   ]
  },
  {
   "cell_type": "markdown",
   "metadata": {},
   "source": [
    "Como podemos ver não ocorreu o esperado, foi criado uma variável do tipo string.\n",
    "\n",
    "Isso ocorre pois para criarmos uma tupla temos que ter pelo menos uma vírgula entre os parênteses."
   ]
  },
  {
   "cell_type": "code",
   "execution_count": 5,
   "metadata": {},
   "outputs": [
    {
     "data": {
      "text/plain": [
       "tuple"
      ]
     },
     "execution_count": 5,
     "metadata": {},
     "output_type": "execute_result"
    }
   ],
   "source": [
    "t = ('banana',)\n",
    "type(t)"
   ]
  },
  {
   "cell_type": "markdown",
   "metadata": {},
   "source": [
    "Os elementos da tupla podem ser acessados da mesma forma que nas listas indicando o seu índice.\n",
    "\n",
    "Lembrando que pode utilizar o índice negativo para iniciar o índice pelo final da tupla.\n",
    "\n",
    "E também é possível utilizar os ranges (com step) para verificarmos os elementos."
   ]
  },
  {
   "cell_type": "code",
   "execution_count": 46,
   "metadata": {},
   "outputs": [
    {
     "data": {
      "text/plain": [
       "'maça'"
      ]
     },
     "execution_count": 46,
     "metadata": {},
     "output_type": "execute_result"
    }
   ],
   "source": [
    "minhatupla[1]"
   ]
  },
  {
   "cell_type": "code",
   "execution_count": 47,
   "metadata": {},
   "outputs": [
    {
     "data": {
      "text/plain": [
       "('maça', 'pera', 'maça')"
      ]
     },
     "execution_count": 47,
     "metadata": {},
     "output_type": "execute_result"
    }
   ],
   "source": [
    "minhatupla[1:]"
   ]
  },
  {
   "cell_type": "code",
   "execution_count": 48,
   "metadata": {},
   "outputs": [
    {
     "data": {
      "text/plain": [
       "'maça'"
      ]
     },
     "execution_count": 48,
     "metadata": {},
     "output_type": "execute_result"
    }
   ],
   "source": [
    "minhatupla[-1]"
   ]
  },
  {
   "cell_type": "code",
   "execution_count": 50,
   "metadata": {},
   "outputs": [
    {
     "name": "stdout",
     "output_type": "stream",
     "text": [
      "('banana', 'maça', 'pera', 'maça')\n"
     ]
    },
    {
     "data": {
      "text/plain": [
       "('banana', 'pera')"
      ]
     },
     "execution_count": 50,
     "metadata": {},
     "output_type": "execute_result"
    }
   ],
   "source": [
    "print(minhatupla)\n",
    "minhatupla[0::2]"
   ]
  },
  {
   "cell_type": "markdown",
   "metadata": {},
   "source": [
    "Podemos usar o operador *in* para verificar se existe um elemento na tupla."
   ]
  },
  {
   "cell_type": "code",
   "execution_count": 53,
   "metadata": {},
   "outputs": [
    {
     "data": {
      "text/plain": [
       "True"
      ]
     },
     "execution_count": 53,
     "metadata": {},
     "output_type": "execute_result"
    }
   ],
   "source": [
    "'maça' in minhatupla"
   ]
  },
  {
   "cell_type": "markdown",
   "metadata": {},
   "source": [
    "Podemos criar uma tupla a partir de uma lista utilizando o comando *tuple* passando como parâmetro uma lista."
   ]
  },
  {
   "cell_type": "code",
   "execution_count": 55,
   "metadata": {},
   "outputs": [
    {
     "name": "stdout",
     "output_type": "stream",
     "text": [
      "('pera', 'banana', 'maça')\n"
     ]
    }
   ],
   "source": [
    "outra_tupla = tuple(['pera','banana','maça'])\n",
    "\n",
    "print(outra_tupla)"
   ]
  },
  {
   "cell_type": "markdown",
   "metadata": {},
   "source": [
    "Da mesma forma podemos criar uma lista a partir de uma tupla, utilizando o comando *list* passando como parâmetro uma tupla."
   ]
  },
  {
   "cell_type": "code",
   "execution_count": 56,
   "metadata": {},
   "outputs": [
    {
     "data": {
      "text/plain": [
       "['pera', 'banana', 'maça']"
      ]
     },
     "execution_count": 56,
     "metadata": {},
     "output_type": "execute_result"
    }
   ],
   "source": [
    "list(outra_tupla)"
   ]
  },
  {
   "cell_type": "markdown",
   "metadata": {},
   "source": [
    "Conforme colocado anteriormente os elementos da tupla são imutáveis, se tentarmos alterar ou atribuir algum valor a tupla irá ocorrer um erro."
   ]
  },
  {
   "cell_type": "code",
   "execution_count": 4,
   "metadata": {},
   "outputs": [
    {
     "ename": "TypeError",
     "evalue": "'tuple' object does not support item assignment",
     "output_type": "error",
     "traceback": [
      "\u001b[1;31m---------------------------------------------------------------------------\u001b[0m",
      "\u001b[1;31mTypeError\u001b[0m                                 Traceback (most recent call last)",
      "\u001b[1;32m<ipython-input-4-499e3b9d95e8>\u001b[0m in \u001b[0;36m<module>\u001b[1;34m\u001b[0m\n\u001b[0;32m      1\u001b[0m \u001b[0mtupla\u001b[0m \u001b[1;33m=\u001b[0m \u001b[1;33m(\u001b[0m\u001b[1;34m'banana'\u001b[0m \u001b[1;34m'maca'\u001b[0m\u001b[1;33m,\u001b[0m \u001b[1;34m'pera'\u001b[0m\u001b[1;33m)\u001b[0m\u001b[1;33m\u001b[0m\u001b[1;33m\u001b[0m\u001b[0m\n\u001b[1;32m----> 2\u001b[1;33m \u001b[0mtupla\u001b[0m\u001b[1;33m[\u001b[0m\u001b[1;36m1\u001b[0m\u001b[1;33m]\u001b[0m \u001b[1;33m=\u001b[0m \u001b[1;34m'pessego'\u001b[0m\u001b[1;33m\u001b[0m\u001b[1;33m\u001b[0m\u001b[0m\n\u001b[0m",
      "\u001b[1;31mTypeError\u001b[0m: 'tuple' object does not support item assignment"
     ]
    }
   ],
   "source": [
    "tupla = ('banana' 'maca', 'pera')\n",
    "tupla[1] = 'pessego'"
   ]
  },
  {
   "cell_type": "markdown",
   "metadata": {},
   "source": [
    "Para \"modificar\" uma tupla pode-se converter a tupla para uma lista, alterar os elementos e converter a lista novamente para uma tupla."
   ]
  },
  {
   "cell_type": "code",
   "execution_count": 60,
   "metadata": {},
   "outputs": [
    {
     "name": "stdout",
     "output_type": "stream",
     "text": [
      "('pera', 'banana', 'maça')\n",
      "('pera', 'pessego', 'maça')\n"
     ]
    }
   ],
   "source": [
    "outra_tupla = tuple(['pera','banana','maça'])\n",
    "print(outra_tupla)\n",
    "\n",
    "temp = list(outra_tupla)\n",
    "temp[1] = 'pessego'\n",
    "\n",
    "outra_tupla = tuple(temp)\n",
    "\n",
    "print(outra_tupla)"
   ]
  },
  {
   "cell_type": "markdown",
   "metadata": {},
   "source": [
    "Podemos realizar o mesmo processo para \"adicionar\" um elemento da tupla. Convertemos a tupla em uma lista, adcionamos o elemento na lista (com o método *append*) e a partir dela recriamos a tupla."
   ]
  },
  {
   "cell_type": "code",
   "execution_count": 61,
   "metadata": {},
   "outputs": [
    {
     "name": "stdout",
     "output_type": "stream",
     "text": [
      "('pera', 'banana', 'maça')\n",
      "('pera', 'banana', 'maça', 'pessego')\n"
     ]
    }
   ],
   "source": [
    "outra_tupla = tuple(['pera','banana','maça'])\n",
    "print(outra_tupla)\n",
    "\n",
    "temp = list(outra_tupla)\n",
    "temp.append('pessego')\n",
    "\n",
    "outra_tupla = tuple(temp)\n",
    "print(outra_tupla)"
   ]
  },
  {
   "cell_type": "markdown",
   "metadata": {},
   "source": [
    "Para \"remover\" elementos de uma tupla executamos o mesmo processo anterior. Relembrando que é possível remover elementos de uma lista com os métodos *remove* ou o método *pop*, ou também com o comando *del* em todos eles indicando o índice do elemento a ser removido."
   ]
  },
  {
   "cell_type": "code",
   "execution_count": 62,
   "metadata": {},
   "outputs": [
    {
     "name": "stdout",
     "output_type": "stream",
     "text": [
      "('pera', 'banana', 'maça')\n",
      "('pera', 'banana')\n"
     ]
    }
   ],
   "source": [
    "outra_tupla = tuple(['pera','banana','maça'])\n",
    "print(outra_tupla)\n",
    "\n",
    "temp = list(outra_tupla)\n",
    "temp.remove('maça')\n",
    "\n",
    "outra_tupla = tuple(temp)\n",
    "print(outra_tupla)"
   ]
  },
  {
   "cell_type": "code",
   "execution_count": 65,
   "metadata": {},
   "outputs": [
    {
     "name": "stdout",
     "output_type": "stream",
     "text": [
      "('pera', 'banana', 'maça')\n",
      "('pera', 'maça')\n"
     ]
    }
   ],
   "source": [
    "outra_tupla = tuple(['pera','banana','maça'])\n",
    "print(outra_tupla)\n",
    "\n",
    "temp = list(outra_tupla)\n",
    "temp.pop(1)\n",
    "\n",
    "outra_tupla = tuple(temp)\n",
    "print(outra_tupla)"
   ]
  },
  {
   "cell_type": "code",
   "execution_count": 66,
   "metadata": {},
   "outputs": [
    {
     "name": "stdout",
     "output_type": "stream",
     "text": [
      "('pera', 'banana', 'maça')\n",
      "('pera', 'maça')\n"
     ]
    }
   ],
   "source": [
    "outra_tupla = tuple(['pera','banana','maça'])\n",
    "print(outra_tupla)\n",
    "\n",
    "temp = list(outra_tupla)\n",
    "del temp[1]\n",
    "\n",
    "outra_tupla = tuple(temp)\n",
    "print(outra_tupla)"
   ]
  },
  {
   "cell_type": "markdown",
   "metadata": {},
   "source": [
    "Quando criamos uma tupla o processo se chama *empacotar* uma tupla. Da mesma forma quando atribuímos os valores contidos em uma tupla pra outras variáveis chamamos esse processo de *desempacotar*.\n",
    "\n",
    "Para que o processo de desempacotar uma tupla funcione é necessário ter a quantidade de variáveis igual a quantidade de elementos da tupla, se não, basta utilizar um asterisco para coletar os elementos remanescentes na tupla em uma lista."
   ]
  },
  {
   "cell_type": "code",
   "execution_count": 67,
   "metadata": {},
   "outputs": [
    {
     "name": "stdout",
     "output_type": "stream",
     "text": [
      "('pera', 'banana', 'maça')\n",
      "pera\n",
      "banana\n",
      "maça\n"
     ]
    }
   ],
   "source": [
    "outra_tupla = ('pera','banana','maça')\n",
    "print(outra_tupla)\n",
    "\n",
    "(verde, amarela, vermelha) = outra_tupla\n",
    "\n",
    "print(verde)\n",
    "print(amarela)\n",
    "print(vermelha)\n"
   ]
  },
  {
   "cell_type": "code",
   "execution_count": 72,
   "metadata": {},
   "outputs": [
    {
     "name": "stdout",
     "output_type": "stream",
     "text": [
      "('pera', 'banana', 'maça', 'limão', 'laranja', 'cajá', 'abil', 'morango', 'mamão')\n",
      "\n",
      "pera\n",
      "['banana', 'maça', 'limão', 'laranja', 'cajá', 'abil', 'morango']\n",
      "mamão\n"
     ]
    }
   ],
   "source": [
    "outra_tupla = ('pera','banana','maça', 'limão', 'laranja', 'cajá', 'abil', 'morango', 'mamão')\n",
    "print(outra_tupla)\n",
    "\n",
    "(primeira, *outras_frutas, ultima) = outra_tupla\n",
    "print(\"\")\n",
    "print(primeira)\n",
    "print(outras_frutas)\n",
    "print(ultima)\n",
    "\n"
   ]
  },
  {
   "cell_type": "markdown",
   "metadata": {},
   "source": [
    "Podemos percorrer todos os elementos de uma tupla com um loop for utilzando o operador *in*."
   ]
  },
  {
   "cell_type": "code",
   "execution_count": 73,
   "metadata": {},
   "outputs": [
    {
     "name": "stdout",
     "output_type": "stream",
     "text": [
      "('pera', 'banana', 'maça', 'limão', 'laranja', 'cajá', 'abil', 'morango', 'mamão')\n",
      "pera\n",
      "banana\n",
      "maça\n",
      "limão\n",
      "laranja\n",
      "cajá\n",
      "abil\n",
      "morango\n",
      "mamão\n"
     ]
    }
   ],
   "source": [
    "outra_tupla = ('pera','banana','maça', 'limão', 'laranja', 'cajá', 'abil', 'morango', 'mamão')\n",
    "print(outra_tupla)\n",
    "\n",
    "for fruta in outra_tupla:\n",
    "    print(fruta)"
   ]
  },
  {
   "cell_type": "markdown",
   "metadata": {},
   "source": [
    "É possível criar uma lista percorrendo os elementos da tupla com um loop for.\n",
    "\n",
    "Observar que a linha inteira do loop está dentro de colchetes."
   ]
  },
  {
   "cell_type": "code",
   "execution_count": 82,
   "metadata": {},
   "outputs": [
    {
     "name": "stdout",
     "output_type": "stream",
     "text": [
      "('pera', 'banana', 'maça', 'limão', 'laranja', 'cajá', 'abil', 'morango', 'mamão')\n"
     ]
    },
    {
     "data": {
      "text/plain": [
       "['pera',\n",
       " 'banana',\n",
       " 'maça',\n",
       " 'limão',\n",
       " 'laranja',\n",
       " 'cajá',\n",
       " 'abil',\n",
       " 'morango',\n",
       " 'mamão']"
      ]
     },
     "execution_count": 82,
     "metadata": {},
     "output_type": "execute_result"
    }
   ],
   "source": [
    "outra_tupla = ('pera','banana','maça', 'limão', 'laranja', 'cajá', 'abil', 'morango', 'mamão')\n",
    "print(outra_tupla)\n",
    "\n",
    "[fruta for fruta in outra_tupla]"
   ]
  },
  {
   "cell_type": "markdown",
   "metadata": {},
   "source": [
    "Se quisermos percorrer a tupla pelo índice dos seus elementos é possível utilizar o comando *len* que retornará a quantidade de elementos da tupla, em seguida utilizar o valor retornado como parâmetro do comando *range* que criará uma faixa de números partindo do zero até o tamanho da tupla."
   ]
  },
  {
   "cell_type": "code",
   "execution_count": 74,
   "metadata": {},
   "outputs": [
    {
     "name": "stdout",
     "output_type": "stream",
     "text": [
      "('pera', 'banana', 'maça', 'limão', 'laranja', 'cajá', 'abil', 'morango', 'mamão')\n",
      "pera\n",
      "banana\n",
      "maça\n",
      "limão\n",
      "laranja\n",
      "cajá\n",
      "abil\n",
      "morango\n",
      "mamão\n"
     ]
    }
   ],
   "source": [
    "outra_tupla = ('pera','banana','maça', 'limão', 'laranja', 'cajá', 'abil', 'morango', 'mamão')\n",
    "print(outra_tupla)\n",
    "\n",
    "for i in range(len(outra_tupla)):\n",
    "    print(outra_tupla[i])"
   ]
  },
  {
   "cell_type": "markdown",
   "metadata": {},
   "source": [
    "Outra forma de percorrer o elementos da tupla pelo índice é utilizando um loop while, comparando o uma varíavel partindo do zero com o tamanho da tupla que conseguimos com o comando *len*."
   ]
  },
  {
   "cell_type": "code",
   "execution_count": 81,
   "metadata": {},
   "outputs": [
    {
     "name": "stdout",
     "output_type": "stream",
     "text": [
      "('pera', 'banana', 'maça', 'limão', 'laranja', 'cajá', 'abil', 'morango', 'mamão')\n",
      "pera\n",
      "banana\n",
      "maça\n",
      "limão\n",
      "laranja\n",
      "cajá\n",
      "abil\n",
      "morango\n",
      "mamão\n"
     ]
    }
   ],
   "source": [
    "outra_tupla = ('pera','banana','maça', 'limão', 'laranja', 'cajá', 'abil', 'morango', 'mamão')\n",
    "print(outra_tupla)\n",
    "\n",
    "i = 0\n",
    "while i < len(outra_tupla):\n",
    "    print(outra_tupla[i])\n",
    "    i += 1 #i = i + 1"
   ]
  },
  {
   "cell_type": "markdown",
   "metadata": {},
   "source": [
    "É possível juntar o conteúdo de duas tuplas utilizando o operador '+'."
   ]
  },
  {
   "cell_type": "code",
   "execution_count": 83,
   "metadata": {},
   "outputs": [
    {
     "name": "stdout",
     "output_type": "stream",
     "text": [
      "('pera', 'banana', 'maça', 'limão', 'laranja', 'cajá', 'abil')\n"
     ]
    }
   ],
   "source": [
    "tupla_a = ('pera','banana','maça')\n",
    "tupla_b = ('limão', 'laranja', 'cajá', 'abil')\n",
    "print(tupla_a + tupla_b)"
   ]
  },
  {
   "cell_type": "markdown",
   "metadata": {},
   "source": [
    "Se quisermos multiplicar o conteúdo de uma tupla basta utilizar o operador de multiplicação '*'. "
   ]
  },
  {
   "cell_type": "code",
   "execution_count": 85,
   "metadata": {},
   "outputs": [
    {
     "name": "stdout",
     "output_type": "stream",
     "text": [
      "('pera', 'banana', 'maça', 'pera', 'banana', 'maça', 'pera', 'banana', 'maça')\n"
     ]
    }
   ],
   "source": [
    "tupla_a = ('pera','banana','maça')\n",
    "print(tupla_a * 3)"
   ]
  },
  {
   "cell_type": "markdown",
   "metadata": {},
   "source": [
    "A tupla possui o método *count* que conta quantas vezes um elemento ocorre na tupla."
   ]
  },
  {
   "cell_type": "code",
   "execution_count": 87,
   "metadata": {},
   "outputs": [
    {
     "name": "stdout",
     "output_type": "stream",
     "text": [
      "3\n"
     ]
    }
   ],
   "source": [
    "outra_tupla = ('pera','banana','maça', 'limão', 'laranja', 'cajá', 'maça','abil', 'morango', 'maça','mamão')\n",
    "print(outra_tupla.count('maça'))"
   ]
  },
  {
   "cell_type": "markdown",
   "metadata": {},
   "source": [
    "Para procurar o índice da primeira ocorrência de um elemento na tupla pode-se utilizar o método *index* e passar o elemento a ser procurado."
   ]
  },
  {
   "cell_type": "code",
   "execution_count": 89,
   "metadata": {},
   "outputs": [
    {
     "name": "stdout",
     "output_type": "stream",
     "text": [
      "2\n"
     ]
    }
   ],
   "source": [
    "outra_tupla = ('pera','banana','maça', 'limão', 'laranja', 'cajá', 'maça','abil', 'morango', 'maça','mamão')\n",
    "print(outra_tupla.index('maça'))"
   ]
  },
  {
   "cell_type": "markdown",
   "metadata": {},
   "source": [
    "### 2. Conjuntos <a class=\"anchor\" id=\"heada3c\"></a>\n",
    "\n",
    "Sets (conjuntos) como mencionado anteiormente é uma das quatro estruturas de dados já disponíveis no Python que você pode utilizar para armazenar múltiplos itens.\n",
    "\n",
    "Também não é necessário importar nenhuma biblioteca para utilizar os conjuntos.\n",
    "\n",
    "Conjuntos não permitem elementos duplicados, além disso os seus elementos não são ordenados nem são indexados, e assim como as tuplas seus elementos são imutáveis, mas é possível adicionar novos elementos.\n",
    "\n",
    "Os conjuntos são úteis para quando se precisa de converter uma lista longa de elementos em um conjunto de valores únicos.\n",
    "\n",
    "Os conjuntos são sempre colocados entre chaves, e os itens contidos dentro do conjunto são sempre separados por uma vírgula."
   ]
  },
  {
   "cell_type": "code",
   "execution_count": 92,
   "metadata": {},
   "outputs": [
    {
     "name": "stdout",
     "output_type": "stream",
     "text": [
      "{'pera', 'maça', 'banana'}\n"
     ]
    }
   ],
   "source": [
    "meu_conjunto = {'pera', 'banana','maça'}\n",
    "\n",
    "print(meu_conjunto)"
   ]
  },
  {
   "cell_type": "markdown",
   "metadata": {},
   "source": [
    "Também é possível criar um conjunto utilizando o comando *set* e passando uma lista ou tupla como parâmetro."
   ]
  },
  {
   "cell_type": "code",
   "execution_count": 94,
   "metadata": {},
   "outputs": [
    {
     "name": "stdout",
     "output_type": "stream",
     "text": [
      "{'pera', 'maça', 'banana'}\n"
     ]
    }
   ],
   "source": [
    "meu_conjunto = set(['pera','banana','maça'])\n",
    "\n",
    "print(meu_conjunto)"
   ]
  },
  {
   "cell_type": "code",
   "execution_count": 95,
   "metadata": {},
   "outputs": [
    {
     "name": "stdout",
     "output_type": "stream",
     "text": [
      "{'pera', 'maça', 'banana'}\n"
     ]
    }
   ],
   "source": [
    "meu_conjunto = set(('pera','banana','maça'))\n",
    "\n",
    "print(meu_conjunto)"
   ]
  },
  {
   "cell_type": "markdown",
   "metadata": {},
   "source": [
    "Assim como a lista e a tupla um conjunto aceita elementos de diferentes tipos."
   ]
  },
  {
   "cell_type": "code",
   "execution_count": 99,
   "metadata": {},
   "outputs": [
    {
     "name": "stdout",
     "output_type": "stream",
     "text": [
      "{'pera', 10, True}\n"
     ]
    }
   ],
   "source": [
    "meu_conjunto = {'pera', 10, True}\n",
    "\n",
    "print(meu_conjunto)"
   ]
  },
  {
   "cell_type": "markdown",
   "metadata": {},
   "source": [
    "Para obtermos a quantidade de elementos no conjunto podemos utilizar o comando *len*."
   ]
  },
  {
   "cell_type": "code",
   "execution_count": 96,
   "metadata": {},
   "outputs": [
    {
     "name": "stdout",
     "output_type": "stream",
     "text": [
      "{'pera', 'maça', 'banana'}\n"
     ]
    },
    {
     "data": {
      "text/plain": [
       "3"
      ]
     },
     "execution_count": 96,
     "metadata": {},
     "output_type": "execute_result"
    }
   ],
   "source": [
    "meu_conjunto = {'pera', 'banana','maça'}\n",
    "\n",
    "print(meu_conjunto)\n",
    "\n",
    "len(meu_conjunto)"
   ]
  },
  {
   "cell_type": "markdown",
   "metadata": {},
   "source": [
    "Podemos verificar se uma variável é do tipo conjunto utilizando o comando type."
   ]
  },
  {
   "cell_type": "code",
   "execution_count": 97,
   "metadata": {},
   "outputs": [
    {
     "data": {
      "text/plain": [
       "set"
      ]
     },
     "execution_count": 97,
     "metadata": {},
     "output_type": "execute_result"
    }
   ],
   "source": [
    "meu_conjunto = {'pera', 'banana','maça'}\n",
    "\n",
    "type(meu_conjunto)"
   ]
  },
  {
   "cell_type": "markdown",
   "metadata": {},
   "source": [
    "Conjuntos podem ser convertidos em listas e tuplas. Basta passar como parâmetro o conjunto para os comandos respectivos."
   ]
  },
  {
   "cell_type": "code",
   "execution_count": 105,
   "metadata": {},
   "outputs": [
    {
     "name": "stdout",
     "output_type": "stream",
     "text": [
      "{'laranja', 'morango', 'cajá', 'abil', 'pera', 'limão', 'mamão', 'maça', 'banana'}\n",
      "cajá\n",
      "pera\n"
     ]
    }
   ],
   "source": [
    "meu_conjunto = {'pera','banana','maça', 'limão', 'laranja', 'cajá','abil', 'morango','mamão'}\n",
    "\n",
    "print(meu_conjunto)\n",
    "\n",
    "print(list(meu_conjunto)[2])\n",
    "\n",
    "print(tuple(meu_conjunto)[4])\n"
   ]
  },
  {
   "cell_type": "markdown",
   "metadata": {},
   "source": [
    "Para adicionarmos um novo elemento podemos utilizar o método *add*."
   ]
  },
  {
   "cell_type": "code",
   "execution_count": 106,
   "metadata": {},
   "outputs": [
    {
     "name": "stdout",
     "output_type": "stream",
     "text": [
      "{'pera', 'maça', 'banana'}\n",
      "{'pera', 'mamão', 'maça', 'banana'}\n"
     ]
    }
   ],
   "source": [
    "meu_conjunto = {'pera','banana','maça'}\n",
    "\n",
    "print(meu_conjunto)\n",
    "\n",
    "meu_conjunto.add('mamão')\n",
    "\n",
    "print(meu_conjunto)\n"
   ]
  },
  {
   "cell_type": "markdown",
   "metadata": {},
   "source": [
    "Para adicionarmos elementos de um outro conjunto podemos utilizar o método *update* passando como parâmetro um conjunto."
   ]
  },
  {
   "cell_type": "code",
   "execution_count": 109,
   "metadata": {},
   "outputs": [
    {
     "name": "stdout",
     "output_type": "stream",
     "text": [
      "{'pera', 'maça', 'banana'}\n",
      "{'laranja', 'morango', 'cajá', 'abil', 'pera', 'limão', 'mamão', 'maça', 'banana'}\n"
     ]
    }
   ],
   "source": [
    "meu_conjunto = {'pera','banana','maça'}\n",
    "\n",
    "print(meu_conjunto)\n",
    "\n",
    "meu_conjunto.update({ 'limão', 'laranja', 'cajá','abil', 'morango','mamão'})\n",
    "\n",
    "print(meu_conjunto)\n"
   ]
  },
  {
   "cell_type": "code",
   "execution_count": 110,
   "metadata": {},
   "outputs": [
    {
     "name": "stdout",
     "output_type": "stream",
     "text": [
      "{'pera', 'maça', 'banana'}\n",
      "{'laranja', 'cajá', 'pera', 'limão', 'maça', 'banana'}\n"
     ]
    }
   ],
   "source": [
    "meu_conjunto = {'pera','banana','maça'}\n",
    "\n",
    "print(meu_conjunto)\n",
    "\n",
    "meu_conjunto.update(['limão', 'laranja', 'cajá'] )\n",
    "\n",
    "print(meu_conjunto)\n",
    "\n"
   ]
  },
  {
   "cell_type": "markdown",
   "metadata": {},
   "source": [
    "Para remover um elemento de um conjunto podemos utilizar método *remove* ou *discard*. A principal diferença entre os métodos é que se um elemento a ser descartado não for encontrado utilizando o método remove, irá gerar um mensagem de erro, o que não ocorre quando utilizamos o discard."
   ]
  },
  {
   "cell_type": "code",
   "execution_count": 113,
   "metadata": {},
   "outputs": [
    {
     "name": "stdout",
     "output_type": "stream",
     "text": [
      "{'laranja', 'morango', 'cajá', 'abil', 'pera', 'limão', 'mamão', 'maça', 'banana'}\n",
      "{'laranja', 'morango', 'cajá', 'abil', 'pera', 'limão', 'mamão', 'maça'}\n"
     ]
    }
   ],
   "source": [
    "meu_conjunto = {'pera','banana','maça', 'limão', 'laranja', 'cajá','abil', 'morango','mamão'}\n",
    "\n",
    "print(meu_conjunto)\n",
    "\n",
    "meu_conjunto.remove('banana')\n",
    "\n",
    "print(meu_conjunto)"
   ]
  },
  {
   "cell_type": "code",
   "execution_count": 115,
   "metadata": {},
   "outputs": [
    {
     "name": "stdout",
     "output_type": "stream",
     "text": [
      "{'laranja', 'morango', 'cajá', 'abil', 'pera', 'limão', 'mamão', 'maça', 'banana'}\n",
      "{'laranja', 'morango', 'cajá', 'abil', 'pera', 'limão', 'mamão', 'maça', 'banana'}\n"
     ]
    }
   ],
   "source": [
    "meu_conjunto = {'pera','banana','maça', 'limão', 'laranja', 'cajá','abil', 'morango','mamão'}\n",
    "\n",
    "print(meu_conjunto)\n",
    "\n",
    "meu_conjunto.discard('bananas')\n",
    "\n",
    "print(meu_conjunto)"
   ]
  },
  {
   "cell_type": "markdown",
   "metadata": {},
   "source": [
    "O método *pop* irá remover o último elemento do conjunto. Lembrando que como os conjuntos não são ordenados não é possível saber qual elemento será removido."
   ]
  },
  {
   "cell_type": "code",
   "execution_count": 117,
   "metadata": {},
   "outputs": [
    {
     "name": "stdout",
     "output_type": "stream",
     "text": [
      "{'laranja', 'morango', 'cajá', 'abil', 'pera', 'limão', 'mamão', 'maça', 'banana'}\n",
      "{'morango', 'cajá', 'abil', 'pera', 'limão', 'mamão', 'maça', 'banana'}\n"
     ]
    }
   ],
   "source": [
    "meu_conjunto = {'pera','banana','maça', 'limão', 'laranja', 'cajá','abil', 'morango','mamão'}\n",
    "\n",
    "print(meu_conjunto)\n",
    "\n",
    "meu_conjunto.pop()\n",
    "\n",
    "print(meu_conjunto)"
   ]
  },
  {
   "cell_type": "markdown",
   "metadata": {},
   "source": [
    "O método *clear* irá remover todos os elementos de um conjunto."
   ]
  },
  {
   "cell_type": "code",
   "execution_count": 118,
   "metadata": {},
   "outputs": [
    {
     "name": "stdout",
     "output_type": "stream",
     "text": [
      "{'laranja', 'morango', 'cajá', 'abil', 'pera', 'limão', 'mamão', 'maça', 'banana'}\n",
      "set()\n"
     ]
    }
   ],
   "source": [
    "meu_conjunto = {'pera','banana','maça', 'limão', 'laranja', 'cajá','abil', 'morango','mamão'}\n",
    "\n",
    "print(meu_conjunto)\n",
    "\n",
    "meu_conjunto.clear()\n",
    "\n",
    "print(meu_conjunto)"
   ]
  },
  {
   "cell_type": "markdown",
   "metadata": {},
   "source": [
    "Podemos acessar os elementos individualmente de um conjunto utilizando um loop for utilizando o operador *in*."
   ]
  },
  {
   "cell_type": "code",
   "execution_count": 101,
   "metadata": {},
   "outputs": [
    {
     "name": "stdout",
     "output_type": "stream",
     "text": [
      "{'laranja', 'morango', 'cajá', 'abil', 'pera', 'limão', 'mamão', 'maça', 'banana'}\n",
      "laranja\n",
      "morango\n",
      "cajá\n",
      "abil\n",
      "pera\n",
      "limão\n",
      "mamão\n",
      "maça\n",
      "banana\n"
     ]
    }
   ],
   "source": [
    "meu_conjunto = {'pera','banana','maça', 'limão', 'laranja', 'cajá','abil', 'morango','mamão'}\n",
    "\n",
    "print(meu_conjunto)\n",
    "\n",
    "for x in meu_conjunto:\n",
    "    print(x)"
   ]
  },
  {
   "cell_type": "markdown",
   "metadata": {},
   "source": [
    "É possível criar uma lista percorrendo os elementos de conjunto com um loop for.\n",
    "\n",
    "Observar que a linha inteira do loop está dentro de colchetes."
   ]
  },
  {
   "cell_type": "code",
   "execution_count": 119,
   "metadata": {},
   "outputs": [
    {
     "name": "stdout",
     "output_type": "stream",
     "text": [
      "{'laranja', 'morango', 'cajá', 'abil', 'pera', 'limão', 'mamão', 'maça', 'banana'}\n"
     ]
    },
    {
     "data": {
      "text/plain": [
       "['laranja',\n",
       " 'morango',\n",
       " 'cajá',\n",
       " 'abil',\n",
       " 'pera',\n",
       " 'limão',\n",
       " 'mamão',\n",
       " 'maça',\n",
       " 'banana']"
      ]
     },
     "execution_count": 119,
     "metadata": {},
     "output_type": "execute_result"
    }
   ],
   "source": [
    "meu_conjunto = {'pera','banana','maça', 'limão', 'laranja', 'cajá','abil', 'morango','mamão'}\n",
    "\n",
    "print(meu_conjunto)\n",
    "\n",
    "[element for element in meu_conjunto]"
   ]
  },
  {
   "cell_type": "markdown",
   "metadata": {},
   "source": [
    "## Operações de conjuntos "
   ]
  },
  {
   "cell_type": "markdown",
   "metadata": {},
   "source": [
    "Utilizando o método *union* ou *update* podemos realizar a união de dois conjuntos."
   ]
  },
  {
   "cell_type": "code",
   "execution_count": 120,
   "metadata": {},
   "outputs": [
    {
     "name": "stdout",
     "output_type": "stream",
     "text": [
      "{'laranja', 'morango', 'pera', 'limão', 'mamão', 'maça', 'banana'}\n"
     ]
    }
   ],
   "source": [
    "conj_a = {'pera','banana','maça', 'limão', 'laranja'}\n",
    "conj_b = {'pera','banana','morango','mamão'}\n",
    "\n",
    "print(conj_a.union(conj_b))\n"
   ]
  },
  {
   "cell_type": "code",
   "execution_count": 124,
   "metadata": {},
   "outputs": [
    {
     "name": "stdout",
     "output_type": "stream",
     "text": [
      "{'laranja', 'pera', 'limão', 'maça', 'banana'}\n",
      "{'pera', 'mamão', 'banana', 'morango'}\n",
      "{'laranja', 'morango', 'pera', 'limão', 'mamão', 'maça', 'banana'}\n"
     ]
    }
   ],
   "source": [
    "conj_a = {'pera','banana','maça', 'limão', 'laranja'}\n",
    "conj_b = {'pera','banana','morango','mamão'}\n",
    "\n",
    "print(conj_a)\n",
    "print(conj_b)\n",
    "\n",
    "\n",
    "conj_a.update(conj_b)\n",
    "print(conj_a)"
   ]
  },
  {
   "cell_type": "markdown",
   "metadata": {},
   "source": [
    "Utilizando método *intersection* é possível obter a interseção de dois conjuntos, esse método retorna um novo conjunto."
   ]
  },
  {
   "cell_type": "code",
   "execution_count": 126,
   "metadata": {},
   "outputs": [
    {
     "name": "stdout",
     "output_type": "stream",
     "text": [
      "{'laranja', 'pera', 'limão', 'maça', 'banana'}\n",
      "{'pera', 'mamão', 'banana', 'morango'}\n",
      "{'pera', 'banana'}\n"
     ]
    }
   ],
   "source": [
    "conj_a = {'pera','banana','maça', 'limão', 'laranja'}\n",
    "conj_b = {'pera','banana','morango','mamão'}\n",
    "\n",
    "print(conj_a)\n",
    "print(conj_b)\n",
    "\n",
    "print(conj_a.intersection(conj_b))"
   ]
  },
  {
   "cell_type": "markdown",
   "metadata": {},
   "source": [
    "O método *intersection_update* irá atualizar o conjunto mantendo somente os elementos da interseção."
   ]
  },
  {
   "cell_type": "code",
   "execution_count": 127,
   "metadata": {},
   "outputs": [
    {
     "name": "stdout",
     "output_type": "stream",
     "text": [
      "{'laranja', 'pera', 'limão', 'maça', 'banana'}\n",
      "{'pera', 'mamão', 'banana', 'morango'}\n",
      "{'pera', 'banana'}\n"
     ]
    }
   ],
   "source": [
    "conj_a = {'pera','banana','maça', 'limão', 'laranja'}\n",
    "conj_b = {'pera','banana','morango','mamão'}\n",
    "\n",
    "print(conj_a)\n",
    "print(conj_b)\n",
    "\n",
    "conj_a.intersection_update(conj_b)\n",
    "\n",
    "print(conj_a)"
   ]
  },
  {
   "cell_type": "markdown",
   "metadata": {},
   "source": [
    "Com o método *symmetric_difference* obtemos a união de dois conjuntos sem interseção destes."
   ]
  },
  {
   "cell_type": "code",
   "execution_count": 128,
   "metadata": {},
   "outputs": [
    {
     "name": "stdout",
     "output_type": "stream",
     "text": [
      "{'laranja', 'pera', 'limão', 'maça', 'banana'}\n",
      "{'pera', 'mamão', 'banana', 'morango'}\n",
      "{'laranja', 'morango', 'limão', 'mamão', 'maça'}\n"
     ]
    }
   ],
   "source": [
    "conj_a = {'pera','banana','maça', 'limão', 'laranja'}\n",
    "conj_b = {'pera','banana','morango','mamão'}\n",
    "\n",
    "print(conj_a)\n",
    "print(conj_b)\n",
    "\n",
    "print(conj_a.symmetric_difference(conj_b))  #UNIAO - INTERSECAO"
   ]
  },
  {
   "cell_type": "markdown",
   "metadata": {},
   "source": [
    "Com o método *symmetric_difference_update* atualizamos o conjunto com a união de dois conjuntos sem interseção."
   ]
  },
  {
   "cell_type": "code",
   "execution_count": 129,
   "metadata": {},
   "outputs": [
    {
     "name": "stdout",
     "output_type": "stream",
     "text": [
      "{'laranja', 'pera', 'limão', 'maça', 'banana'}\n",
      "{'pera', 'mamão', 'banana', 'morango'}\n",
      "{'laranja', 'morango', 'limão', 'mamão', 'maça'}\n"
     ]
    }
   ],
   "source": [
    "conj_a = {'pera','banana','maça', 'limão', 'laranja'}\n",
    "conj_b = {'pera','banana','morango','mamão'}\n",
    "\n",
    "print(conj_a)\n",
    "print(conj_b)\n",
    "\n",
    "conj_a.symmetric_difference_update(conj_b)  #UNIAO - INTERSECAO\n",
    "\n",
    "print(conj_a)"
   ]
  },
  {
   "cell_type": "markdown",
   "metadata": {},
   "source": [
    "Com o método *symmetric_difference* podemos verificar a diferença entre dois conjuntos."
   ]
  },
  {
   "cell_type": "code",
   "execution_count": 131,
   "metadata": {},
   "outputs": [
    {
     "name": "stdout",
     "output_type": "stream",
     "text": [
      "{'laranja', 'pera', 'limão', 'maça', 'banana'}\n",
      "{'pera', 'mamão', 'banana', 'morango'}\n",
      "{'laranja', 'limão', 'maça'}\n"
     ]
    }
   ],
   "source": [
    "conj_a = {'pera','banana','maça', 'limão', 'laranja'}\n",
    "conj_b = {'pera','banana','morango','mamão'}\n",
    "\n",
    "print(conj_a)\n",
    "print(conj_b)\n",
    "\n",
    "print(conj_a.symmetric_difference(conj_a.intersection(conj_b))) # A - B"
   ]
  },
  {
   "cell_type": "markdown",
   "metadata": {},
   "source": [
    "Com o método *issubset* é possível verificar se um conjunto é subconjunto. Esse método retorna um booleano."
   ]
  },
  {
   "cell_type": "code",
   "execution_count": 136,
   "metadata": {},
   "outputs": [
    {
     "name": "stdout",
     "output_type": "stream",
     "text": [
      "{'laranja', 'pera', 'limão', 'maça', 'banana'}\n",
      "{'pera', 'banana'}\n",
      "False\n",
      "True\n"
     ]
    }
   ],
   "source": [
    "conj_a = {'pera','banana','maça', 'limão', 'laranja'}\n",
    "conj_b = {'pera','banana'}\n",
    "\n",
    "print(conj_a)\n",
    "print(conj_b)\n",
    "\n",
    "\n",
    "print(conj_a.issubset(conj_b))\n",
    "\n",
    "print(conj_b.issubset(conj_a))\n"
   ]
  },
  {
   "cell_type": "markdown",
   "metadata": {},
   "source": [
    "O método *isdisjoint* verifica se dois conjuntos são disjuntos. Esse método retorna um booleano."
   ]
  },
  {
   "cell_type": "code",
   "execution_count": 138,
   "metadata": {},
   "outputs": [
    {
     "name": "stdout",
     "output_type": "stream",
     "text": [
      "{'laranja', 'pera', 'limão', 'maça', 'banana'}\n",
      "{'mamão', 'morango'}\n"
     ]
    },
    {
     "data": {
      "text/plain": [
       "True"
      ]
     },
     "execution_count": 138,
     "metadata": {},
     "output_type": "execute_result"
    }
   ],
   "source": [
    "conj_a = {'pera','banana','maça', 'limão', 'laranja'}\n",
    "conj_b = {'morango','mamão'}\n",
    "\n",
    "print(conj_a)\n",
    "print(conj_b)\n",
    "\n",
    "conj_a.isdisjoint(conj_b)"
   ]
  },
  {
   "cell_type": "markdown",
   "metadata": {},
   "source": [
    "### 3. Dicionários <a class=\"anchor\" id=\"heada3c\"></a>\n",
    "\n",
    "O dicionário (dictionary) é última das quatro estruturas de dados disponíveis no Python que para se utilizar não é necessário importar nenhuma biblioteca.\n",
    "\n",
    "O dicionário é uma estrutura de dados em que os elementos são compostos de chave e valor, de modo que é possível buscar elementos por suas chaves sem percorrer a coleção.\n",
    "\n",
    "Os seus elementos são ordenados e mutáveis, assim como as listas os dicionários podem crescer ou encolher sob demanda.\n",
    "\n",
    "Obs.: Somente a partir da versão 3.7 o Python dicionários são ordenados, nas versões anteriores são desordenados."
   ]
  },
  {
   "cell_type": "code",
   "execution_count": 9,
   "metadata": {},
   "outputs": [
    {
     "name": "stdout",
     "output_type": "stream",
     "text": [
      "{'casa': 'house', 'caderno': 'notebook', 'caneta': 'pen', 'lapis': 'pencil', 'aluno': 'student', 'professor': 'teacher', 'papel': 'paper', 'borracha': 'eraser', 'clipse': 'paperclip', 'tesoura': 'scissors', 'quadro-negro': 'blackboard', 'cadeira': 'chair', 'lixeira': 'trash', 'régua': 'ruler', 'mesa': 'table', 'tabela': 'table', 'livro': 'book', 'giz': 'chalkboard', 'janela': 'window', 'porta': 'door', 'púlpito': 'pulpit', 'cortina': 'curtain', 'tablado': 'stage', 'ventilador': 'fan'}\n"
     ]
    }
   ],
   "source": [
    "dic_tradutor = {\n",
    "    \"casa\":\"house\",\n",
    "    \"caderno\":\"notebook\",\n",
    "    \"caneta\":\"pen\",\n",
    "    \"lapis\":\"pencil\",\n",
    "    \"aluno\":\"student\",\n",
    "    \"professor\":\"teacher\",\n",
    "    \"papel\":\"paper\",\n",
    "    \"borracha\":\"eraser\",\n",
    "    \"clipse\":\"paperclip\",\n",
    "    \"tesoura\":\"scissors\",\n",
    "    \"quadro-negro\":\"blackboard\",\n",
    "    \"cadeira\":\"chair\",\n",
    "    \"lixeira\":\"trash\",\n",
    "    \"régua\":\"ruler\",\n",
    "    \"mesa\":\"table\",\n",
    "    \"tabela\":\"table\",\n",
    "    \"livro\":\"book\",\n",
    "    \"giz\": \"chalkboard\",\n",
    "    \"janela\":\"window\",\n",
    "    \"porta\":\"door\",\n",
    "    \"púlpito\":\"pulpit\",\n",
    "    \"cortina\":\"curtain\",\n",
    "    \"tablado\":\"stage\",\n",
    "    \"ventilador\":\"fan\"\n",
    "}\n",
    "\n",
    "print(dic_tradutor)"
   ]
  },
  {
   "cell_type": "markdown",
   "metadata": {},
   "source": [
    "Os elementos armazenados em um dicionário podem ser acessados pela chave. Normalmente as chaves são strings."
   ]
  },
  {
   "cell_type": "code",
   "execution_count": 143,
   "metadata": {},
   "outputs": [
    {
     "name": "stdout",
     "output_type": "stream",
     "text": [
      "table\n"
     ]
    }
   ],
   "source": [
    "print(dic_tradutor['mesa'])"
   ]
  },
  {
   "cell_type": "code",
   "execution_count": 149,
   "metadata": {},
   "outputs": [
    {
     "name": "stdout",
     "output_type": "stream",
     "text": [
      "window\n"
     ]
    }
   ],
   "source": [
    "print(dic_tradutor['janela'])"
   ]
  },
  {
   "cell_type": "markdown",
   "metadata": {},
   "source": [
    "Outra forma de acessar o valor de uma chave é utilizando o método *get* passando como parâmetro a chave a qual se quer o valor."
   ]
  },
  {
   "cell_type": "code",
   "execution_count": 10,
   "metadata": {},
   "outputs": [
    {
     "name": "stdout",
     "output_type": "stream",
     "text": [
      "table\n"
     ]
    }
   ],
   "source": [
    "print(dic_tradutor.get('mesa'))"
   ]
  },
  {
   "cell_type": "markdown",
   "metadata": {},
   "source": [
    "Podemos aplicar o comando *len* para verificar a quantidade de elementos que o dicionário possui."
   ]
  },
  {
   "cell_type": "code",
   "execution_count": 150,
   "metadata": {},
   "outputs": [
    {
     "data": {
      "text/plain": [
       "23"
      ]
     },
     "execution_count": 150,
     "metadata": {},
     "output_type": "execute_result"
    }
   ],
   "source": [
    "len(dic_tradutor)"
   ]
  },
  {
   "cell_type": "markdown",
   "metadata": {},
   "source": [
    "Podemos verificar se uma variável é do tipo dicionário utilizando o comando type."
   ]
  },
  {
   "cell_type": "code",
   "execution_count": 151,
   "metadata": {},
   "outputs": [
    {
     "data": {
      "text/plain": [
       "dict"
      ]
     },
     "execution_count": 151,
     "metadata": {},
     "output_type": "execute_result"
    }
   ],
   "source": [
    "type(dic_tradutor)"
   ]
  },
  {
   "cell_type": "markdown",
   "metadata": {},
   "source": [
    "O dicionário não permite chaves duplicadas."
   ]
  },
  {
   "cell_type": "code",
   "execution_count": 6,
   "metadata": {},
   "outputs": [
    {
     "name": "stdout",
     "output_type": "stream",
     "text": [
      "{'Nome': 'Ford Prefect', 'Gênero': 'Masculino', 'Ocupação': 'Pesquisador', 'Planeta': 'Terra'}\n"
     ]
    }
   ],
   "source": [
    "pessoa = { 'Nome': 'Ford Prefect',\n",
    "           'Gênero': 'Masculino',\n",
    "           'Ocupação': 'Pesquisador',\n",
    "           'Planeta': 'Betelgeuse Seven',\n",
    "           'Planeta' : 'Terra'\n",
    "    }\n",
    "\n",
    "print(pessoa)"
   ]
  },
  {
   "cell_type": "markdown",
   "metadata": {},
   "source": [
    "Para listarmos as chaves de um dicionário podemos utilizar o método *keys*."
   ]
  },
  {
   "cell_type": "code",
   "execution_count": 158,
   "metadata": {},
   "outputs": [
    {
     "data": {
      "text/plain": [
       "dict_keys(['casa', 'caderno', 'caneta', 'lapis', 'aluno', 'professor', 'papel', 'borracha', 'clipse', 'tesoura', 'quadro-negro', 'cadeira', 'lixeira', 'régua', 'mesa', 'livro', 'giz', 'janela', 'porta', 'púlpito', 'cortina', 'tablado', 'ventilador'])"
      ]
     },
     "execution_count": 158,
     "metadata": {},
     "output_type": "execute_result"
    }
   ],
   "source": [
    "dic_tradutor.keys()"
   ]
  },
  {
   "cell_type": "markdown",
   "metadata": {},
   "source": [
    "Outra forma de listar as chaver é percorrer todo o dicionário com um loop *for*."
   ]
  },
  {
   "cell_type": "code",
   "execution_count": 161,
   "metadata": {},
   "outputs": [
    {
     "data": {
      "text/plain": [
       "['house',\n",
       " 'notebook',\n",
       " 'pen',\n",
       " 'pencil',\n",
       " 'student',\n",
       " 'teacher',\n",
       " 'paper',\n",
       " 'eraser',\n",
       " 'paperclip',\n",
       " 'scissors',\n",
       " 'blackboard',\n",
       " 'chair',\n",
       " 'trash',\n",
       " 'ruler',\n",
       " 'table',\n",
       " 'book',\n",
       " 'chalkboard',\n",
       " 'window',\n",
       " 'door',\n",
       " 'pulpit',\n",
       " 'curtain',\n",
       " 'stage',\n",
       " 'fan']"
      ]
     },
     "execution_count": 161,
     "metadata": {},
     "output_type": "execute_result"
    }
   ],
   "source": [
    "[dic_tradutor.get(chave) for chave in dic_tradutor.keys()]"
   ]
  },
  {
   "cell_type": "markdown",
   "metadata": {},
   "source": [
    "Utilizando o método *values* exibimos todos o valores do dicionário."
   ]
  },
  {
   "cell_type": "code",
   "execution_count": 162,
   "metadata": {},
   "outputs": [
    {
     "data": {
      "text/plain": [
       "dict_values(['house', 'notebook', 'pen', 'pencil', 'student', 'teacher', 'paper', 'eraser', 'paperclip', 'scissors', 'blackboard', 'chair', 'trash', 'ruler', 'table', 'book', 'chalkboard', 'window', 'door', 'pulpit', 'curtain', 'stage', 'fan'])"
      ]
     },
     "execution_count": 162,
     "metadata": {},
     "output_type": "execute_result"
    }
   ],
   "source": [
    "dic_tradutor.values()"
   ]
  },
  {
   "cell_type": "markdown",
   "metadata": {},
   "source": [
    "Se aplicarmos o comando *list* podemos converter os valores em uma lista."
   ]
  },
  {
   "cell_type": "code",
   "execution_count": 163,
   "metadata": {},
   "outputs": [
    {
     "data": {
      "text/plain": [
       "['house',\n",
       " 'notebook',\n",
       " 'pen',\n",
       " 'pencil',\n",
       " 'student',\n",
       " 'teacher',\n",
       " 'paper',\n",
       " 'eraser',\n",
       " 'paperclip',\n",
       " 'scissors',\n",
       " 'blackboard',\n",
       " 'chair',\n",
       " 'trash',\n",
       " 'ruler',\n",
       " 'table',\n",
       " 'book',\n",
       " 'chalkboard',\n",
       " 'window',\n",
       " 'door',\n",
       " 'pulpit',\n",
       " 'curtain',\n",
       " 'stage',\n",
       " 'fan']"
      ]
     },
     "execution_count": 163,
     "metadata": {},
     "output_type": "execute_result"
    }
   ],
   "source": [
    "list(dic_tradutor.values())"
   ]
  },
  {
   "cell_type": "markdown",
   "metadata": {},
   "source": [
    "Utilizando o método *items* do dicionário retornamos tuplas de valores da chave e seu valor correspondente."
   ]
  },
  {
   "cell_type": "code",
   "execution_count": 164,
   "metadata": {},
   "outputs": [
    {
     "data": {
      "text/plain": [
       "dict_items([('casa', 'house'), ('caderno', 'notebook'), ('caneta', 'pen'), ('lapis', 'pencil'), ('aluno', 'student'), ('professor', 'teacher'), ('papel', 'paper'), ('borracha', 'eraser'), ('clipse', 'paperclip'), ('tesoura', 'scissors'), ('quadro-negro', 'blackboard'), ('cadeira', 'chair'), ('lixeira', 'trash'), ('régua', 'ruler'), ('mesa', 'table'), ('livro', 'book'), ('giz', 'chalkboard'), ('janela', 'window'), ('porta', 'door'), ('púlpito', 'pulpit'), ('cortina', 'curtain'), ('tablado', 'stage'), ('ventilador', 'fan')])"
      ]
     },
     "execution_count": 164,
     "metadata": {},
     "output_type": "execute_result"
    }
   ],
   "source": [
    "dic_tradutor.items()"
   ]
  },
  {
   "cell_type": "markdown",
   "metadata": {},
   "source": [
    "Se aplicarmos o comando *list* criamos uma lista com as tuplas contendo as chaves e os seus valores."
   ]
  },
  {
   "cell_type": "code",
   "execution_count": 165,
   "metadata": {},
   "outputs": [
    {
     "data": {
      "text/plain": [
       "[('casa', 'house'),\n",
       " ('caderno', 'notebook'),\n",
       " ('caneta', 'pen'),\n",
       " ('lapis', 'pencil'),\n",
       " ('aluno', 'student'),\n",
       " ('professor', 'teacher'),\n",
       " ('papel', 'paper'),\n",
       " ('borracha', 'eraser'),\n",
       " ('clipse', 'paperclip'),\n",
       " ('tesoura', 'scissors'),\n",
       " ('quadro-negro', 'blackboard'),\n",
       " ('cadeira', 'chair'),\n",
       " ('lixeira', 'trash'),\n",
       " ('régua', 'ruler'),\n",
       " ('mesa', 'table'),\n",
       " ('livro', 'book'),\n",
       " ('giz', 'chalkboard'),\n",
       " ('janela', 'window'),\n",
       " ('porta', 'door'),\n",
       " ('púlpito', 'pulpit'),\n",
       " ('cortina', 'curtain'),\n",
       " ('tablado', 'stage'),\n",
       " ('ventilador', 'fan')]"
      ]
     },
     "execution_count": 165,
     "metadata": {},
     "output_type": "execute_result"
    }
   ],
   "source": [
    "list(dic_tradutor.items())"
   ]
  },
  {
   "cell_type": "markdown",
   "metadata": {},
   "source": [
    "Abaixo é apresentado uma forma de procurar chaves que contenham um valor específico.\n",
    "\n",
    "Primeiro o dicionário é convertido em uma lista de tuplas, em seguida a lista é percorrida e se verifica se o valor armazenado é encontrado se sim é impresso na tela o nome da chave."
   ]
  },
  {
   "cell_type": "code",
   "execution_count": 172,
   "metadata": {},
   "outputs": [
    {
     "name": "stdout",
     "output_type": "stream",
     "text": [
      "mesa\n",
      "tabela\n"
     ]
    }
   ],
   "source": [
    "pares = list(dic_tradutor.items())\n",
    "\n",
    "valor_procurado = 'table'\n",
    "\n",
    "for (chave, valor) in pares:\n",
    "    if valor == valor_procurado:\n",
    "        print(chave)"
   ]
  },
  {
   "cell_type": "markdown",
   "metadata": {},
   "source": [
    "A versão abaixo realiza o mesmo processo anterior utilizando list comprehension."
   ]
  },
  {
   "cell_type": "code",
   "execution_count": 173,
   "metadata": {},
   "outputs": [
    {
     "data": {
      "text/plain": [
       "['mesa', 'tabela']"
      ]
     },
     "execution_count": 173,
     "metadata": {},
     "output_type": "execute_result"
    }
   ],
   "source": [
    "[chave for (chave, valor) in list(dic_tradutor.items()) if valor == valor_procurado]"
   ]
  },
  {
   "cell_type": "markdown",
   "metadata": {},
   "source": [
    "Para verificar se o dicionário possui um chave especifica podemos utilizar o operador *in* irá retornar um booleano."
   ]
  },
  {
   "cell_type": "code",
   "execution_count": 174,
   "metadata": {},
   "outputs": [
    {
     "data": {
      "text/plain": [
       "True"
      ]
     },
     "execution_count": 174,
     "metadata": {},
     "output_type": "execute_result"
    }
   ],
   "source": [
    "'mesa' in dic_tradutor"
   ]
  },
  {
   "cell_type": "markdown",
   "metadata": {},
   "source": [
    "Para adicionarmos uma nova chave e valor a um dicionário basta atribuir o valor da nova chave com a nova chave entre colchetes."
   ]
  },
  {
   "cell_type": "code",
   "execution_count": 180,
   "metadata": {},
   "outputs": [
    {
     "name": "stdout",
     "output_type": "stream",
     "text": [
      "lecturer\n"
     ]
    }
   ],
   "source": [
    "dic_tradutor.update({\"professor universitário\":\"lecturer\"})\n",
    "\n",
    "print(dic_tradutor.get('professor universitário'))"
   ]
  },
  {
   "cell_type": "markdown",
   "metadata": {},
   "source": [
    "Para modificar um valor armazenado em uma chave, basta atribuir valor da chave do dicionário dentro de colchetes."
   ]
  },
  {
   "cell_type": "code",
   "execution_count": 12,
   "metadata": {},
   "outputs": [
    {
     "name": "stdout",
     "output_type": "stream",
     "text": [
      "lecturer\n"
     ]
    }
   ],
   "source": [
    "dic_tradutor['professor'] = 'lecturer'\n",
    "\n",
    "print(dic_tradutor.get('professor'))"
   ]
  },
  {
   "cell_type": "markdown",
   "metadata": {},
   "source": [
    "Outra maneira de atualizar os dados é utilizando o método *update* passando como parâmetro a chave e o valor a ser atualizado."
   ]
  },
  {
   "cell_type": "code",
   "execution_count": 14,
   "metadata": {},
   "outputs": [
    {
     "name": "stdout",
     "output_type": "stream",
     "text": [
      "teacher\n"
     ]
    }
   ],
   "source": [
    "dic_tradutor.update({\"professor\":\"teacher\"})\n",
    "\n",
    "print(dic_tradutor.get('professor'))"
   ]
  },
  {
   "cell_type": "markdown",
   "metadata": {},
   "source": [
    "Para remover uma chave do dicionário podemos utilizar o método *pop* e passar como parâmetro o valor da chave a ser excluída."
   ]
  },
  {
   "cell_type": "code",
   "execution_count": 181,
   "metadata": {},
   "outputs": [
    {
     "name": "stdout",
     "output_type": "stream",
     "text": [
      "None\n"
     ]
    }
   ],
   "source": [
    "dic_tradutor.pop(\"professor universitário\")\n",
    "\n",
    "print(dic_tradutor.get('professor universitário'))"
   ]
  },
  {
   "cell_type": "markdown",
   "metadata": {},
   "source": [
    "Para retirarmos o último elemento de um dicionário podemos utilizar o método *popitem*."
   ]
  },
  {
   "cell_type": "code",
   "execution_count": 182,
   "metadata": {},
   "outputs": [
    {
     "name": "stdout",
     "output_type": "stream",
     "text": [
      "{'casa': 'house', 'caderno': 'notebook', 'caneta': 'pen', 'lapis': 'pencil', 'aluno': 'student', 'professor': 'teacher', 'papel': 'paper', 'borracha': 'eraser', 'clipse': 'paperclip', 'tesoura': 'scissors', 'quadro-negro': 'blackboard', 'cadeira': 'chair', 'lixeira': 'trash', 'régua': 'ruler', 'mesa': 'table', 'tabela': 'table', 'livro': 'book', 'giz': 'chalkboard', 'janela': 'window', 'porta': 'door', 'púlpito': 'pulpit', 'cortina': 'curtain', 'tablado': 'stage'}\n"
     ]
    }
   ],
   "source": [
    "dic_tradutor.popitem()\n",
    "\n",
    "print(dic_tradutor)"
   ]
  },
  {
   "cell_type": "markdown",
   "metadata": {},
   "source": [
    "Para realizar a cópia das chaves e valores de um dicionário para outro podemos utilizar o método *copy*."
   ]
  },
  {
   "cell_type": "code",
   "execution_count": null,
   "metadata": {},
   "outputs": [],
   "source": [
    "dic_tradutor2 = dic_tradutor.copy()"
   ]
  },
  {
   "cell_type": "markdown",
   "metadata": {},
   "source": [
    "## Parte V"
   ]
  },
  {
   "cell_type": "markdown",
   "metadata": {},
   "source": [
    "### Sumário\n",
    "\n",
    "1. [Funções](#headfunc1)\n",
    "    1. [Declaração e chamada](#headfunc1a)\n",
    "    2. [Parâmetros (ou argumentos) de uma função](#headfunc1b)\n",
    "        1. [Múltiplos parâmetros de uma função](#headfunc1ba)\n",
    "        2. [Parâmetro \"\\*args\" de uma função](#headfunc1bb)\n",
    "        3. [Parâmetros padrão (ou *default*)](#headfunc1bd)\n",
    "    3. [Retornando valores](#headfunc1c)\n",
    "    4. [Funções recursivas](#headfunc1d)\n",
    "    5. [Funções lambda](#headfunc1e)\n",
    "    6. [Módulos](#headfunc1f)"
   ]
  },
  {
   "cell_type": "markdown",
   "metadata": {},
   "source": [
    "### 1. Funções <a class=\"anchor\" id=\"headfunc1\"></a>  \n",
    "\n",
    "Uma função é um pedaço de código que faz alguma tarefa específica e pode ser chamado de qualquer parte do programa quantas vezes desejarmos. Um dos benefícios de usar funções é que evitar repetição de código, ou seja, você pode simplesmente definnir a função uma vez e utilizá-la diversas vezes ao invés de escrever o mesmo código várias vezes. Outro benefício é que se você desejar alterar ou corrigir alguma coisa mais tarde, é mais fácil alterar em um único lugar."
   ]
  },
  {
   "cell_type": "markdown",
   "metadata": {},
   "source": [
    "### 1. A. Declaração e chamada <a class=\"anchor\" id=\"headfunc1a\"></a> \n",
    "\n",
    "No Python, uma função é declarada da seguinte maneira:\n",
    "\n",
    "```python\n",
    "def nome_funcao():\n",
    "    bloco_comandos\n",
    "```\n",
    "\n",
    "O termo `def` define uma função. Seguido deste termo, há o nome da função (`nome_função`) e os possíveis parâmetros (ou argumentos) entre parênteses. Um parâmetro é um valor que é fornecido à função quando é chamada para que possa realizar alguma ação baseada nele. Porém, não é obrigatório definir parâmetros; nesse caso, não há valor entre parênteses, como no exemplo acima.\n",
    "\n",
    "Para chamar uma função, basta escrever seu nome seguido de parênteses (com ou sem parâmetros).\n",
    "\n",
    "```python\n",
    "nome_funcao()\n",
    "```"
   ]
  },
  {
   "cell_type": "code",
   "execution_count": 4,
   "metadata": {},
   "outputs": [],
   "source": [
    "# Exemplo de definição de função sem parâmetros\n",
    "# Ao ser chamada, a função irá imprimir na tela a frase definida abaixo\n",
    "def minha_funcao():\n",
    "    print(\"Olá, minha primeira função\")"
   ]
  },
  {
   "cell_type": "code",
   "execution_count": 5,
   "metadata": {
    "scrolled": true
   },
   "outputs": [
    {
     "name": "stdout",
     "output_type": "stream",
     "text": [
      "Olá, minha primeira função\n"
     ]
    }
   ],
   "source": [
    "minha_funcao()"
   ]
  },
  {
   "cell_type": "markdown",
   "metadata": {},
   "source": [
    "### 1. B. Parâmetros (ou argumentos) de uma função <a class=\"anchor\" id=\"headfunc1b\"></a> \n",
    "\n",
    "Uma função com parâmetros terá a seguinte estrutura:\n",
    "\n",
    "```python\n",
    "def nome_funcao(parametro1):\n",
    "    bloco_comandos\n",
    "```\n",
    "\n",
    "No exemplo acima, a função possui 1 parâmetro/argumento de nome `parametro1` (a escolha do nome é arbitrária) que é utilizado no `bloco_comandos`. Para chamar uma função com argumentos, é feito o seguinte:\n",
    "\n",
    "```python\n",
    "nome_funcao(valor)\n",
    "```\n",
    "ou\n",
    "```python\n",
    "nome_funcao(parametro1=valor)\n",
    "```\n",
    "\n",
    "No primeiro caso, `valor` é passo diretamente para função como valor do parâmetro `parametro1`. É também possível realizar o segundo caso, explicitando o valor de `parametro1`."
   ]
  },
  {
   "cell_type": "code",
   "execution_count": 8,
   "metadata": {},
   "outputs": [
    {
     "name": "stdout",
     "output_type": "stream",
     "text": [
      "Olá, minha primeira função Função do Cadu.\n"
     ]
    }
   ],
   "source": [
    "def minha_funcao(meus_argumentos):\n",
    "    print(\"Olá, minha primeira função\", meus_argumentos)\n",
    "    \n",
    "    \n",
    "minha_funcao('Função do Cadu.')"
   ]
  },
  {
   "cell_type": "code",
   "execution_count": 9,
   "metadata": {},
   "outputs": [],
   "source": [
    "def calcula_fatorial(n):\n",
    "    fat = 1\n",
    "    for i in range(1,n+1):\n",
    "        fat *= i\n",
    "\n",
    "    print('O fatorial de',n, 'é',fat)"
   ]
  },
  {
   "cell_type": "code",
   "execution_count": 12,
   "metadata": {},
   "outputs": [
    {
     "name": "stdout",
     "output_type": "stream",
     "text": [
      "O fatorial de 5 é 120\n"
     ]
    }
   ],
   "source": [
    "calcula_fatorial(5)"
   ]
  },
  {
   "cell_type": "code",
   "execution_count": 12,
   "metadata": {},
   "outputs": [
    {
     "name": "stdout",
     "output_type": "stream",
     "text": [
      "O fatorial de 5 é 120\n"
     ]
    }
   ],
   "source": [
    "calcula_fatorial(n=5)"
   ]
  },
  {
   "cell_type": "markdown",
   "metadata": {},
   "source": [
    "### 1. B. a. Múltiplos parâmetros de uma função <a class=\"anchor\" id=\"headfunc1ba\"></a>\n",
    "\n",
    "Uma função pode ter vários parâmetros. Nesse caso, eles são separados por vírgula, da seguinte forma:\n",
    "\n",
    "```python\n",
    "def nome_funcao(parametro1, parametro2):\n",
    "    bloco_comandos\n",
    "```\n",
    "\n",
    "Para chamar uma função com argumentos é realizado o mesmo que no exemplo anterior:\n",
    "\n",
    "```python\n",
    "nome_funcao(valor1, valor2)\n",
    "```\n",
    "ou\n",
    "```python\n",
    "nome_funcao(parametro1=valor1, parametro2=valor2)\n",
    "```\n",
    "\n",
    "Sendo `valor1` o valor para o `parametro1` e `valor2` o valor para o `parametro2`.\n",
    "\n",
    "**OBSERVAÇÃO**: Se, na chamada da função, não for informado diretamente o valor de cada parâmetro (como no segundo exemplo), então o Python irá interpretar pela ordem de chamada, ou seja, o `valor1` refere-se ao valor do `parametro1` por ser o primeiro a ser chamado enquanto o `valor2` refere-se ao valor do `parametro2` por ter sido chamado em segundo lugar. Logo, segue a ordem que é definida na definição da função."
   ]
  },
  {
   "cell_type": "code",
   "execution_count": 15,
   "metadata": {},
   "outputs": [],
   "source": [
    "def divide(numerador, denominador):\n",
    "    quociente = numerador // denominador\n",
    "    resto = numerador % denominador\n",
    "    \n",
    "    print(\"O resto da divisão de\",numerador,\"por\",denominador,\"é quociente\",quociente,\"e resto\", resto)"
   ]
  },
  {
   "cell_type": "code",
   "execution_count": 16,
   "metadata": {},
   "outputs": [
    {
     "name": "stdout",
     "output_type": "stream",
     "text": [
      "O resto da divisão de 7 por 3 é quociente 2 e resto 1\n"
     ]
    }
   ],
   "source": [
    "divide(7, 3)"
   ]
  },
  {
   "cell_type": "code",
   "execution_count": 18,
   "metadata": {},
   "outputs": [
    {
     "name": "stdout",
     "output_type": "stream",
     "text": [
      "O resto da divisão de 7 por 3 é quociente 2 e resto 1\n"
     ]
    }
   ],
   "source": [
    "divide(denominador = 3, numerador = 7)"
   ]
  },
  {
   "cell_type": "markdown",
   "metadata": {},
   "source": [
    "### 1. B. b. Parâmetro \"\\*args\" de uma função <a class=\"anchor\" id=\"headfunc1bb\"></a>\n",
    "\n",
    "Em certas situações, não sabemos com antecedência o número de argumentos que serão passados para uma função. O Python permite lidar com esse tipo de situação por meio de chamadas de função com um número arbitrário de argumentos. Na definição da função, usamos um asterisco (**\\***), tradicionalmente chamado de **\\*args**, antes do nome do parâmetro para denotar este tipo de argumento.\n",
    "\n",
    "```python\n",
    "def nome_funcao(*args):\n",
    "    bloco_comandos\n",
    "```\n",
    "\n",
    "No exemplo acima, o parâmetro `*args` permite que vários argumentos sejam definos na chamada da função. Todos os valores passados serão agrupados em uma variável de mesmo nome do parâmetro da função do tipo tupla. Por exemplo:\n",
    "\n",
    "```python\n",
    "nome_funcao(valor1, valor2, valor3)\n",
    "```\n",
    "\n",
    "No exemplo acima, a função é chamada com vários valores (que podem ser de diversos tipos). Esses valores serão agrupados em uma variável do tipo tupla, `(valor1, valor2, valor3)` de nome `args`. \n",
    "\n",
    "**OBS**: O nome `args` é opcional, poderia ser qualquer outro nome."
   ]
  },
  {
   "cell_type": "code",
   "execution_count": 31,
   "metadata": {},
   "outputs": [
    {
     "name": "stdout",
     "output_type": "stream",
     "text": [
      "{'A'}\n"
     ]
    }
   ],
   "source": [
    "# Exemplo de dois conjuntos\n",
    "setA = {'A','E','D'}\n",
    "setB = {'A','B','C'}\n",
    "\n",
    "# Interseção do conjunto A com B\n",
    "setA.intersection(setB)\n",
    "print(setA.intersection(setB))"
   ]
  },
  {
   "cell_type": "code",
   "execution_count": 32,
   "metadata": {},
   "outputs": [],
   "source": [
    "# Função que pode receber N listas distintas e irá calcular a interseção entre todas elas\n",
    "def intersecao(*listas):\n",
    "    \n",
    "    # Transforma a primeira lista em conjunto\n",
    "    lista_final = set(listas[0])\n",
    "    \n",
    "    # Percorre cada lista\n",
    "    for element in listas:\n",
    "        # Calcula a interseção entre a primeira lista e todas as outras listas\n",
    "        lista_final = lista_final.intersection(set(element))\n",
    "\n",
    "    print(lista_final)"
   ]
  },
  {
   "cell_type": "code",
   "execution_count": 36,
   "metadata": {},
   "outputs": [
    {
     "name": "stdout",
     "output_type": "stream",
     "text": [
      "{'B'}\n"
     ]
    }
   ],
   "source": [
    "intersecao(['A','B','C'], ['D','B','M'], ['M','B','Z'], ['N','K','B'])"
   ]
  },
  {
   "cell_type": "markdown",
   "metadata": {},
   "source": [
    "### 1. B. c. Parâmetro \"**kwargs\" de uma função <a class=\"anchor\" id=\"headfunc1bc\"></a>\n",
    "\n",
    "Além do asterisco (\\*) para poder passar um número qualquer de argumentos para uma função, o Python também possui a sintaxe do asterisco duplo (\\*\\*), tradicionalmente chamado de **\\*\\*kwargs** (\"*keyword arguments*\"). A ideia é similar ao parâmetro **\\*args**, porém, ao invés de usar uma tupla, utiliza um dicionário.\n",
    "\n",
    "```python\n",
    "def nome_funcao(**kwargs):\n",
    "    bloco_comandos\n",
    "```\n",
    "\n",
    "Logo, a chamar a função, é necessário nomear os argumentos. Todos os valores passados serão agrupados em uma variável de mesmo nome do parâmetro da função do tipo dicionário. Por exemplo:\n",
    "\n",
    "```python\n",
    "nome_funcao(a=valor1, b=valor2, c=valor3)\n",
    "```\n",
    "\n",
    "No exemplo acima, a função é chamada com vários valores (que podem ser de diversos tipos). Esses valores serão agrupados em uma variável do tipo dicionário, `{a: valor1, b: valor2, c: valor3}` de nome `kwargs`. \n",
    "\n",
    "**OBS**: O nome `kwargs` é opcional, poderia ser qualquer outro nome."
   ]
  },
  {
   "cell_type": "code",
   "execution_count": 50,
   "metadata": {},
   "outputs": [],
   "source": [
    "# Mesmo exemplo da função que obtém a interseção de várias listas\n",
    "def intersecao(**listas):\n",
    "    \n",
    "    # É possível acessar o primeiro elemento (Lista A) com `listas['list_A']`, já que listas é um dicionário\n",
    "    lista_final = set(listas['list_A'])\n",
    "    \n",
    "    for chave in listas.keys():\n",
    "        element = listas[chave]\n",
    "        lista_final = lista_final.intersection(set(element))\n",
    "        \n",
    "    print(lista_final)"
   ]
  },
  {
   "cell_type": "code",
   "execution_count": 51,
   "metadata": {},
   "outputs": [
    {
     "name": "stdout",
     "output_type": "stream",
     "text": [
      "{'B'}\n"
     ]
    }
   ],
   "source": [
    "# Na chamada, cada valor precisa ser nomeado\n",
    "intersecao(list_A = ['A','B','C'], list_B = ['D','B','M'], list_C = ['M','B','Z'], list_D = ['N','K','B'])"
   ]
  },
  {
   "cell_type": "code",
   "execution_count": 52,
   "metadata": {},
   "outputs": [
    {
     "name": "stdout",
     "output_type": "stream",
     "text": [
      "O meu nome é Carlos\n",
      "O meu sobrenome é Mello\n"
     ]
    }
   ],
   "source": [
    "def minha_funcao(**argumentos):\n",
    "    print(\"O meu nome é\", argumentos['primeiro_nome'])\n",
    "    print(\"O meu sobrenome é\", argumentos['ultimo_nome'])\n",
    "\n",
    "minha_funcao(primeiro_nome=\"Carlos\", ultimo_nome=\"Mello\")"
   ]
  },
  {
   "cell_type": "markdown",
   "metadata": {},
   "source": [
    "### 1. B. d. Parâmetros padrão (ou *default*) <a class=\"anchor\" id=\"headfunc1bd\"></a>\n",
    "\n",
    "É possível definir um valor padrão para os parâmetros de uma função. Nesse caso, quando o usuário não informar um valor para aquele argumento, o Python irá atribuir o valor padrão automaticamente.\n",
    "\n",
    "```python\n",
    "def nome_funcao(arg=2):\n",
    "    bloco_comandos\n",
    "```\n",
    "\n",
    "No exemplo acima, o parâmetro `arg` tem o valor `2` por padrão. Logo, a função pode ser chamada de duas formas:\n",
    "\n",
    "```python\n",
    "nome_funcao(3)\n",
    "```\n",
    "Nesse caso, o valor de `arg` passará a ser `3`.\n",
    "\n",
    "```python\n",
    "nome_funcao()\n",
    "```\n",
    "\n",
    "Nesse caso, o valor de `arg` é o definido por padrão, que é `2`."
   ]
  },
  {
   "cell_type": "code",
   "execution_count": 54,
   "metadata": {},
   "outputs": [],
   "source": [
    "def minha_funcao(primeiro_nome=\"José\", ultimo_nome=\"da Silva\"):\n",
    "    \n",
    "    print(\"O meu nome é\", primeiro_nome)\n",
    "    print(\"O meu sobrenome é\", ultimo_nome)"
   ]
  },
  {
   "cell_type": "code",
   "execution_count": 55,
   "metadata": {},
   "outputs": [
    {
     "name": "stdout",
     "output_type": "stream",
     "text": [
      "O meu nome é Carlos\n",
      "O meu sobrenome é Mello\n"
     ]
    }
   ],
   "source": [
    "minha_funcao(primeiro_nome=\"Carlos\", ultimo_nome=\"Mello\")"
   ]
  },
  {
   "cell_type": "code",
   "execution_count": 56,
   "metadata": {},
   "outputs": [
    {
     "name": "stdout",
     "output_type": "stream",
     "text": [
      "O meu nome é José\n",
      "O meu sobrenome é da Silva\n"
     ]
    }
   ],
   "source": [
    "minha_funcao()"
   ]
  },
  {
   "cell_type": "code",
   "execution_count": 57,
   "metadata": {},
   "outputs": [
    {
     "name": "stdout",
     "output_type": "stream",
     "text": [
      "O meu nome é Carlos\n",
      "O meu sobrenome é da Silva\n"
     ]
    }
   ],
   "source": [
    "minha_funcao(\"Carlos\")"
   ]
  },
  {
   "cell_type": "markdown",
   "metadata": {},
   "source": [
    "### 1. C. Retornando valores <a class=\"anchor\" id=\"headfunc1c\"></a>\n",
    "\n",
    "As funções em Python podem ou não retornar valores, que é realizado pelo termo `return`.\n",
    "\n",
    "```python\n",
    "def nome_funcao():\n",
    "    bloco_comandos\n",
    "    return valor\n",
    "```\n",
    "\n",
    "O valor retornado pode ser qualquer variável, número, expressão, etc."
   ]
  },
  {
   "cell_type": "code",
   "execution_count": 58,
   "metadata": {},
   "outputs": [],
   "source": [
    "def intersecao(*listas):\n",
    "    \n",
    "    lista_final = set(listas[0])\n",
    "    \n",
    "    for element in listas:\n",
    "        lista_final = lista_final.intersection(set(element))\n",
    "\n",
    "    return lista_final"
   ]
  },
  {
   "cell_type": "code",
   "execution_count": 59,
   "metadata": {},
   "outputs": [
    {
     "data": {
      "text/plain": [
       "{'B'}"
      ]
     },
     "execution_count": 59,
     "metadata": {},
     "output_type": "execute_result"
    }
   ],
   "source": [
    "intersecao(['A','B','C'], ['D','B','M'],['M','B','Z'],['N','K','B'])"
   ]
  },
  {
   "cell_type": "code",
   "execution_count": 60,
   "metadata": {},
   "outputs": [],
   "source": [
    "def funcao_produto(x,y):\n",
    "    return x*y"
   ]
  },
  {
   "cell_type": "code",
   "execution_count": 62,
   "metadata": {},
   "outputs": [
    {
     "name": "stdout",
     "output_type": "stream",
     "text": [
      "10\n",
      "21\n"
     ]
    }
   ],
   "source": [
    "print(funcao_produto(5,2))\n",
    "print(funcao_produto(3,7))"
   ]
  },
  {
   "cell_type": "code",
   "execution_count": null,
   "metadata": {},
   "outputs": [],
   "source": [
    "# É possível atribuir o valor retornado em um variável\n",
    "retorno = funcao_produto(5,2)\n",
    "print(retorno)"
   ]
  },
  {
   "cell_type": "markdown",
   "metadata": {},
   "source": [
    "### 1. D. Funções recursivas <a class=\"anchor\" id=\"headfunc1d\"></a>\n",
    "\n",
    "Função recursiva é aquela que invoca a si mesma. Logo, dentro do bloco de comandos de uma função haverá uma chamada para ela mesma. Simplificadamente, possui um efeito similar a um laço. No geral, há uma condição de parada para evitar que a função chame a si eternamente.\n",
    "\n",
    "```python\n",
    "def nome_funcao():\n",
    "    bloco_comandos\n",
    "    nome_funcao()\n",
    "```\n",
    "\n",
    "**OBSERVAÇÃO**: É preciso ter cuidado ao elaborar funções recursivas para que o código não fique preso eternamente em si mesmo."
   ]
  },
  {
   "cell_type": "code",
   "execution_count": 63,
   "metadata": {},
   "outputs": [],
   "source": [
    "def fat(n):\n",
    "    if n == 1:\n",
    "        return 1\n",
    "    else: # Enquanto n não for 1, multiplica n por fat(n-1)\n",
    "        return (n * fat(n-1))"
   ]
  },
  {
   "cell_type": "code",
   "execution_count": 65,
   "metadata": {},
   "outputs": [
    {
     "data": {
      "text/plain": [
       "120"
      ]
     },
     "execution_count": 65,
     "metadata": {},
     "output_type": "execute_result"
    }
   ],
   "source": [
    "fat(5)"
   ]
  },
  {
   "cell_type": "code",
   "execution_count": 19,
   "metadata": {},
   "outputs": [],
   "source": [
    "def fibo(n):\n",
    "    if n <= 0:\n",
    "        return None\n",
    "    elif n == 1:\n",
    "        return 0\n",
    "    elif n == 2:\n",
    "        return 1\n",
    "    else:\n",
    "        return fibo(n-2) + fibo(n-1)"
   ]
  },
  {
   "cell_type": "code",
   "execution_count": 22,
   "metadata": {},
   "outputs": [
    {
     "data": {
      "text/plain": [
       "[0, 1, 1, 2, 3, 5, 8, 13, 21, 34]"
      ]
     },
     "execution_count": 22,
     "metadata": {},
     "output_type": "execute_result"
    }
   ],
   "source": [
    "[fibo(i) for i in range(1,11)]"
   ]
  },
  {
   "cell_type": "markdown",
   "metadata": {},
   "source": [
    "### 1. E. Funções lambda <a class=\"anchor\" id=\"headfunc1e\"></a>\n",
    "\n",
    "No Python, uma expressão `lambda` permite escrever funções anônimas/sem-nome usando apenas uma linha de código. Funções lambda não utilizam o termo `return`, mas sempre retornam o valor da expressão definida. Possui a seguinte sintaxe:\n",
    "\n",
    "\n",
    "``` python\n",
    "func = lambda [ var1, var2, ..., varN ]: expr \n",
    "```\n",
    "\n",
    "Onde `func` é a variável que irá armazenar a função e `var1, var2, ..., varN` são variáveis que representam os argumentos da função e `expr` é qualquer expressão válida em Python envolvendo essas variáveis. Para chamar essa função, usa-se o seguinte:\n",
    "\n",
    "```python\n",
    "func(valor1, valor2, ..., valorN)\n",
    "```"
   ]
  },
  {
   "cell_type": "code",
   "execution_count": 56,
   "metadata": {},
   "outputs": [],
   "source": [
    "import math \n",
    "\n",
    "# Expressão lambda para a função y(x) = 1 / (1 + exp(-x))\n",
    "y = lambda x : 1 / (1 + math.exp(-x))"
   ]
  },
  {
   "cell_type": "code",
   "execution_count": 57,
   "metadata": {},
   "outputs": [],
   "source": [
    "import numpy\n",
    "\n",
    "X = numpy.linspace(-10,10,num=100)"
   ]
  },
  {
   "cell_type": "code",
   "execution_count": 58,
   "metadata": {},
   "outputs": [],
   "source": [
    "Y = [y(x) for x in X]"
   ]
  },
  {
   "cell_type": "code",
   "execution_count": 59,
   "metadata": {},
   "outputs": [
    {
     "data": {
      "text/plain": [
       "<matplotlib.collections.PathCollection at 0x117cc3f70>"
      ]
     },
     "execution_count": 59,
     "metadata": {},
     "output_type": "execute_result"
    },
    {
     "data": {
      "image/png": "[encoded data removed]",
      "text/plain": [
       "<Figure size 432x288 with 1 Axes>"
      ]
     },
     "metadata": {
      "needs_background": "light"
     },
     "output_type": "display_data"
    }
   ],
   "source": [
    "import matplotlib.pyplot as plt\n",
    "\n",
    "plt.scatter(X,Y)"
   ]
  },
  {
   "cell_type": "markdown",
   "metadata": {},
   "source": [
    "#### Funções ``filter`` e ``map``\n",
    "\n",
    "\n",
    "* ``filter(fn, iterable)`` : retorna em uma coleção os elementos do `iterable` cuja a função `fn` é verdadeira."
   ]
  },
  {
   "cell_type": "code",
   "execution_count": 26,
   "metadata": {},
   "outputs": [
    {
     "data": {
      "text/plain": [
       "[0, 1, 2, 3, 4]"
      ]
     },
     "execution_count": 26,
     "metadata": {},
     "output_type": "execute_result"
    }
   ],
   "source": [
    "x = [i for i in range(0,10)]\n",
    "\n",
    "[elem for elem in filter(lambda x : x < 5,x)]"
   ]
  },
  {
   "cell_type": "markdown",
   "metadata": {},
   "source": [
    "* ``map(fn, iterable)`` : retorna o valor da função `fn` para cada elemento do `iterable` em uma coleção."
   ]
  },
  {
   "cell_type": "code",
   "execution_count": 30,
   "metadata": {},
   "outputs": [
    {
     "data": {
      "text/plain": [
       "[0, 3, 6, 9, 12, 15, 18, 21, 24, 27]"
      ]
     },
     "execution_count": 30,
     "metadata": {},
     "output_type": "execute_result"
    }
   ],
   "source": [
    "x = [i for i in range(0,10)]\n",
    "\n",
    "[elem for elem in map(lambda x: x*3, x)]"
   ]
  },
  {
   "cell_type": "markdown",
   "metadata": {},
   "source": [
    "### 1. F. Módulos <a class=\"anchor\" id=\"headfunc1f\"></a>"
   ]
  },
  {
   "cell_type": "markdown",
   "metadata": {},
   "source": [
    "criando um módulo"
   ]
  },
  {
   "cell_type": "code",
   "execution_count": null,
   "metadata": {},
   "outputs": [],
   "source": []
  },
  {
   "cell_type": "markdown",
   "metadata": {},
   "source": [
    "usando um módulo"
   ]
  },
  {
   "cell_type": "code",
   "execution_count": 113,
   "metadata": {},
   "outputs": [],
   "source": [
    "import mymodule1 as mm"
   ]
  },
  {
   "cell_type": "code",
   "execution_count": 114,
   "metadata": {},
   "outputs": [
    {
     "data": {
      "text/plain": [
       "<matplotlib.collections.PathCollection at 0x1183513a0>"
      ]
     },
     "execution_count": 114,
     "metadata": {},
     "output_type": "execute_result"
    },
    {
     "data": {
      "image/png": "[encoded data removed]",
      "text/plain": [
       "<Figure size 432x288 with 1 Axes>"
      ]
     },
     "metadata": {
      "needs_background": "light"
     },
     "output_type": "display_data"
    }
   ],
   "source": [
    "X = numpy.linspace(-10,10,num=100)\n",
    "Y = [mm.sigmoid(x) for x in X]\n",
    "\n",
    "plt.scatter(X,Y)"
   ]
  },
  {
   "cell_type": "code",
   "execution_count": 115,
   "metadata": {},
   "outputs": [
    {
     "data": {
      "text/plain": [
       "<matplotlib.collections.PathCollection at 0x117f72580>"
      ]
     },
     "execution_count": 115,
     "metadata": {},
     "output_type": "execute_result"
    },
    {
     "data": {
      "image/png": "[encoded data removed]",
      "text/plain": [
       "<Figure size 432x288 with 1 Axes>"
      ]
     },
     "metadata": {
      "needs_background": "light"
     },
     "output_type": "display_data"
    }
   ],
   "source": [
    "X = numpy.linspace(-10,10,num=100)\n",
    "Y = [mm.cubo(x) for x in X]\n",
    "\n",
    "plt.scatter(X,Y)"
   ]
  },
  {
   "cell_type": "markdown",
   "metadata": {},
   "source": [
    "variáveis em módulo"
   ]
  },
  {
   "cell_type": "code",
   "execution_count": 116,
   "metadata": {},
   "outputs": [
    {
     "name": "stdout",
     "output_type": "stream",
     "text": [
      "2.718281\n"
     ]
    }
   ],
   "source": [
    "print(mm.constantes[\"E\"])"
   ]
  },
  {
   "cell_type": "code",
   "execution_count": 117,
   "metadata": {},
   "outputs": [
    {
     "name": "stdout",
     "output_type": "stream",
     "text": [
      "3.141592\n"
     ]
    }
   ],
   "source": [
    "print(mm.constantes[\"PI\"])"
   ]
  },
  {
   "cell_type": "markdown",
   "metadata": {},
   "source": [
    "Nomeando e re-nomeando um módulo"
   ]
  },
  {
   "cell_type": "code",
   "execution_count": 118,
   "metadata": {},
   "outputs": [],
   "source": [
    "import mymodule1 as mm"
   ]
  },
  {
   "cell_type": "markdown",
   "metadata": {},
   "source": [
    "Módulos nativos (built-in)"
   ]
  },
  {
   "cell_type": "code",
   "execution_count": null,
   "metadata": {},
   "outputs": [],
   "source": []
  },
  {
   "cell_type": "markdown",
   "metadata": {},
   "source": [
    "listando as funções de um módulo"
   ]
  },
  {
   "cell_type": "code",
   "execution_count": 112,
   "metadata": {},
   "outputs": [
    {
     "data": {
      "text/plain": [
       "['__builtins__',\n",
       " '__cached__',\n",
       " '__doc__',\n",
       " '__file__',\n",
       " '__loader__',\n",
       " '__name__',\n",
       " '__package__',\n",
       " '__spec__',\n",
       " 'constantes',\n",
       " 'cubo',\n",
       " 'math',\n",
       " 'sigmoid']"
      ]
     },
     "execution_count": 112,
     "metadata": {},
     "output_type": "execute_result"
    }
   ],
   "source": [
    "dir(mymodule1)"
   ]
  },
  {
   "cell_type": "markdown",
   "metadata": {},
   "source": [
    "importando um módulo"
   ]
  },
  {
   "cell_type": "code",
   "execution_count": null,
   "metadata": {},
   "outputs": [],
   "source": []
  }
 ],
 "metadata": {
  "kernelspec": {
   "display_name": "Python 3",
   "language": "python",
   "name": "python3"
  },
  "language_info": {
   "codemirror_mode": {
    "name": "ipython",
    "version": 3
   },
   "file_extension": ".py",
   "mimetype": "text/x-python",
   "name": "python",
   "nbconvert_exporter": "python",
   "pygments_lexer": "ipython3",
   "version": "3.8.3"
  }
 },
 "nbformat": 4,
 "nbformat_minor": 4
}
